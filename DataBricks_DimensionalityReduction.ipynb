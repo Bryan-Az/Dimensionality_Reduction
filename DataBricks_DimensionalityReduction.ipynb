{
 "cells": [
  {
   "cell_type": "code",
   "execution_count": 0,
   "metadata": {
    "application/vnd.databricks.v1+cell": {
     "cellMetadata": {
      "byteLimit": 2048000,
      "rowLimit": 10000
     },
     "inputWidgets": {},
     "nuid": "3e1abd5e-f98c-4134-a943-019bb90017a7",
     "showTitle": false,
     "title": ""
    }
   },
   "outputs": [
    {
     "output_type": "stream",
     "name": "stdout",
     "output_type": "stream",
     "text": [
      "\u001B[43mNote: you may need to restart the kernel using dbutils.library.restartPython() to use updated packages.\u001B[0m\nCollecting gensim\n  Downloading gensim-4.3.2-cp310-cp310-manylinux_2_17_x86_64.manylinux2014_x86_64.whl (26.5 MB)\n     ━━━━━━━━━━━━━━━━━━━━━━━━━━━━━━━━━━━━━━━━ 26.5/26.5 MB 38.1 MB/s eta 0:00:00\nRequirement already satisfied: scipy>=1.7.0 in /databricks/python3/lib/python3.10/site-packages (from gensim) (1.10.0)\nRequirement already satisfied: smart-open>=1.8.1 in /databricks/python3/lib/python3.10/site-packages (from gensim) (5.2.1)\nRequirement already satisfied: numpy>=1.18.5 in /databricks/python3/lib/python3.10/site-packages (from gensim) (1.23.5)\nInstalling collected packages: gensim\nSuccessfully installed gensim-4.3.2\n\u001B[43mNote: you may need to restart the kernel using dbutils.library.restartPython() to use updated packages.\u001B[0m\n"
     ]
    }
   ],
   "source": [
    "!pip install gensim"
   ]
  },
  {
   "cell_type": "code",
   "execution_count": 0,
   "metadata": {
    "application/vnd.databricks.v1+cell": {
     "cellMetadata": {
      "byteLimit": 2048000,
      "rowLimit": 10000
     },
     "inputWidgets": {},
     "nuid": "61826ddb-85bb-4c08-a059-45a4d8c5c059",
     "showTitle": false,
     "title": ""
    }
   },
   "outputs": [],
   "source": [
    "dbutils.library.restartPython()"
   ]
  },
  {
   "cell_type": "code",
   "execution_count": 0,
   "metadata": {
    "application/vnd.databricks.v1+cell": {
     "cellMetadata": {
      "byteLimit": 2048000,
      "rowLimit": 10000
     },
     "inputWidgets": {},
     "nuid": "693f2f12-1ac6-4c11-9045-ff61bac25377",
     "showTitle": false,
     "title": ""
    }
   },
   "outputs": [],
   "source": [
    "import pandas as pd\n",
    "import os\n",
    "import shutil\n",
    "import sys\n",
    "import zipfile\n",
    "import gensim\n",
    "import re\n",
    "import warnings\n",
    "warnings.filterwarnings('ignore')"
   ]
  },
  {
   "cell_type": "markdown",
   "metadata": {
    "application/vnd.databricks.v1+cell": {
     "cellMetadata": {},
     "inputWidgets": {},
     "nuid": "d006ff38-af75-4b0e-915a-ab2cff85b5fa",
     "showTitle": false,
     "title": ""
    }
   },
   "source": [
    "# Data Loading\n",
    "## Data from the Kaggle Synthetic dataset from Inscribo on Cyber-Security Attacks\n"
   ]
  },
  {
   "cell_type": "code",
   "execution_count": 0,
   "metadata": {
    "application/vnd.databricks.v1+cell": {
     "cellMetadata": {
      "byteLimit": 2048000,
      "rowLimit": 10000
     },
     "inputWidgets": {},
     "nuid": "3b06c6b3-e7f8-440a-be5b-aaebea111031",
     "showTitle": false,
     "title": ""
    }
   },
   "outputs": [],
   "source": [
    "# dims redux is the databricks workspace/catalog, csv_data is the volume\n",
    "inscribo_cybersecurity_df = pd.read_csv('/Volumes/dims_redux/default/csv_data/cybersecurity_attacks.csv')"
   ]
  },
  {
   "cell_type": "code",
   "execution_count": 0,
   "metadata": {
    "application/vnd.databricks.v1+cell": {
     "cellMetadata": {
      "byteLimit": 2048000,
      "rowLimit": 10000
     },
     "inputWidgets": {},
     "nuid": "7fdc4399-76f2-4932-9823-7fdd991706fd",
     "showTitle": false,
     "title": ""
    }
   },
   "outputs": [
    {
     "output_type": "execute_result",
     "data": {
      "text/plain": [
       "(40000, 25)"
      ]
     },
     "execution_count": 6,
     "metadata": {},
     "output_type": "execute_result"
    }
   ],
   "source": [
    "inscribo_cybersecurity_df.shape"
   ]
  },
  {
   "cell_type": "code",
   "execution_count": 0,
   "metadata": {
    "application/vnd.databricks.v1+cell": {
     "cellMetadata": {
      "byteLimit": 2048000,
      "rowLimit": 10000
     },
     "inputWidgets": {},
     "nuid": "75f3889a-33fc-4650-a4f5-07b830f3484e",
     "showTitle": false,
     "title": ""
    }
   },
   "outputs": [],
   "source": [
    "# as the dataset is huge, we will take a sample of 1000 rows\n",
    "inscribo_cybersecurity_df = inscribo_cybersecurity_df.sample(1000)"
   ]
  },
  {
   "cell_type": "code",
   "execution_count": 0,
   "metadata": {
    "application/vnd.databricks.v1+cell": {
     "cellMetadata": {
      "byteLimit": 2048000,
      "rowLimit": 10000
     },
     "inputWidgets": {},
     "nuid": "2a138678-2ae9-441e-be6c-7741ef2384be",
     "showTitle": false,
     "title": ""
    }
   },
   "outputs": [
    {
     "output_type": "execute_result",
     "data": {
      "text/html": [
       "<div>\n",
       "<style scoped>\n",
       "    .dataframe tbody tr th:only-of-type {\n",
       "        vertical-align: middle;\n",
       "    }\n",
       "\n",
       "    .dataframe tbody tr th {\n",
       "        vertical-align: top;\n",
       "    }\n",
       "\n",
       "    .dataframe thead th {\n",
       "        text-align: right;\n",
       "    }\n",
       "</style>\n",
       "<table border=\"1\" class=\"dataframe\">\n",
       "  <thead>\n",
       "    <tr style=\"text-align: right;\">\n",
       "      <th></th>\n",
       "      <th>Timestamp</th>\n",
       "      <th>Source IP Address</th>\n",
       "      <th>Destination IP Address</th>\n",
       "      <th>Source Port</th>\n",
       "      <th>Destination Port</th>\n",
       "      <th>Protocol</th>\n",
       "      <th>Packet Length</th>\n",
       "      <th>Packet Type</th>\n",
       "      <th>Traffic Type</th>\n",
       "      <th>Payload Data</th>\n",
       "      <th>Malware Indicators</th>\n",
       "      <th>Anomaly Scores</th>\n",
       "      <th>Alerts/Warnings</th>\n",
       "      <th>Attack Type</th>\n",
       "      <th>Attack Signature</th>\n",
       "      <th>Action Taken</th>\n",
       "      <th>Severity Level</th>\n",
       "      <th>User Information</th>\n",
       "      <th>Device Information</th>\n",
       "      <th>Network Segment</th>\n",
       "      <th>Geo-location Data</th>\n",
       "      <th>Proxy Information</th>\n",
       "      <th>Firewall Logs</th>\n",
       "      <th>IDS/IPS Alerts</th>\n",
       "      <th>Log Source</th>\n",
       "    </tr>\n",
       "  </thead>\n",
       "  <tbody>\n",
       "    <tr>\n",
       "      <th>8281</th>\n",
       "      <td>2020-07-07 18:24:09</td>\n",
       "      <td>52.16.186.255</td>\n",
       "      <td>143.159.62.60</td>\n",
       "      <td>12191</td>\n",
       "      <td>18355</td>\n",
       "      <td>TCP</td>\n",
       "      <td>1480</td>\n",
       "      <td>Control</td>\n",
       "      <td>HTTP</td>\n",
       "      <td>Itaque necessitatibus iure dolores occaecati. ...</td>\n",
       "      <td>IoC Detected</td>\n",
       "      <td>33.27</td>\n",
       "      <td>NaN</td>\n",
       "      <td>Intrusion</td>\n",
       "      <td>Known Pattern B</td>\n",
       "      <td>Ignored</td>\n",
       "      <td>Medium</td>\n",
       "      <td>Hrishita Dave</td>\n",
       "      <td>Mozilla/5.0 (iPod; U; CPU iPhone OS 4_3 like M...</td>\n",
       "      <td>Segment C</td>\n",
       "      <td>Thane, Jharkhand</td>\n",
       "      <td>NaN</td>\n",
       "      <td>Log Data</td>\n",
       "      <td>NaN</td>\n",
       "      <td>Server</td>\n",
       "    </tr>\n",
       "    <tr>\n",
       "      <th>28232</th>\n",
       "      <td>2021-04-19 08:54:04</td>\n",
       "      <td>161.108.110.93</td>\n",
       "      <td>171.250.86.109</td>\n",
       "      <td>4193</td>\n",
       "      <td>62318</td>\n",
       "      <td>TCP</td>\n",
       "      <td>1032</td>\n",
       "      <td>Control</td>\n",
       "      <td>DNS</td>\n",
       "      <td>Iure facilis odit quisquam officia earum ratio...</td>\n",
       "      <td>NaN</td>\n",
       "      <td>92.29</td>\n",
       "      <td>Alert Triggered</td>\n",
       "      <td>Malware</td>\n",
       "      <td>Known Pattern B</td>\n",
       "      <td>Blocked</td>\n",
       "      <td>Low</td>\n",
       "      <td>Arhaan Amble</td>\n",
       "      <td>Mozilla/5.0 (compatible; MSIE 8.0; Windows NT ...</td>\n",
       "      <td>Segment B</td>\n",
       "      <td>Chennai, Manipur</td>\n",
       "      <td>89.236.139.44</td>\n",
       "      <td>Log Data</td>\n",
       "      <td>NaN</td>\n",
       "      <td>Server</td>\n",
       "    </tr>\n",
       "    <tr>\n",
       "      <th>14078</th>\n",
       "      <td>2021-12-05 14:27:16</td>\n",
       "      <td>2.28.162.6</td>\n",
       "      <td>29.219.167.39</td>\n",
       "      <td>32211</td>\n",
       "      <td>7377</td>\n",
       "      <td>ICMP</td>\n",
       "      <td>228</td>\n",
       "      <td>Control</td>\n",
       "      <td>HTTP</td>\n",
       "      <td>Modi porro excepturi totam cupiditate beatae f...</td>\n",
       "      <td>IoC Detected</td>\n",
       "      <td>13.57</td>\n",
       "      <td>Alert Triggered</td>\n",
       "      <td>DDoS</td>\n",
       "      <td>Known Pattern A</td>\n",
       "      <td>Logged</td>\n",
       "      <td>Low</td>\n",
       "      <td>Indranil Wable</td>\n",
       "      <td>Mozilla/5.0 (Windows 95) AppleWebKit/531.0 (KH...</td>\n",
       "      <td>Segment B</td>\n",
       "      <td>Hapur, Assam</td>\n",
       "      <td>209.175.230.229</td>\n",
       "      <td>NaN</td>\n",
       "      <td>NaN</td>\n",
       "      <td>Firewall</td>\n",
       "    </tr>\n",
       "    <tr>\n",
       "      <th>16368</th>\n",
       "      <td>2020-08-08 18:36:47</td>\n",
       "      <td>54.22.11.21</td>\n",
       "      <td>37.134.249.227</td>\n",
       "      <td>11758</td>\n",
       "      <td>32857</td>\n",
       "      <td>UDP</td>\n",
       "      <td>1377</td>\n",
       "      <td>Data</td>\n",
       "      <td>HTTP</td>\n",
       "      <td>Deleniti eius commodi fugiat. Esse quae consec...</td>\n",
       "      <td>NaN</td>\n",
       "      <td>71.89</td>\n",
       "      <td>Alert Triggered</td>\n",
       "      <td>Intrusion</td>\n",
       "      <td>Known Pattern A</td>\n",
       "      <td>Ignored</td>\n",
       "      <td>High</td>\n",
       "      <td>Vritika Guha</td>\n",
       "      <td>Mozilla/5.0 (iPod; U; CPU iPhone OS 4_1 like M...</td>\n",
       "      <td>Segment A</td>\n",
       "      <td>Fatehpur, Kerala</td>\n",
       "      <td>NaN</td>\n",
       "      <td>Log Data</td>\n",
       "      <td>NaN</td>\n",
       "      <td>Server</td>\n",
       "    </tr>\n",
       "    <tr>\n",
       "      <th>11039</th>\n",
       "      <td>2021-04-13 15:15:18</td>\n",
       "      <td>135.14.191.235</td>\n",
       "      <td>71.201.67.196</td>\n",
       "      <td>64579</td>\n",
       "      <td>49922</td>\n",
       "      <td>UDP</td>\n",
       "      <td>363</td>\n",
       "      <td>Data</td>\n",
       "      <td>DNS</td>\n",
       "      <td>Numquam accusamus maiores modi autem commodi. ...</td>\n",
       "      <td>NaN</td>\n",
       "      <td>52.72</td>\n",
       "      <td>NaN</td>\n",
       "      <td>Intrusion</td>\n",
       "      <td>Known Pattern A</td>\n",
       "      <td>Blocked</td>\n",
       "      <td>Low</td>\n",
       "      <td>Umang Krishnamurthy</td>\n",
       "      <td>Mozilla/5.0 (Macintosh; U; Intel Mac OS X 10_1...</td>\n",
       "      <td>Segment B</td>\n",
       "      <td>Hajipur, Tripura</td>\n",
       "      <td>25.82.156.123</td>\n",
       "      <td>NaN</td>\n",
       "      <td>NaN</td>\n",
       "      <td>Firewall</td>\n",
       "    </tr>\n",
       "  </tbody>\n",
       "</table>\n",
       "</div>"
      ],
      "text/plain": [
       "                 Timestamp Source IP Address  ... IDS/IPS Alerts  Log Source\n",
       "8281   2020-07-07 18:24:09     52.16.186.255  ...            NaN      Server\n",
       "28232  2021-04-19 08:54:04    161.108.110.93  ...            NaN      Server\n",
       "14078  2021-12-05 14:27:16        2.28.162.6  ...            NaN    Firewall\n",
       "16368  2020-08-08 18:36:47       54.22.11.21  ...            NaN      Server\n",
       "11039  2021-04-13 15:15:18    135.14.191.235  ...            NaN    Firewall\n",
       "\n",
       "[5 rows x 25 columns]"
      ]
     },
     "execution_count": 8,
     "metadata": {},
     "output_type": "execute_result"
    }
   ],
   "source": [
    "inscribo_cybersecurity_df.head()"
   ]
  },
  {
   "cell_type": "markdown",
   "metadata": {
    "application/vnd.databricks.v1+cell": {
     "cellMetadata": {},
     "inputWidgets": {},
     "nuid": "d94695cc-b331-4043-b78b-77953cdb0091",
     "showTitle": false,
     "title": ""
    }
   },
   "source": [
    "## Data from the National Gallery of Art's (NGA) OpenData Project\n"
   ]
  },
  {
   "cell_type": "code",
   "execution_count": 0,
   "metadata": {
    "application/vnd.databricks.v1+cell": {
     "cellMetadata": {
      "byteLimit": 2048000,
      "rowLimit": 10000
     },
     "inputWidgets": {},
     "nuid": "79c6ee6c-5eaa-4bae-9196-8e30322ebb4c",
     "showTitle": false,
     "title": ""
    }
   },
   "outputs": [],
   "source": [
    "# importing latin american & non latin american seperately\n",
    "# sampling the same amount as is in the latinamerican for the non-latinamerican (to make ratio 50:50),\n",
    "# and then concatenating them \n",
    "latinamerican_art = pd.read_csv('/Volumes/dims_redux/default/csv_data/latinamerican_art.csv', on_bad_lines='skip')\n",
    "nonlatinamerican_art = pd.read_csv('/Volumes/dims_redux/default/csv_data/non_latinamerican_art.csv', on_bad_lines='skip').sample(len(latinamerican_art))\n",
    "nga_art_sample = pd.concat([latinamerican_art, nonlatinamerican_art])"
   ]
  },
  {
   "cell_type": "code",
   "execution_count": 0,
   "metadata": {
    "application/vnd.databricks.v1+cell": {
     "cellMetadata": {
      "byteLimit": 2048000,
      "rowLimit": 10000
     },
     "inputWidgets": {},
     "nuid": "255db1d4-617e-4902-aa09-a1ec4db8077b",
     "showTitle": false,
     "title": ""
    }
   },
   "outputs": [
    {
     "output_type": "execute_result",
     "data": {
      "text/html": [
       "<div>\n",
       "<style scoped>\n",
       "    .dataframe tbody tr th:only-of-type {\n",
       "        vertical-align: middle;\n",
       "    }\n",
       "\n",
       "    .dataframe tbody tr th {\n",
       "        vertical-align: top;\n",
       "    }\n",
       "\n",
       "    .dataframe thead th {\n",
       "        text-align: right;\n",
       "    }\n",
       "</style>\n",
       "<table border=\"1\" class=\"dataframe\">\n",
       "  <thead>\n",
       "    <tr style=\"text-align: right;\">\n",
       "      <th></th>\n",
       "      <th>iiifurl</th>\n",
       "      <th>iiifthumburl</th>\n",
       "      <th>accessioned</th>\n",
       "      <th>title</th>\n",
       "      <th>displayDate_created</th>\n",
       "      <th>roletype</th>\n",
       "      <th>role</th>\n",
       "      <th>forwarddisplayname</th>\n",
       "      <th>birthyear</th>\n",
       "      <th>deathyear</th>\n",
       "      <th>ulanid</th>\n",
       "      <th>artistofngaobject</th>\n",
       "      <th>nationality</th>\n",
       "      <th>constituenttype</th>\n",
       "      <th>beginyear_artistAssigned</th>\n",
       "      <th>endyear_artistAssigned</th>\n",
       "      <th>country_artistAssigned</th>\n",
       "      <th>zipcode_artistAssigned</th>\n",
       "      <th>medium</th>\n",
       "      <th>dimensions</th>\n",
       "      <th>inscription</th>\n",
       "      <th>markings</th>\n",
       "      <th>attribution</th>\n",
       "      <th>visualBrowserClassification</th>\n",
       "      <th>parentID</th>\n",
       "      <th>isVirtual</th>\n",
       "      <th>portfolio</th>\n",
       "      <th>series</th>\n",
       "      <th>volume</th>\n",
       "      <th>watermarks</th>\n",
       "      <th>uuid</th>\n",
       "      <th>viewtype</th>\n",
       "      <th>sequence</th>\n",
       "      <th>width</th>\n",
       "      <th>height</th>\n",
       "      <th>maxpixels</th>\n",
       "      <th>assistivetext</th>\n",
       "      <th>depictstmsobjectid</th>\n",
       "      <th>objectid</th>\n",
       "      <th>constituentid</th>\n",
       "    </tr>\n",
       "  </thead>\n",
       "  <tbody>\n",
       "    <tr>\n",
       "      <th>0</th>\n",
       "      <td>https://api.nga.gov/iiif/00513eca-9795-4076-b5...</td>\n",
       "      <td>https://api.nga.gov/iiif/00513eca-9795-4076-b5...</td>\n",
       "      <td>1</td>\n",
       "      <td>Un poco alegre y graciosa (Somewhat gay and gr...</td>\n",
       "      <td>Mexican, 1902 - 2002</td>\n",
       "      <td>artist</td>\n",
       "      <td>artist</td>\n",
       "      <td>Manuel Álvarez Bravo</td>\n",
       "      <td>1902</td>\n",
       "      <td>2002.0</td>\n",
       "      <td>500028115.0</td>\n",
       "      <td>1</td>\n",
       "      <td>Mexican</td>\n",
       "      <td>individual</td>\n",
       "      <td>NaN</td>\n",
       "      <td>NaN</td>\n",
       "      <td>NaN</td>\n",
       "      <td>NaN</td>\n",
       "      <td>gelatin silver print</td>\n",
       "      <td>image: 17.3 x 24.2 cm (6 13/16 x 9 1/2 in.)\\nm...</td>\n",
       "      <td>signed by artist, lower right in graphite: M. ...</td>\n",
       "      <td>lower left of mount, embossed Strathmore seal</td>\n",
       "      <td>Manuel Álvarez Bravo</td>\n",
       "      <td>photograph</td>\n",
       "      <td>153112.0</td>\n",
       "      <td>0.0</td>\n",
       "      <td>portfolio of 15 prints</td>\n",
       "      <td>NaN</td>\n",
       "      <td>NaN</td>\n",
       "      <td>NaN</td>\n",
       "      <td>00513eca-9795-4076-b5dd-63abfb5dd036</td>\n",
       "      <td>primary</td>\n",
       "      <td>0</td>\n",
       "      <td>4000</td>\n",
       "      <td>2871.0</td>\n",
       "      <td>640.0</td>\n",
       "      <td>NaN</td>\n",
       "      <td>150712</td>\n",
       "      <td>150712.0</td>\n",
       "      <td>16466.0</td>\n",
       "    </tr>\n",
       "    <tr>\n",
       "      <th>1</th>\n",
       "      <td>https://api.nga.gov/iiif/00513eca-9795-4076-b5...</td>\n",
       "      <td>https://api.nga.gov/iiif/00513eca-9795-4076-b5...</td>\n",
       "      <td>1</td>\n",
       "      <td>Un poco alegre y graciosa (Somewhat gay and gr...</td>\n",
       "      <td>Mexican, 1902 - 2002</td>\n",
       "      <td>artist</td>\n",
       "      <td>artist</td>\n",
       "      <td>Manuel Álvarez Bravo</td>\n",
       "      <td>1902</td>\n",
       "      <td>2002.0</td>\n",
       "      <td>500028115.0</td>\n",
       "      <td>1</td>\n",
       "      <td>Mexican</td>\n",
       "      <td>individual</td>\n",
       "      <td>NaN</td>\n",
       "      <td>NaN</td>\n",
       "      <td>NaN</td>\n",
       "      <td>NaN</td>\n",
       "      <td>gelatin silver print</td>\n",
       "      <td>image: 17.3 x 24.2 cm (6 13/16 x 9 1/2 in.)\\nm...</td>\n",
       "      <td>signed by artist, lower right in graphite: M. ...</td>\n",
       "      <td>lower left of mount, embossed Strathmore seal</td>\n",
       "      <td>Manuel Álvarez Bravo</td>\n",
       "      <td>photograph</td>\n",
       "      <td>153112.0</td>\n",
       "      <td>0.0</td>\n",
       "      <td>portfolio of 15 prints</td>\n",
       "      <td>NaN</td>\n",
       "      <td>NaN</td>\n",
       "      <td>NaN</td>\n",
       "      <td>00513eca-9795-4076-b5dd-63abfb5dd036</td>\n",
       "      <td>primary</td>\n",
       "      <td>0</td>\n",
       "      <td>4000</td>\n",
       "      <td>2871.0</td>\n",
       "      <td>640.0</td>\n",
       "      <td>NaN</td>\n",
       "      <td>150712</td>\n",
       "      <td>150712.0</td>\n",
       "      <td>16466.0</td>\n",
       "    </tr>\n",
       "    <tr>\n",
       "      <th>2</th>\n",
       "      <td>https://api.nga.gov/iiif/00822cb7-0744-42c4-b6...</td>\n",
       "      <td>https://api.nga.gov/iiif/00822cb7-0744-42c4-b6...</td>\n",
       "      <td>1</td>\n",
       "      <td>Garden of Hecelchácan</td>\n",
       "      <td>Mexican, 1908 - 2003</td>\n",
       "      <td>artist</td>\n",
       "      <td>artist</td>\n",
       "      <td>Alfredo Zalce</td>\n",
       "      <td>1908</td>\n",
       "      <td>2003.0</td>\n",
       "      <td>500065904.0</td>\n",
       "      <td>1</td>\n",
       "      <td>Mexican</td>\n",
       "      <td>individual</td>\n",
       "      <td>NaN</td>\n",
       "      <td>NaN</td>\n",
       "      <td>NaN</td>\n",
       "      <td>NaN</td>\n",
       "      <td>lithograph</td>\n",
       "      <td>NaN</td>\n",
       "      <td>NaN</td>\n",
       "      <td>NaN</td>\n",
       "      <td>Alfredo Zalce</td>\n",
       "      <td>print</td>\n",
       "      <td>NaN</td>\n",
       "      <td>0.0</td>\n",
       "      <td>Yucatan: no.8</td>\n",
       "      <td>Yucatan: no.8 [1946.21.182-189]</td>\n",
       "      <td>NaN</td>\n",
       "      <td>NaN</td>\n",
       "      <td>00822cb7-0744-42c4-b68f-18219af95980</td>\n",
       "      <td>primary</td>\n",
       "      <td>0</td>\n",
       "      <td>4000</td>\n",
       "      <td>3405.0</td>\n",
       "      <td>640.0</td>\n",
       "      <td>NaN</td>\n",
       "      <td>33520</td>\n",
       "      <td>33520.0</td>\n",
       "      <td>3452.0</td>\n",
       "    </tr>\n",
       "    <tr>\n",
       "      <th>3</th>\n",
       "      <td>https://api.nga.gov/iiif/00822cb7-0744-42c4-b6...</td>\n",
       "      <td>https://api.nga.gov/iiif/00822cb7-0744-42c4-b6...</td>\n",
       "      <td>1</td>\n",
       "      <td>Garden of Hecelchácan</td>\n",
       "      <td>Mexican, 1908 - 2003</td>\n",
       "      <td>artist</td>\n",
       "      <td>artist</td>\n",
       "      <td>Alfredo Zalce</td>\n",
       "      <td>1908</td>\n",
       "      <td>2003.0</td>\n",
       "      <td>500065904.0</td>\n",
       "      <td>1</td>\n",
       "      <td>Mexican</td>\n",
       "      <td>individual</td>\n",
       "      <td>NaN</td>\n",
       "      <td>NaN</td>\n",
       "      <td>NaN</td>\n",
       "      <td>NaN</td>\n",
       "      <td>lithograph</td>\n",
       "      <td>NaN</td>\n",
       "      <td>NaN</td>\n",
       "      <td>NaN</td>\n",
       "      <td>Alfredo Zalce</td>\n",
       "      <td>print</td>\n",
       "      <td>NaN</td>\n",
       "      <td>0.0</td>\n",
       "      <td>Yucatan: no.8</td>\n",
       "      <td>Yucatan: no.8 [1946.21.182-189]</td>\n",
       "      <td>NaN</td>\n",
       "      <td>NaN</td>\n",
       "      <td>00822cb7-0744-42c4-b68f-18219af95980</td>\n",
       "      <td>primary</td>\n",
       "      <td>0</td>\n",
       "      <td>4000</td>\n",
       "      <td>3405.0</td>\n",
       "      <td>640.0</td>\n",
       "      <td>NaN</td>\n",
       "      <td>33520</td>\n",
       "      <td>33520.0</td>\n",
       "      <td>3452.0</td>\n",
       "    </tr>\n",
       "    <tr>\n",
       "      <th>4</th>\n",
       "      <td>https://api.nga.gov/iiif/015dcd20-3dda-448f-a5...</td>\n",
       "      <td>https://api.nga.gov/iiif/015dcd20-3dda-448f-a5...</td>\n",
       "      <td>1</td>\n",
       "      <td>Calavera Maderista</td>\n",
       "      <td>Mexican, 1851 - 1913</td>\n",
       "      <td>artist</td>\n",
       "      <td>artist</td>\n",
       "      <td>José Guadalupe Posada</td>\n",
       "      <td>1851</td>\n",
       "      <td>1913.0</td>\n",
       "      <td>500032573.0</td>\n",
       "      <td>1</td>\n",
       "      <td>Mexican</td>\n",
       "      <td>individual</td>\n",
       "      <td>NaN</td>\n",
       "      <td>NaN</td>\n",
       "      <td>NaN</td>\n",
       "      <td>NaN</td>\n",
       "      <td>relief etching (zinc)</td>\n",
       "      <td>NaN</td>\n",
       "      <td>NaN</td>\n",
       "      <td>NaN</td>\n",
       "      <td>José Guadalupe Posada</td>\n",
       "      <td>print</td>\n",
       "      <td>NaN</td>\n",
       "      <td>0.0</td>\n",
       "      <td>NaN</td>\n",
       "      <td>NaN</td>\n",
       "      <td>NaN</td>\n",
       "      <td>NaN</td>\n",
       "      <td>015dcd20-3dda-448f-a51b-618588eaff18</td>\n",
       "      <td>primary</td>\n",
       "      <td>0</td>\n",
       "      <td>1806</td>\n",
       "      <td>4000.0</td>\n",
       "      <td>NaN</td>\n",
       "      <td>NaN</td>\n",
       "      <td>30476</td>\n",
       "      <td>30476.0</td>\n",
       "      <td>5265.0</td>\n",
       "    </tr>\n",
       "  </tbody>\n",
       "</table>\n",
       "</div>"
      ],
      "text/plain": [
       "                                             iiifurl  ... constituentid\n",
       "0  https://api.nga.gov/iiif/00513eca-9795-4076-b5...  ...       16466.0\n",
       "1  https://api.nga.gov/iiif/00513eca-9795-4076-b5...  ...       16466.0\n",
       "2  https://api.nga.gov/iiif/00822cb7-0744-42c4-b6...  ...        3452.0\n",
       "3  https://api.nga.gov/iiif/00822cb7-0744-42c4-b6...  ...        3452.0\n",
       "4  https://api.nga.gov/iiif/015dcd20-3dda-448f-a5...  ...        5265.0\n",
       "\n",
       "[5 rows x 40 columns]"
      ]
     },
     "execution_count": 13,
     "metadata": {},
     "output_type": "execute_result"
    }
   ],
   "source": [
    "nga_art_sample.head()"
   ]
  },
  {
   "cell_type": "markdown",
   "metadata": {
    "application/vnd.databricks.v1+cell": {
     "cellMetadata": {},
     "inputWidgets": {},
     "nuid": "fe550d2b-898b-47e9-bf24-e7f0419a2361",
     "showTitle": false,
     "title": ""
    }
   },
   "source": [
    "# Data Pre-Processing\n",
    "## Processing data from Inscribo"
   ]
  },
  {
   "cell_type": "code",
   "execution_count": 0,
   "metadata": {
    "application/vnd.databricks.v1+cell": {
     "cellMetadata": {
      "byteLimit": 2048000,
      "rowLimit": 10000
     },
     "inputWidgets": {},
     "nuid": "00ff7044-f845-496c-aea3-44446222c07d",
     "showTitle": false,
     "title": ""
    }
   },
   "outputs": [
    {
     "output_type": "execute_result",
     "data": {
      "text/plain": [
       "Index(['Timestamp', 'Source IP Address', 'Destination IP Address',\n",
       "       'Source Port', 'Destination Port', 'Protocol', 'Packet Length',\n",
       "       'Packet Type', 'Traffic Type', 'Payload Data', 'Malware Indicators',\n",
       "       'Anomaly Scores', 'Alerts/Warnings', 'Attack Type', 'Attack Signature',\n",
       "       'Action Taken', 'Severity Level', 'User Information',\n",
       "       'Device Information', 'Network Segment', 'Geo-location Data',\n",
       "       'Proxy Information', 'Firewall Logs', 'IDS/IPS Alerts', 'Log Source'],\n",
       "      dtype='object')"
      ]
     },
     "execution_count": 14,
     "metadata": {},
     "output_type": "execute_result"
    }
   ],
   "source": [
    "inscribo_cybersecurity_df.columns"
   ]
  },
  {
   "cell_type": "code",
   "execution_count": 0,
   "metadata": {
    "application/vnd.databricks.v1+cell": {
     "cellMetadata": {
      "byteLimit": 2048000,
      "rowLimit": 10000
     },
     "inputWidgets": {},
     "nuid": "d4abfd46-3c67-4abf-92ce-841a1dcf84d3",
     "showTitle": false,
     "title": ""
    }
   },
   "outputs": [
    {
     "output_type": "execute_result",
     "data": {
      "text/html": [
       "<div>\n",
       "<style scoped>\n",
       "    .dataframe tbody tr th:only-of-type {\n",
       "        vertical-align: middle;\n",
       "    }\n",
       "\n",
       "    .dataframe tbody tr th {\n",
       "        vertical-align: top;\n",
       "    }\n",
       "\n",
       "    .dataframe thead th {\n",
       "        text-align: right;\n",
       "    }\n",
       "</style>\n",
       "<table border=\"1\" class=\"dataframe\">\n",
       "  <thead>\n",
       "    <tr style=\"text-align: right;\">\n",
       "      <th></th>\n",
       "      <th>Source Port</th>\n",
       "      <th>Destination Port</th>\n",
       "      <th>Packet Length</th>\n",
       "      <th>Anomaly Scores</th>\n",
       "    </tr>\n",
       "  </thead>\n",
       "  <tbody>\n",
       "    <tr>\n",
       "      <th>count</th>\n",
       "      <td>1000.000000</td>\n",
       "      <td>1000.000000</td>\n",
       "      <td>1000.000000</td>\n",
       "      <td>1000.000000</td>\n",
       "    </tr>\n",
       "    <tr>\n",
       "      <th>mean</th>\n",
       "      <td>33203.126000</td>\n",
       "      <td>33981.047000</td>\n",
       "      <td>805.197000</td>\n",
       "      <td>50.850130</td>\n",
       "    </tr>\n",
       "    <tr>\n",
       "      <th>std</th>\n",
       "      <td>18714.098998</td>\n",
       "      <td>18747.557063</td>\n",
       "      <td>408.876948</td>\n",
       "      <td>29.535216</td>\n",
       "    </tr>\n",
       "    <tr>\n",
       "      <th>min</th>\n",
       "      <td>1101.000000</td>\n",
       "      <td>1117.000000</td>\n",
       "      <td>64.000000</td>\n",
       "      <td>0.100000</td>\n",
       "    </tr>\n",
       "    <tr>\n",
       "      <th>25%</th>\n",
       "      <td>16371.500000</td>\n",
       "      <td>17864.000000</td>\n",
       "      <td>452.500000</td>\n",
       "      <td>25.375000</td>\n",
       "    </tr>\n",
       "    <tr>\n",
       "      <th>50%</th>\n",
       "      <td>32966.500000</td>\n",
       "      <td>32978.000000</td>\n",
       "      <td>799.500000</td>\n",
       "      <td>51.270000</td>\n",
       "    </tr>\n",
       "    <tr>\n",
       "      <th>75%</th>\n",
       "      <td>49695.250000</td>\n",
       "      <td>50554.000000</td>\n",
       "      <td>1163.250000</td>\n",
       "      <td>76.370000</td>\n",
       "    </tr>\n",
       "    <tr>\n",
       "      <th>max</th>\n",
       "      <td>65471.000000</td>\n",
       "      <td>65502.000000</td>\n",
       "      <td>1500.000000</td>\n",
       "      <td>99.930000</td>\n",
       "    </tr>\n",
       "  </tbody>\n",
       "</table>\n",
       "</div>"
      ],
      "text/plain": [
       "        Source Port  Destination Port  Packet Length  Anomaly Scores\n",
       "count   1000.000000       1000.000000    1000.000000     1000.000000\n",
       "mean   33203.126000      33981.047000     805.197000       50.850130\n",
       "std    18714.098998      18747.557063     408.876948       29.535216\n",
       "min     1101.000000       1117.000000      64.000000        0.100000\n",
       "25%    16371.500000      17864.000000     452.500000       25.375000\n",
       "50%    32966.500000      32978.000000     799.500000       51.270000\n",
       "75%    49695.250000      50554.000000    1163.250000       76.370000\n",
       "max    65471.000000      65502.000000    1500.000000       99.930000"
      ]
     },
     "execution_count": 15,
     "metadata": {},
     "output_type": "execute_result"
    }
   ],
   "source": [
    "inscribo_cybersecurity_df.describe() # describe helps identify the columns with numerical values as it calculates the mean, std, min, max, etc."
   ]
  },
  {
   "cell_type": "code",
   "execution_count": 0,
   "metadata": {
    "application/vnd.databricks.v1+cell": {
     "cellMetadata": {
      "byteLimit": 2048000,
      "rowLimit": 10000
     },
     "inputWidgets": {},
     "nuid": "b6cafaf4-67af-4b91-b052-76ec3ef50baa",
     "showTitle": false,
     "title": ""
    }
   },
   "outputs": [
    {
     "output_type": "execute_result",
     "data": {
      "text/html": [
       "<div>\n",
       "<style scoped>\n",
       "    .dataframe tbody tr th:only-of-type {\n",
       "        vertical-align: middle;\n",
       "    }\n",
       "\n",
       "    .dataframe tbody tr th {\n",
       "        vertical-align: top;\n",
       "    }\n",
       "\n",
       "    .dataframe thead th {\n",
       "        text-align: right;\n",
       "    }\n",
       "</style>\n",
       "<table border=\"1\" class=\"dataframe\">\n",
       "  <thead>\n",
       "    <tr style=\"text-align: right;\">\n",
       "      <th></th>\n",
       "      <th>Source Port</th>\n",
       "      <th>Destination Port</th>\n",
       "      <th>Packet Length</th>\n",
       "      <th>Anomaly Scores</th>\n",
       "      <th>Source IP Address</th>\n",
       "      <th>Destination IP Address</th>\n",
       "    </tr>\n",
       "  </thead>\n",
       "  <tbody>\n",
       "    <tr>\n",
       "      <th>8281</th>\n",
       "      <td>12191</td>\n",
       "      <td>18355</td>\n",
       "      <td>1480</td>\n",
       "      <td>33.27</td>\n",
       "      <td>52.16.186.255</td>\n",
       "      <td>143.159.62.60</td>\n",
       "    </tr>\n",
       "    <tr>\n",
       "      <th>28232</th>\n",
       "      <td>4193</td>\n",
       "      <td>62318</td>\n",
       "      <td>1032</td>\n",
       "      <td>92.29</td>\n",
       "      <td>161.108.110.93</td>\n",
       "      <td>171.250.86.109</td>\n",
       "    </tr>\n",
       "    <tr>\n",
       "      <th>14078</th>\n",
       "      <td>32211</td>\n",
       "      <td>7377</td>\n",
       "      <td>228</td>\n",
       "      <td>13.57</td>\n",
       "      <td>2.28.162.6</td>\n",
       "      <td>29.219.167.39</td>\n",
       "    </tr>\n",
       "    <tr>\n",
       "      <th>16368</th>\n",
       "      <td>11758</td>\n",
       "      <td>32857</td>\n",
       "      <td>1377</td>\n",
       "      <td>71.89</td>\n",
       "      <td>54.22.11.21</td>\n",
       "      <td>37.134.249.227</td>\n",
       "    </tr>\n",
       "    <tr>\n",
       "      <th>11039</th>\n",
       "      <td>64579</td>\n",
       "      <td>49922</td>\n",
       "      <td>363</td>\n",
       "      <td>52.72</td>\n",
       "      <td>135.14.191.235</td>\n",
       "      <td>71.201.67.196</td>\n",
       "    </tr>\n",
       "  </tbody>\n",
       "</table>\n",
       "</div>"
      ],
      "text/plain": [
       "       Source Port  Destination Port  ...  Source IP Address  Destination IP Address\n",
       "8281         12191             18355  ...      52.16.186.255           143.159.62.60\n",
       "28232         4193             62318  ...     161.108.110.93          171.250.86.109\n",
       "14078        32211              7377  ...         2.28.162.6           29.219.167.39\n",
       "16368        11758             32857  ...        54.22.11.21          37.134.249.227\n",
       "11039        64579             49922  ...     135.14.191.235           71.201.67.196\n",
       "\n",
       "[5 rows x 6 columns]"
      ]
     },
     "execution_count": 16,
     "metadata": {},
     "output_type": "execute_result"
    }
   ],
   "source": [
    "selected_cybersecurity_sample = inscribo_cybersecurity_df.loc[:, ['Source Port', 'Destination Port', 'Packet Length', 'Anomaly Scores', 'Source IP Address', 'Destination IP Address']]\n",
    "selected_cybersecurity_sample.head()"
   ]
  },
  {
   "cell_type": "markdown",
   "metadata": {
    "application/vnd.databricks.v1+cell": {
     "cellMetadata": {},
     "inputWidgets": {},
     "nuid": "4e189da6-67a3-4919-8834-bde56a5d8fcd",
     "showTitle": false,
     "title": ""
    }
   },
   "source": [
    "### Filling in missing values\n"
   ]
  },
  {
   "cell_type": "code",
   "execution_count": 0,
   "metadata": {
    "application/vnd.databricks.v1+cell": {
     "cellMetadata": {
      "byteLimit": 2048000,
      "rowLimit": 10000
     },
     "inputWidgets": {},
     "nuid": "c8c54a0c-64e4-4cbe-b91a-836fbde74282",
     "showTitle": false,
     "title": ""
    }
   },
   "outputs": [
    {
     "output_type": "execute_result",
     "data": {
      "text/plain": [
       "Source Port               0\n",
       "Destination Port          0\n",
       "Packet Length             0\n",
       "Anomaly Scores            0\n",
       "Source IP Address         0\n",
       "Destination IP Address    0\n",
       "dtype: int64"
      ]
     },
     "execution_count": 17,
     "metadata": {},
     "output_type": "execute_result"
    }
   ],
   "source": [
    "selected_cybersecurity_sample.isna().sum() # checking for null values, there is none"
   ]
  },
  {
   "cell_type": "markdown",
   "metadata": {
    "application/vnd.databricks.v1+cell": {
     "cellMetadata": {},
     "inputWidgets": {},
     "nuid": "094c9949-21e4-44a0-9276-022516eab895",
     "showTitle": false,
     "title": ""
    }
   },
   "source": [
    "### Scaling the selected cybersecurity sample for use in Dimensionality Reduction\n",
    "Scaling the Source IP and Destination IP address will not work because they are not linearly continous as are packet length and the anomaly scores. They are categorical in terms of data analysis because they are a string concatenation of multiple numerical sub-strings. In that case, we will only scale Source Port, Destination Port, Packet Length, and Anomaly Scores\n"
   ]
  },
  {
   "cell_type": "code",
   "execution_count": 0,
   "metadata": {
    "application/vnd.databricks.v1+cell": {
     "cellMetadata": {
      "byteLimit": 2048000,
      "rowLimit": 10000
     },
     "inputWidgets": {},
     "nuid": "8c193c4e-0522-4be6-8756-fefd2d042642",
     "showTitle": false,
     "title": ""
    }
   },
   "outputs": [],
   "source": [
    "from sklearn.preprocessing import StandardScaler\n",
    "# saving the unscalable columns\n",
    "selected_categorical_cybersecurity_sample = selected_cybersecurity_sample.loc[:, ['Source IP Address', 'Destination IP Address']]\n",
    "# applying the standard scaler to the numerical data\n",
    "scaler = StandardScaler()\n",
    "selected_numerical_cybersecurity_sample = selected_cybersecurity_sample.loc[:, ['Source Port', 'Destination Port', 'Packet Length', 'Anomaly Scores']]\n",
    "scaler.fit(selected_numerical_cybersecurity_sample)\n",
    "scaled_numerical_cybersecurity_sample = scaler.transform(selected_numerical_cybersecurity_sample)\n",
    "scaled_numerical_cybersecurity_sample = pd.DataFrame(scaler.transform(selected_numerical_cybersecurity_sample), columns=selected_numerical_cybersecurity_sample.columns)"
   ]
  },
  {
   "cell_type": "code",
   "execution_count": 0,
   "metadata": {
    "application/vnd.databricks.v1+cell": {
     "cellMetadata": {
      "byteLimit": 2048000,
      "rowLimit": 10000
     },
     "inputWidgets": {},
     "nuid": "6dc1b51c-6548-43cf-8a08-5675290987b2",
     "showTitle": false,
     "title": ""
    }
   },
   "outputs": [
    {
     "output_type": "execute_result",
     "data": {
      "text/html": [
       "<div>\n",
       "<style scoped>\n",
       "    .dataframe tbody tr th:only-of-type {\n",
       "        vertical-align: middle;\n",
       "    }\n",
       "\n",
       "    .dataframe tbody tr th {\n",
       "        vertical-align: top;\n",
       "    }\n",
       "\n",
       "    .dataframe thead th {\n",
       "        text-align: right;\n",
       "    }\n",
       "</style>\n",
       "<table border=\"1\" class=\"dataframe\">\n",
       "  <thead>\n",
       "    <tr style=\"text-align: right;\">\n",
       "      <th></th>\n",
       "      <th>Source Port</th>\n",
       "      <th>Destination Port</th>\n",
       "      <th>Packet Length</th>\n",
       "      <th>Anomaly Scores</th>\n",
       "    </tr>\n",
       "  </thead>\n",
       "  <tbody>\n",
       "    <tr>\n",
       "      <th>0</th>\n",
       "      <td>-1.123358</td>\n",
       "      <td>-0.833915</td>\n",
       "      <td>1.651207</td>\n",
       "      <td>-0.595524</td>\n",
       "    </tr>\n",
       "    <tr>\n",
       "      <th>1</th>\n",
       "      <td>-1.550951</td>\n",
       "      <td>1.512257</td>\n",
       "      <td>0.554975</td>\n",
       "      <td>1.403768</td>\n",
       "    </tr>\n",
       "    <tr>\n",
       "      <th>2</th>\n",
       "      <td>-0.053041</td>\n",
       "      <td>-1.419777</td>\n",
       "      <td>-1.412371</td>\n",
       "      <td>-1.262858</td>\n",
       "    </tr>\n",
       "    <tr>\n",
       "      <th>3</th>\n",
       "      <td>-1.146508</td>\n",
       "      <td>-0.059987</td>\n",
       "      <td>1.399172</td>\n",
       "      <td>0.712722</td>\n",
       "    </tr>\n",
       "    <tr>\n",
       "      <th>4</th>\n",
       "      <td>1.677429</td>\n",
       "      <td>0.850720</td>\n",
       "      <td>-1.082033</td>\n",
       "      <td>0.063342</td>\n",
       "    </tr>\n",
       "  </tbody>\n",
       "</table>\n",
       "</div>"
      ],
      "text/plain": [
       "   Source Port  Destination Port  Packet Length  Anomaly Scores\n",
       "0    -1.123358         -0.833915       1.651207       -0.595524\n",
       "1    -1.550951          1.512257       0.554975        1.403768\n",
       "2    -0.053041         -1.419777      -1.412371       -1.262858\n",
       "3    -1.146508         -0.059987       1.399172        0.712722\n",
       "4     1.677429          0.850720      -1.082033        0.063342"
      ]
     },
     "execution_count": 19,
     "metadata": {},
     "output_type": "execute_result"
    }
   ],
   "source": [
    "scaled_numerical_cybersecurity_sample.head()"
   ]
  },
  {
   "cell_type": "code",
   "execution_count": 0,
   "metadata": {
    "application/vnd.databricks.v1+cell": {
     "cellMetadata": {
      "byteLimit": 2048000,
      "rowLimit": 10000
     },
     "inputWidgets": {},
     "nuid": "8d40d42c-568f-4bc4-b8e4-001c54aeec62",
     "showTitle": false,
     "title": ""
    }
   },
   "outputs": [
    {
     "output_type": "execute_result",
     "data": {
      "text/html": [
       "<div>\n",
       "<style scoped>\n",
       "    .dataframe tbody tr th:only-of-type {\n",
       "        vertical-align: middle;\n",
       "    }\n",
       "\n",
       "    .dataframe tbody tr th {\n",
       "        vertical-align: top;\n",
       "    }\n",
       "\n",
       "    .dataframe thead th {\n",
       "        text-align: right;\n",
       "    }\n",
       "</style>\n",
       "<table border=\"1\" class=\"dataframe\">\n",
       "  <thead>\n",
       "    <tr style=\"text-align: right;\">\n",
       "      <th></th>\n",
       "      <th>Source IP Address</th>\n",
       "      <th>Destination IP Address</th>\n",
       "    </tr>\n",
       "  </thead>\n",
       "  <tbody>\n",
       "    <tr>\n",
       "      <th>8281</th>\n",
       "      <td>52.16.186.255</td>\n",
       "      <td>143.159.62.60</td>\n",
       "    </tr>\n",
       "    <tr>\n",
       "      <th>28232</th>\n",
       "      <td>161.108.110.93</td>\n",
       "      <td>171.250.86.109</td>\n",
       "    </tr>\n",
       "    <tr>\n",
       "      <th>14078</th>\n",
       "      <td>2.28.162.6</td>\n",
       "      <td>29.219.167.39</td>\n",
       "    </tr>\n",
       "    <tr>\n",
       "      <th>16368</th>\n",
       "      <td>54.22.11.21</td>\n",
       "      <td>37.134.249.227</td>\n",
       "    </tr>\n",
       "    <tr>\n",
       "      <th>11039</th>\n",
       "      <td>135.14.191.235</td>\n",
       "      <td>71.201.67.196</td>\n",
       "    </tr>\n",
       "  </tbody>\n",
       "</table>\n",
       "</div>"
      ],
      "text/plain": [
       "      Source IP Address Destination IP Address\n",
       "8281      52.16.186.255          143.159.62.60\n",
       "28232    161.108.110.93         171.250.86.109\n",
       "14078        2.28.162.6          29.219.167.39\n",
       "16368       54.22.11.21         37.134.249.227\n",
       "11039    135.14.191.235          71.201.67.196"
      ]
     },
     "execution_count": 20,
     "metadata": {},
     "output_type": "execute_result"
    }
   ],
   "source": [
    "selected_categorical_cybersecurity_sample.head()"
   ]
  },
  {
   "cell_type": "code",
   "execution_count": 0,
   "metadata": {
    "application/vnd.databricks.v1+cell": {
     "cellMetadata": {
      "byteLimit": 2048000,
      "rowLimit": 10000
     },
     "inputWidgets": {},
     "nuid": "f763278b-8d2d-47a1-a313-0ca544b23dbc",
     "showTitle": false,
     "title": ""
    }
   },
   "outputs": [],
   "source": [
    "#writing to the databricks S3 bucket\n",
    "scaled_numerical_cybersecurity_sample.to_csv('/Volumes/dims_redux/default/csv_data/scaled_numerical_cybersecurity_sample.csv', index=False)"
   ]
  },
  {
   "cell_type": "markdown",
   "metadata": {
    "application/vnd.databricks.v1+cell": {
     "cellMetadata": {},
     "inputWidgets": {},
     "nuid": "842372b8-e261-4487-9e3c-b8c3b068283b",
     "showTitle": false,
     "title": ""
    }
   },
   "source": [
    "## Processing data from the NGA"
   ]
  },
  {
   "cell_type": "code",
   "execution_count": 0,
   "metadata": {
    "application/vnd.databricks.v1+cell": {
     "cellMetadata": {
      "byteLimit": 2048000,
      "rowLimit": 10000
     },
     "inputWidgets": {},
     "nuid": "dce6b5d0-a72c-4136-a040-d186b6b0928d",
     "showTitle": false,
     "title": ""
    }
   },
   "outputs": [
    {
     "output_type": "execute_result",
     "data": {
      "text/plain": [
       "Index(['iiifurl', 'iiifthumburl', 'accessioned', 'title',\n",
       "       'displayDate_created', 'roletype', 'role', 'forwarddisplayname',\n",
       "       'birthyear', 'deathyear', 'ulanid', 'artistofngaobject', 'nationality',\n",
       "       'constituenttype', 'beginyear_artistAssigned', 'endyear_artistAssigned',\n",
       "       'country_artistAssigned', 'zipcode_artistAssigned', 'medium',\n",
       "       'dimensions', 'inscription', 'markings', 'attribution',\n",
       "       'visualBrowserClassification', 'parentID', 'isVirtual', 'portfolio',\n",
       "       'series', 'volume', 'watermarks', 'uuid', 'viewtype', 'sequence',\n",
       "       'width', 'height', 'maxpixels', 'assistivetext', 'depictstmsobjectid',\n",
       "       'objectid', 'constituentid'],\n",
       "      dtype='object')"
      ]
     },
     "execution_count": 22,
     "metadata": {},
     "output_type": "execute_result"
    }
   ],
   "source": [
    "nga_art_sample.columns"
   ]
  },
  {
   "cell_type": "code",
   "execution_count": 0,
   "metadata": {
    "application/vnd.databricks.v1+cell": {
     "cellMetadata": {
      "byteLimit": 2048000,
      "rowLimit": 10000
     },
     "inputWidgets": {},
     "nuid": "246cfccb-e75f-423e-9a78-98f8a8d2ba9c",
     "showTitle": false,
     "title": ""
    }
   },
   "outputs": [],
   "source": [
    "# selecting numerical columns from the dataset\n",
    "selected_art_sample = nga_art_sample.loc[:, ['accessioned', 'birthyear', 'deathyear', 'width', 'height', 'medium', 'viewtype']]"
   ]
  },
  {
   "cell_type": "markdown",
   "metadata": {
    "application/vnd.databricks.v1+cell": {
     "cellMetadata": {
      "byteLimit": 2048000,
      "rowLimit": 10000
     },
     "inputWidgets": {},
     "nuid": "4cd68e0a-3fcd-4eee-ac2b-7e2783c05874",
     "showTitle": false,
     "title": ""
    }
   },
   "source": [
    "### Filling in missing values"
   ]
  },
  {
   "cell_type": "code",
   "execution_count": 0,
   "metadata": {
    "application/vnd.databricks.v1+cell": {
     "cellMetadata": {
      "byteLimit": 2048000,
      "rowLimit": 10000
     },
     "inputWidgets": {},
     "nuid": "2abc6c36-425e-47f5-a1a6-bbeb9aff9207",
     "showTitle": false,
     "title": ""
    }
   },
   "outputs": [
    {
     "output_type": "execute_result",
     "data": {
      "text/plain": [
       "accessioned      2\n",
       "birthyear        7\n",
       "deathyear      212\n",
       "width            4\n",
       "height           6\n",
       "medium           2\n",
       "viewtype         4\n",
       "dtype: int64"
      ]
     },
     "execution_count": 25,
     "metadata": {},
     "output_type": "execute_result"
    }
   ],
   "source": [
    "# checking for null values\n",
    "selected_art_sample.isna().sum()"
   ]
  },
  {
   "cell_type": "code",
   "execution_count": 0,
   "metadata": {
    "application/vnd.databricks.v1+cell": {
     "cellMetadata": {
      "byteLimit": 2048000,
      "rowLimit": 10000
     },
     "inputWidgets": {},
     "nuid": "bcce18c1-754f-40df-889c-659f054e75d0",
     "showTitle": false,
     "title": ""
    }
   },
   "outputs": [],
   "source": [
    "selected_art_sample.reset_index(drop=False, inplace=True)"
   ]
  },
  {
   "cell_type": "code",
   "execution_count": 0,
   "metadata": {
    "application/vnd.databricks.v1+cell": {
     "cellMetadata": {
      "byteLimit": 2048000,
      "rowLimit": 10000
     },
     "inputWidgets": {},
     "nuid": "d753b33c-3e50-4c64-9f2e-59f01cfa698f",
     "showTitle": false,
     "title": ""
    }
   },
   "outputs": [],
   "source": [
    "# imputing null values with mean and also converting the columns to int\n",
    "selected_art_sample['birthyear'] = pd.to_numeric(selected_art_sample['birthyear'], errors='coerce')\n",
    "selected_art_sample['birthyear'].fillna(selected_art_sample['birthyear'].mean(), inplace=True)\n",
    "\n",
    "selected_art_sample['deathyear'] = pd.to_numeric(selected_art_sample['deathyear'], errors='coerce')\n",
    "selected_art_sample['deathyear'].fillna(selected_art_sample['deathyear'].mean(), inplace=True)\n",
    "\n",
    "selected_art_sample['width'] = pd.to_numeric(selected_art_sample['width'], errors='coerce')\n",
    "selected_art_sample['width'].fillna(selected_art_sample['width'].mean(), inplace=True)\n",
    "\n",
    "selected_art_sample['height'] = pd.to_numeric(selected_art_sample['height'], errors='coerce')\n",
    "selected_art_sample['height'].fillna(selected_art_sample['height'].mean(), inplace=True)\n",
    "\n",
    "# imputing the categorical string column 'medium' with the most frequent value\n",
    "selected_art_sample['medium'].fillna(selected_art_sample['medium'].value_counts().index[0], inplace=True)\n",
    "# imputing the categorical string column 'viewtype' with the most frequent value\n",
    "selected_art_sample['viewtype'].fillna(selected_art_sample['viewtype'].value_counts().index[0], inplace=True)\n"
   ]
  },
  {
   "cell_type": "code",
   "execution_count": 0,
   "metadata": {
    "application/vnd.databricks.v1+cell": {
     "cellMetadata": {
      "byteLimit": 2048000,
      "rowLimit": 10000
     },
     "inputWidgets": {},
     "nuid": "51dc2e98-2738-4093-81db-bb039003ec73",
     "showTitle": false,
     "title": ""
    }
   },
   "outputs": [
    {
     "output_type": "execute_result",
     "data": {
      "text/html": [
       "<div>\n",
       "<style scoped>\n",
       "    .dataframe tbody tr th:only-of-type {\n",
       "        vertical-align: middle;\n",
       "    }\n",
       "\n",
       "    .dataframe tbody tr th {\n",
       "        vertical-align: top;\n",
       "    }\n",
       "\n",
       "    .dataframe thead th {\n",
       "        text-align: right;\n",
       "    }\n",
       "</style>\n",
       "<table border=\"1\" class=\"dataframe\">\n",
       "  <thead>\n",
       "    <tr style=\"text-align: right;\">\n",
       "      <th></th>\n",
       "      <th>medium</th>\n",
       "      <th>viewtype</th>\n",
       "    </tr>\n",
       "  </thead>\n",
       "  <tbody>\n",
       "    <tr>\n",
       "      <th>count</th>\n",
       "      <td>1256</td>\n",
       "      <td>1256</td>\n",
       "    </tr>\n",
       "    <tr>\n",
       "      <th>unique</th>\n",
       "      <td>393</td>\n",
       "      <td>3</td>\n",
       "    </tr>\n",
       "    <tr>\n",
       "      <th>top</th>\n",
       "      <td>gelatin silver print</td>\n",
       "      <td>primary</td>\n",
       "    </tr>\n",
       "    <tr>\n",
       "      <th>freq</th>\n",
       "      <td>180</td>\n",
       "      <td>1243</td>\n",
       "    </tr>\n",
       "  </tbody>\n",
       "</table>\n",
       "</div>"
      ],
      "text/plain": [
       "                      medium viewtype\n",
       "count                   1256     1256\n",
       "unique                   393        3\n",
       "top     gelatin silver print  primary\n",
       "freq                     180     1243"
      ]
     },
     "execution_count": 28,
     "metadata": {},
     "output_type": "execute_result"
    }
   ],
   "source": [
    "selected_art_sample.loc[:, ['medium', 'viewtype']].describe()"
   ]
  },
  {
   "cell_type": "code",
   "execution_count": 0,
   "metadata": {
    "application/vnd.databricks.v1+cell": {
     "cellMetadata": {
      "byteLimit": 2048000,
      "rowLimit": 10000
     },
     "inputWidgets": {},
     "nuid": "0627259a-ab8a-45e4-952c-65380ce06d77",
     "showTitle": false,
     "title": ""
    }
   },
   "outputs": [
    {
     "output_type": "execute_result",
     "data": {
      "text/html": [
       "<div>\n",
       "<style scoped>\n",
       "    .dataframe tbody tr th:only-of-type {\n",
       "        vertical-align: middle;\n",
       "    }\n",
       "\n",
       "    .dataframe tbody tr th {\n",
       "        vertical-align: top;\n",
       "    }\n",
       "\n",
       "    .dataframe thead th {\n",
       "        text-align: right;\n",
       "    }\n",
       "</style>\n",
       "<table border=\"1\" class=\"dataframe\">\n",
       "  <thead>\n",
       "    <tr style=\"text-align: right;\">\n",
       "      <th></th>\n",
       "      <th>index</th>\n",
       "      <th>birthyear</th>\n",
       "      <th>deathyear</th>\n",
       "      <th>width</th>\n",
       "      <th>height</th>\n",
       "    </tr>\n",
       "  </thead>\n",
       "  <tbody>\n",
       "    <tr>\n",
       "      <th>count</th>\n",
       "      <td>1256.000000</td>\n",
       "      <td>1256.000000</td>\n",
       "      <td>1256.000000</td>\n",
       "      <td>1256.000000</td>\n",
       "      <td>1256.000000</td>\n",
       "    </tr>\n",
       "    <tr>\n",
       "      <th>mean</th>\n",
       "      <td>47496.172771</td>\n",
       "      <td>1867.110488</td>\n",
       "      <td>1935.539272</td>\n",
       "      <td>4171.233227</td>\n",
       "      <td>4322.582400</td>\n",
       "    </tr>\n",
       "    <tr>\n",
       "      <th>std</th>\n",
       "      <td>61903.407717</td>\n",
       "      <td>109.448792</td>\n",
       "      <td>107.196537</td>\n",
       "      <td>2252.697994</td>\n",
       "      <td>2169.317929</td>\n",
       "    </tr>\n",
       "    <tr>\n",
       "      <th>min</th>\n",
       "      <td>0.000000</td>\n",
       "      <td>1200.000000</td>\n",
       "      <td>1299.000000</td>\n",
       "      <td>640.000000</td>\n",
       "      <td>1092.000000</td>\n",
       "    </tr>\n",
       "    <tr>\n",
       "      <th>25%</th>\n",
       "      <td>312.750000</td>\n",
       "      <td>1855.000000</td>\n",
       "      <td>1935.539272</td>\n",
       "      <td>3066.000000</td>\n",
       "      <td>3202.750000</td>\n",
       "    </tr>\n",
       "    <tr>\n",
       "      <th>50%</th>\n",
       "      <td>626.500000</td>\n",
       "      <td>1902.000000</td>\n",
       "      <td>1969.000000</td>\n",
       "      <td>3589.000000</td>\n",
       "      <td>4000.000000</td>\n",
       "    </tr>\n",
       "    <tr>\n",
       "      <th>75%</th>\n",
       "      <td>91973.500000</td>\n",
       "      <td>1923.000000</td>\n",
       "      <td>1999.000000</td>\n",
       "      <td>4000.000000</td>\n",
       "      <td>4000.000000</td>\n",
       "    </tr>\n",
       "    <tr>\n",
       "      <th>max</th>\n",
       "      <td>199783.000000</td>\n",
       "      <td>1980.000000</td>\n",
       "      <td>2021.000000</td>\n",
       "      <td>33232.000000</td>\n",
       "      <td>24027.000000</td>\n",
       "    </tr>\n",
       "  </tbody>\n",
       "</table>\n",
       "</div>"
      ],
      "text/plain": [
       "               index    birthyear    deathyear         width        height\n",
       "count    1256.000000  1256.000000  1256.000000   1256.000000   1256.000000\n",
       "mean    47496.172771  1867.110488  1935.539272   4171.233227   4322.582400\n",
       "std     61903.407717   109.448792   107.196537   2252.697994   2169.317929\n",
       "min         0.000000  1200.000000  1299.000000    640.000000   1092.000000\n",
       "25%       312.750000  1855.000000  1935.539272   3066.000000   3202.750000\n",
       "50%       626.500000  1902.000000  1969.000000   3589.000000   4000.000000\n",
       "75%     91973.500000  1923.000000  1999.000000   4000.000000   4000.000000\n",
       "max    199783.000000  1980.000000  2021.000000  33232.000000  24027.000000"
      ]
     },
     "execution_count": 29,
     "metadata": {},
     "output_type": "execute_result"
    }
   ],
   "source": [
    "selected_art_sample.describe()"
   ]
  },
  {
   "cell_type": "markdown",
   "metadata": {
    "application/vnd.databricks.v1+cell": {
     "cellMetadata": {
      "byteLimit": 2048000,
      "rowLimit": 10000
     },
     "inputWidgets": {},
     "nuid": "13b17cab-af40-4d8d-bde4-d82f720f603b",
     "showTitle": false,
     "title": ""
    }
   },
   "source": [
    "### Scaling the selected art sample for use in Dimensionality Reduction"
   ]
  },
  {
   "cell_type": "code",
   "execution_count": 0,
   "metadata": {
    "application/vnd.databricks.v1+cell": {
     "cellMetadata": {
      "byteLimit": 2048000,
      "rowLimit": 10000
     },
     "inputWidgets": {},
     "nuid": "a53d7861-a593-448c-8146-547bec0e2184",
     "showTitle": false,
     "title": ""
    }
   },
   "outputs": [],
   "source": [
    "# applying the standard scaler to the numerical data\n",
    "scaler = StandardScaler()\n",
    "selected_numerical_art_sample = selected_art_sample.loc[:, ['birthyear', 'deathyear', 'width', 'height']]\n",
    "scaler.fit(selected_numerical_art_sample)\n",
    "scaled_numerical_art_sample = scaler.transform(selected_numerical_art_sample)\n",
    "scaled_numerical_art_sample = pd.DataFrame(scaler.transform(selected_numerical_art_sample), columns=selected_numerical_art_sample.columns)"
   ]
  },
  {
   "cell_type": "code",
   "execution_count": 0,
   "metadata": {
    "application/vnd.databricks.v1+cell": {
     "cellMetadata": {
      "byteLimit": 2048000,
      "rowLimit": 10000
     },
     "inputWidgets": {},
     "nuid": "5ed3bd5a-4c13-43b3-80f1-a0d142b696d8",
     "showTitle": false,
     "title": ""
    }
   },
   "outputs": [
    {
     "output_type": "execute_result",
     "data": {
      "text/html": [
       "<div>\n",
       "<style scoped>\n",
       "    .dataframe tbody tr th:only-of-type {\n",
       "        vertical-align: middle;\n",
       "    }\n",
       "\n",
       "    .dataframe tbody tr th {\n",
       "        vertical-align: top;\n",
       "    }\n",
       "\n",
       "    .dataframe thead th {\n",
       "        text-align: right;\n",
       "    }\n",
       "</style>\n",
       "<table border=\"1\" class=\"dataframe\">\n",
       "  <thead>\n",
       "    <tr style=\"text-align: right;\">\n",
       "      <th></th>\n",
       "      <th>birthyear</th>\n",
       "      <th>deathyear</th>\n",
       "      <th>width</th>\n",
       "      <th>height</th>\n",
       "    </tr>\n",
       "  </thead>\n",
       "  <tbody>\n",
       "    <tr>\n",
       "      <th>count</th>\n",
       "      <td>1.256000e+03</td>\n",
       "      <td>1.256000e+03</td>\n",
       "      <td>1.256000e+03</td>\n",
       "      <td>1.256000e+03</td>\n",
       "    </tr>\n",
       "    <tr>\n",
       "      <th>mean</th>\n",
       "      <td>1.946072e-15</td>\n",
       "      <td>1.810300e-16</td>\n",
       "      <td>-1.258724e-16</td>\n",
       "      <td>-1.074866e-16</td>\n",
       "    </tr>\n",
       "    <tr>\n",
       "      <th>std</th>\n",
       "      <td>1.000398e+00</td>\n",
       "      <td>1.000398e+00</td>\n",
       "      <td>1.000398e+00</td>\n",
       "      <td>1.000398e+00</td>\n",
       "    </tr>\n",
       "    <tr>\n",
       "      <th>min</th>\n",
       "      <td>-6.097612e+00</td>\n",
       "      <td>-5.940423e+00</td>\n",
       "      <td>-1.568182e+00</td>\n",
       "      <td>-1.489809e+00</td>\n",
       "    </tr>\n",
       "    <tr>\n",
       "      <th>25%</th>\n",
       "      <td>-1.106939e-01</td>\n",
       "      <td>0.000000e+00</td>\n",
       "      <td>-4.908219e-01</td>\n",
       "      <td>-5.164197e-01</td>\n",
       "    </tr>\n",
       "    <tr>\n",
       "      <th>50%</th>\n",
       "      <td>3.189017e-01</td>\n",
       "      <td>3.122681e-01</td>\n",
       "      <td>-2.585634e-01</td>\n",
       "      <td>-1.487615e-01</td>\n",
       "    </tr>\n",
       "    <tr>\n",
       "      <th>75%</th>\n",
       "      <td>5.108487e-01</td>\n",
       "      <td>5.922393e-01</td>\n",
       "      <td>-7.604279e-02</td>\n",
       "      <td>-1.487615e-01</td>\n",
       "    </tr>\n",
       "    <tr>\n",
       "      <th>max</th>\n",
       "      <td>1.031848e+00</td>\n",
       "      <td>7.975516e-01</td>\n",
       "      <td>1.290557e+01</td>\n",
       "      <td>9.086850e+00</td>\n",
       "    </tr>\n",
       "  </tbody>\n",
       "</table>\n",
       "</div>"
      ],
      "text/plain": [
       "          birthyear     deathyear         width        height\n",
       "count  1.256000e+03  1.256000e+03  1.256000e+03  1.256000e+03\n",
       "mean   1.946072e-15  1.810300e-16 -1.258724e-16 -1.074866e-16\n",
       "std    1.000398e+00  1.000398e+00  1.000398e+00  1.000398e+00\n",
       "min   -6.097612e+00 -5.940423e+00 -1.568182e+00 -1.489809e+00\n",
       "25%   -1.106939e-01  0.000000e+00 -4.908219e-01 -5.164197e-01\n",
       "50%    3.189017e-01  3.122681e-01 -2.585634e-01 -1.487615e-01\n",
       "75%    5.108487e-01  5.922393e-01 -7.604279e-02 -1.487615e-01\n",
       "max    1.031848e+00  7.975516e-01  1.290557e+01  9.086850e+00"
      ]
     },
     "execution_count": 32,
     "metadata": {},
     "output_type": "execute_result"
    }
   ],
   "source": [
    "scaled_numerical_art_sample.describe()"
   ]
  },
  {
   "cell_type": "code",
   "execution_count": 0,
   "metadata": {
    "application/vnd.databricks.v1+cell": {
     "cellMetadata": {
      "byteLimit": 2048000,
      "rowLimit": 10000
     },
     "inputWidgets": {},
     "nuid": "cc284def-6e68-4745-b7d7-580ef6209f3f",
     "showTitle": false,
     "title": ""
    }
   },
   "outputs": [],
   "source": [
    "# writing to the databricks s3 bucket\n",
    "scaled_numerical_art_sample.to_csv('/Volumes/dims_redux/default/csv_data/scaled_numerical_art_sample.csv', index=False)"
   ]
  },
  {
   "cell_type": "markdown",
   "metadata": {
    "application/vnd.databricks.v1+cell": {
     "cellMetadata": {},
     "inputWidgets": {},
     "nuid": "1a0a7010-b460-413e-97a3-9f963e009942",
     "showTitle": false,
     "title": ""
    }
   },
   "source": [
    "# Simpler Linear Methods\n",
    "## PCA (Principal Component Analysis)"
   ]
  },
  {
   "cell_type": "code",
   "execution_count": 0,
   "metadata": {
    "application/vnd.databricks.v1+cell": {
     "cellMetadata": {
      "byteLimit": 2048000,
      "rowLimit": 10000
     },
     "inputWidgets": {},
     "nuid": "f59b4f37-b841-404c-9918-3b4ae7a76db7",
     "showTitle": false,
     "title": ""
    }
   },
   "outputs": [],
   "source": [
    "# applying PCA to the scaled data\n",
    "from sklearn.decomposition import PCA\n",
    "def apply_pca(scaled_df, n_components=2):\n",
    "    pca = PCA(n_components=n_components)\n",
    "    pca.fit(scaled_df)\n",
    "    pca_df = pca.transform(scaled_df)\n",
    "    pca_df = pd.DataFrame(pca_df, columns=['PC1', 'PC2'])\n",
    "    return pca_df"
   ]
  },
  {
   "cell_type": "code",
   "execution_count": 0,
   "metadata": {
    "application/vnd.databricks.v1+cell": {
     "cellMetadata": {
      "byteLimit": 2048000,
      "rowLimit": 10000
     },
     "inputWidgets": {},
     "nuid": "8e1d3135-ae2e-48fc-8ac2-998191c23a85",
     "showTitle": false,
     "title": ""
    }
   },
   "outputs": [
    {
     "output_type": "display_data",
     "data": {
      "application/vnd.jupyter.widget-view+json": {
       "model_id": "ab310561bcb3417e9a3bf3c9dcd04cca",
       "version_major": 2,
       "version_minor": 0
      },
      "text/plain": [
       "Uploading artifacts:   0%|          | 0/5 [00:00<?, ?it/s]"
      ]
     },
     "metadata": {},
     "output_type": "display_data"
    },
    {
     "output_type": "execute_result",
     "data": {
      "text/html": [
       "<div>\n",
       "<style scoped>\n",
       "    .dataframe tbody tr th:only-of-type {\n",
       "        vertical-align: middle;\n",
       "    }\n",
       "\n",
       "    .dataframe tbody tr th {\n",
       "        vertical-align: top;\n",
       "    }\n",
       "\n",
       "    .dataframe thead th {\n",
       "        text-align: right;\n",
       "    }\n",
       "</style>\n",
       "<table border=\"1\" class=\"dataframe\">\n",
       "  <thead>\n",
       "    <tr style=\"text-align: right;\">\n",
       "      <th></th>\n",
       "      <th>PC1</th>\n",
       "      <th>PC2</th>\n",
       "    </tr>\n",
       "  </thead>\n",
       "  <tbody>\n",
       "    <tr>\n",
       "      <th>0</th>\n",
       "      <td>-0.947665</td>\n",
       "      <td>-0.435792</td>\n",
       "    </tr>\n",
       "    <tr>\n",
       "      <th>1</th>\n",
       "      <td>0.144337</td>\n",
       "      <td>-2.327878</td>\n",
       "    </tr>\n",
       "    <tr>\n",
       "      <th>2</th>\n",
       "      <td>0.689013</td>\n",
       "      <td>0.931354</td>\n",
       "    </tr>\n",
       "    <tr>\n",
       "      <th>3</th>\n",
       "      <td>-0.263628</td>\n",
       "      <td>-1.069374</td>\n",
       "    </tr>\n",
       "    <tr>\n",
       "      <th>4</th>\n",
       "      <td>0.157555</td>\n",
       "      <td>0.966615</td>\n",
       "    </tr>\n",
       "  </tbody>\n",
       "</table>\n",
       "</div>"
      ],
      "text/plain": [
       "        PC1       PC2\n",
       "0 -0.947665 -0.435792\n",
       "1  0.144337 -2.327878\n",
       "2  0.689013  0.931354\n",
       "3 -0.263628 -1.069374\n",
       "4  0.157555  0.966615"
      ]
     },
     "execution_count": 35,
     "metadata": {},
     "output_type": "execute_result"
    }
   ],
   "source": [
    "pca_cyber = apply_pca(scaled_numerical_cybersecurity_sample, n_components=2)\n",
    "pca_cyber.head()"
   ]
  },
  {
   "cell_type": "markdown",
   "metadata": {
    "application/vnd.databricks.v1+cell": {
     "cellMetadata": {},
     "inputWidgets": {},
     "nuid": "f7bba2a0-cf4e-4f96-8bff-08288c8a5239",
     "showTitle": false,
     "title": ""
    }
   },
   "source": [
    "## SVD (Singular Value Decomposition)"
   ]
  },
  {
   "cell_type": "code",
   "execution_count": 0,
   "metadata": {
    "application/vnd.databricks.v1+cell": {
     "cellMetadata": {
      "byteLimit": 2048000,
      "rowLimit": 10000
     },
     "inputWidgets": {},
     "nuid": "0e940820-0da0-4e86-8ffd-3472a0579fc1",
     "showTitle": false,
     "title": ""
    }
   },
   "outputs": [],
   "source": [
    "from sklearn.decomposition import TruncatedSVD\n",
    "\n",
    "def apply_svd(scaled_df, n_components=2):\n",
    "    svd = TruncatedSVD(n_components=n_components)\n",
    "    svd.fit(scaled_df)\n",
    "    svd_df = svd.transform(scaled_df)\n",
    "    svd_df = pd.DataFrame(svd_df, columns=[f'SVD{i+1}' for i in range(n_components)])\n",
    "    return svd_df"
   ]
  },
  {
   "cell_type": "code",
   "execution_count": 0,
   "metadata": {
    "application/vnd.databricks.v1+cell": {
     "cellMetadata": {
      "byteLimit": 2048000,
      "rowLimit": 10000
     },
     "inputWidgets": {},
     "nuid": "55975092-6498-416e-9818-20c9af473771",
     "showTitle": false,
     "title": ""
    }
   },
   "outputs": [
    {
     "output_type": "display_data",
     "data": {
      "application/vnd.jupyter.widget-view+json": {
       "model_id": "b60193458b7941689c10ddce1a7f493d",
       "version_major": 2,
       "version_minor": 0
      },
      "text/plain": [
       "Uploading artifacts:   0%|          | 0/5 [00:00<?, ?it/s]"
      ]
     },
     "metadata": {},
     "output_type": "display_data"
    },
    {
     "output_type": "execute_result",
     "data": {
      "text/html": [
       "<div>\n",
       "<style scoped>\n",
       "    .dataframe tbody tr th:only-of-type {\n",
       "        vertical-align: middle;\n",
       "    }\n",
       "\n",
       "    .dataframe tbody tr th {\n",
       "        vertical-align: top;\n",
       "    }\n",
       "\n",
       "    .dataframe thead th {\n",
       "        text-align: right;\n",
       "    }\n",
       "</style>\n",
       "<table border=\"1\" class=\"dataframe\">\n",
       "  <thead>\n",
       "    <tr style=\"text-align: right;\">\n",
       "      <th></th>\n",
       "      <th>SVD1</th>\n",
       "      <th>SVD2</th>\n",
       "    </tr>\n",
       "  </thead>\n",
       "  <tbody>\n",
       "    <tr>\n",
       "      <th>0</th>\n",
       "      <td>-0.947665</td>\n",
       "      <td>-0.435792</td>\n",
       "    </tr>\n",
       "    <tr>\n",
       "      <th>1</th>\n",
       "      <td>0.144337</td>\n",
       "      <td>-2.327878</td>\n",
       "    </tr>\n",
       "    <tr>\n",
       "      <th>2</th>\n",
       "      <td>0.689013</td>\n",
       "      <td>0.931354</td>\n",
       "    </tr>\n",
       "    <tr>\n",
       "      <th>3</th>\n",
       "      <td>-0.263628</td>\n",
       "      <td>-1.069374</td>\n",
       "    </tr>\n",
       "    <tr>\n",
       "      <th>4</th>\n",
       "      <td>0.157555</td>\n",
       "      <td>0.966615</td>\n",
       "    </tr>\n",
       "  </tbody>\n",
       "</table>\n",
       "</div>"
      ],
      "text/plain": [
       "       SVD1      SVD2\n",
       "0 -0.947665 -0.435792\n",
       "1  0.144337 -2.327878\n",
       "2  0.689013  0.931354\n",
       "3 -0.263628 -1.069374\n",
       "4  0.157555  0.966615"
      ]
     },
     "execution_count": 37,
     "metadata": {},
     "output_type": "execute_result"
    }
   ],
   "source": [
    "svd_cyber = apply_svd(scaled_numerical_cybersecurity_sample)\n",
    "svd_cyber.head()"
   ]
  },
  {
   "cell_type": "markdown",
   "metadata": {
    "application/vnd.databricks.v1+cell": {
     "cellMetadata": {},
     "inputWidgets": {},
     "nuid": "c1028eb8-17ba-44ab-b4e5-8197ccd50e49",
     "showTitle": false,
     "title": ""
    }
   },
   "source": [
    "## MDS (Multidimensional Scaling)"
   ]
  },
  {
   "cell_type": "code",
   "execution_count": 0,
   "metadata": {
    "application/vnd.databricks.v1+cell": {
     "cellMetadata": {
      "byteLimit": 2048000,
      "rowLimit": 10000
     },
     "inputWidgets": {},
     "nuid": "cc1ffe51-c224-46cd-ba0d-435aa7ac2832",
     "showTitle": false,
     "title": ""
    }
   },
   "outputs": [],
   "source": [
    "from sklearn.manifold import MDS\n",
    "\n",
    "def apply_mds(scaled_df, n_components=2):\n",
    "    mds = MDS(n_components=n_components)\n",
    "    mds_df = mds.fit_transform(scaled_df)\n",
    "    mds_df = pd.DataFrame(mds_df, columns=[f'MDS{i+1}' for i in range(n_components)])\n",
    "    return mds_df"
   ]
  },
  {
   "cell_type": "code",
   "execution_count": 0,
   "metadata": {
    "application/vnd.databricks.v1+cell": {
     "cellMetadata": {
      "byteLimit": 2048000,
      "rowLimit": 10000
     },
     "inputWidgets": {},
     "nuid": "5fea8a42-812a-4006-bfa9-296b0d938e66",
     "showTitle": false,
     "title": ""
    }
   },
   "outputs": [
    {
     "output_type": "display_data",
     "data": {
      "application/vnd.jupyter.widget-view+json": {
       "model_id": "de371dde756b4a84a57a9b70df620602",
       "version_major": 2,
       "version_minor": 0
      },
      "text/plain": [
       "Uploading artifacts:   0%|          | 0/5 [00:00<?, ?it/s]"
      ]
     },
     "metadata": {},
     "output_type": "display_data"
    },
    {
     "output_type": "execute_result",
     "data": {
      "text/html": [
       "<div>\n",
       "<style scoped>\n",
       "    .dataframe tbody tr th:only-of-type {\n",
       "        vertical-align: middle;\n",
       "    }\n",
       "\n",
       "    .dataframe tbody tr th {\n",
       "        vertical-align: top;\n",
       "    }\n",
       "\n",
       "    .dataframe thead th {\n",
       "        text-align: right;\n",
       "    }\n",
       "</style>\n",
       "<table border=\"1\" class=\"dataframe\">\n",
       "  <thead>\n",
       "    <tr style=\"text-align: right;\">\n",
       "      <th></th>\n",
       "      <th>MDS1</th>\n",
       "      <th>MDS2</th>\n",
       "    </tr>\n",
       "  </thead>\n",
       "  <tbody>\n",
       "    <tr>\n",
       "      <th>0</th>\n",
       "      <td>0.072967</td>\n",
       "      <td>-0.932624</td>\n",
       "    </tr>\n",
       "    <tr>\n",
       "      <th>1</th>\n",
       "      <td>0.072967</td>\n",
       "      <td>-0.932624</td>\n",
       "    </tr>\n",
       "    <tr>\n",
       "      <th>2</th>\n",
       "      <td>0.083065</td>\n",
       "      <td>-0.812559</td>\n",
       "    </tr>\n",
       "    <tr>\n",
       "      <th>3</th>\n",
       "      <td>0.083065</td>\n",
       "      <td>-0.812559</td>\n",
       "    </tr>\n",
       "    <tr>\n",
       "      <th>4</th>\n",
       "      <td>-1.114959</td>\n",
       "      <td>-0.171940</td>\n",
       "    </tr>\n",
       "  </tbody>\n",
       "</table>\n",
       "</div>"
      ],
      "text/plain": [
       "       MDS1      MDS2\n",
       "0  0.072967 -0.932624\n",
       "1  0.072967 -0.932624\n",
       "2  0.083065 -0.812559\n",
       "3  0.083065 -0.812559\n",
       "4 -1.114959 -0.171940"
      ]
     },
     "execution_count": 39,
     "metadata": {},
     "output_type": "execute_result"
    }
   ],
   "source": [
    "mds_art = apply_mds(scaled_numerical_art_sample)\n",
    "mds_art.head()"
   ]
  },
  {
   "cell_type": "markdown",
   "metadata": {
    "application/vnd.databricks.v1+cell": {
     "cellMetadata": {},
     "inputWidgets": {},
     "nuid": "eb429828-e3a0-4450-b470-dc537a24b8c6",
     "showTitle": false,
     "title": ""
    }
   },
   "source": [
    "## ISOMap (Isometric Mapping)"
   ]
  },
  {
   "cell_type": "code",
   "execution_count": 0,
   "metadata": {
    "application/vnd.databricks.v1+cell": {
     "cellMetadata": {
      "byteLimit": 2048000,
      "rowLimit": 10000
     },
     "inputWidgets": {},
     "nuid": "de4195ea-0398-4c86-ac3f-199712a084a5",
     "showTitle": false,
     "title": ""
    }
   },
   "outputs": [],
   "source": [
    "from sklearn.manifold import Isomap\n",
    "\n",
    "def apply_isomap(scaled_df, n_components=2, n_neighbors=5):\n",
    "    isomap = Isomap(n_components=n_components, n_neighbors=n_neighbors)\n",
    "    isomap_df = isomap.fit_transform(scaled_df)\n",
    "    isomap_df = pd.DataFrame(isomap_df, columns=[f'ISOMap{i+1}' for i in range(n_components)])\n",
    "    return isomap_df"
   ]
  },
  {
   "cell_type": "code",
   "execution_count": 0,
   "metadata": {
    "application/vnd.databricks.v1+cell": {
     "cellMetadata": {
      "byteLimit": 2048000,
      "rowLimit": 10000
     },
     "inputWidgets": {},
     "nuid": "ebd192bf-68c7-4f2c-acfd-fedbada1306a",
     "showTitle": false,
     "title": ""
    }
   },
   "outputs": [
    {
     "output_type": "display_data",
     "data": {
      "application/vnd.jupyter.widget-view+json": {
       "model_id": "d530917ee275488994e154fc25a592d4",
       "version_major": 2,
       "version_minor": 0
      },
      "text/plain": [
       "Uploading artifacts:   0%|          | 0/5 [00:00<?, ?it/s]"
      ]
     },
     "metadata": {},
     "output_type": "display_data"
    },
    {
     "output_type": "execute_result",
     "data": {
      "text/html": [
       "<div>\n",
       "<style scoped>\n",
       "    .dataframe tbody tr th:only-of-type {\n",
       "        vertical-align: middle;\n",
       "    }\n",
       "\n",
       "    .dataframe tbody tr th {\n",
       "        vertical-align: top;\n",
       "    }\n",
       "\n",
       "    .dataframe thead th {\n",
       "        text-align: right;\n",
       "    }\n",
       "</style>\n",
       "<table border=\"1\" class=\"dataframe\">\n",
       "  <thead>\n",
       "    <tr style=\"text-align: right;\">\n",
       "      <th></th>\n",
       "      <th>ISOMap1</th>\n",
       "      <th>ISOMap2</th>\n",
       "    </tr>\n",
       "  </thead>\n",
       "  <tbody>\n",
       "    <tr>\n",
       "      <th>0</th>\n",
       "      <td>-1.478888</td>\n",
       "      <td>-1.082827</td>\n",
       "    </tr>\n",
       "    <tr>\n",
       "      <th>1</th>\n",
       "      <td>-1.478888</td>\n",
       "      <td>-1.082827</td>\n",
       "    </tr>\n",
       "    <tr>\n",
       "      <th>2</th>\n",
       "      <td>-1.039372</td>\n",
       "      <td>-0.830713</td>\n",
       "    </tr>\n",
       "    <tr>\n",
       "      <th>3</th>\n",
       "      <td>-1.039372</td>\n",
       "      <td>-0.830713</td>\n",
       "    </tr>\n",
       "    <tr>\n",
       "      <th>4</th>\n",
       "      <td>-0.633842</td>\n",
       "      <td>-0.758728</td>\n",
       "    </tr>\n",
       "  </tbody>\n",
       "</table>\n",
       "</div>"
      ],
      "text/plain": [
       "    ISOMap1   ISOMap2\n",
       "0 -1.478888 -1.082827\n",
       "1 -1.478888 -1.082827\n",
       "2 -1.039372 -0.830713\n",
       "3 -1.039372 -0.830713\n",
       "4 -0.633842 -0.758728"
      ]
     },
     "execution_count": 41,
     "metadata": {},
     "output_type": "execute_result"
    }
   ],
   "source": [
    "isomap_art = apply_isomap(scaled_numerical_art_sample)\n",
    "isomap_art.head()"
   ]
  },
  {
   "cell_type": "markdown",
   "metadata": {
    "application/vnd.databricks.v1+cell": {
     "cellMetadata": {},
     "inputWidgets": {},
     "nuid": "83bcda5a-ba50-464d-8fd6-23bf30a52b6d",
     "showTitle": false,
     "title": ""
    }
   },
   "source": [
    "## LLE (Locally Linear Embedding)"
   ]
  },
  {
   "cell_type": "code",
   "execution_count": 0,
   "metadata": {
    "application/vnd.databricks.v1+cell": {
     "cellMetadata": {
      "byteLimit": 2048000,
      "rowLimit": 10000
     },
     "inputWidgets": {},
     "nuid": "8246da01-664c-4ba3-b973-239dbabe98f8",
     "showTitle": false,
     "title": ""
    }
   },
   "outputs": [],
   "source": [
    "from sklearn.manifold import LocallyLinearEmbedding\n",
    "\n",
    "def apply_lle(scaled_df, n_components=2, n_neighbors=5):\n",
    "    lle = LocallyLinearEmbedding(n_components=n_components, n_neighbors=n_neighbors, eigen_solver = 'dense')\n",
    "    lle_df = lle.fit_transform(scaled_df)\n",
    "    lle_df = pd.DataFrame(lle_df, columns=[f'LLE{i+1}' for i in range(n_components)])\n",
    "    return lle_df"
   ]
  },
  {
   "cell_type": "code",
   "execution_count": 0,
   "metadata": {
    "application/vnd.databricks.v1+cell": {
     "cellMetadata": {
      "byteLimit": 2048000,
      "rowLimit": 10000
     },
     "inputWidgets": {},
     "nuid": "167ce333-9c94-4cd3-9b3e-c056c600c022",
     "showTitle": false,
     "title": ""
    }
   },
   "outputs": [
    {
     "output_type": "display_data",
     "data": {
      "application/vnd.jupyter.widget-view+json": {
       "model_id": "7c82ddaf24ab4ee3a77639863144bbef",
       "version_major": 2,
       "version_minor": 0
      },
      "text/plain": [
       "Uploading artifacts:   0%|          | 0/5 [00:00<?, ?it/s]"
      ]
     },
     "metadata": {},
     "output_type": "display_data"
    },
    {
     "output_type": "execute_result",
     "data": {
      "text/html": [
       "<div>\n",
       "<style scoped>\n",
       "    .dataframe tbody tr th:only-of-type {\n",
       "        vertical-align: middle;\n",
       "    }\n",
       "\n",
       "    .dataframe tbody tr th {\n",
       "        vertical-align: top;\n",
       "    }\n",
       "\n",
       "    .dataframe thead th {\n",
       "        text-align: right;\n",
       "    }\n",
       "</style>\n",
       "<table border=\"1\" class=\"dataframe\">\n",
       "  <thead>\n",
       "    <tr style=\"text-align: right;\">\n",
       "      <th></th>\n",
       "      <th>LLE1</th>\n",
       "      <th>LLE2</th>\n",
       "    </tr>\n",
       "  </thead>\n",
       "  <tbody>\n",
       "    <tr>\n",
       "      <th>0</th>\n",
       "      <td>0.004696</td>\n",
       "      <td>0.012536</td>\n",
       "    </tr>\n",
       "    <tr>\n",
       "      <th>1</th>\n",
       "      <td>0.004696</td>\n",
       "      <td>0.012536</td>\n",
       "    </tr>\n",
       "    <tr>\n",
       "      <th>2</th>\n",
       "      <td>-0.011816</td>\n",
       "      <td>-0.003212</td>\n",
       "    </tr>\n",
       "    <tr>\n",
       "      <th>3</th>\n",
       "      <td>-0.011816</td>\n",
       "      <td>-0.003212</td>\n",
       "    </tr>\n",
       "    <tr>\n",
       "      <th>4</th>\n",
       "      <td>0.006529</td>\n",
       "      <td>-0.015254</td>\n",
       "    </tr>\n",
       "  </tbody>\n",
       "</table>\n",
       "</div>"
      ],
      "text/plain": [
       "       LLE1      LLE2\n",
       "0  0.004696  0.012536\n",
       "1  0.004696  0.012536\n",
       "2 -0.011816 -0.003212\n",
       "3 -0.011816 -0.003212\n",
       "4  0.006529 -0.015254"
      ]
     },
     "execution_count": 43,
     "metadata": {},
     "output_type": "execute_result"
    }
   ],
   "source": [
    "lle_art = apply_lle(scaled_numerical_art_sample)\n",
    "lle_art.head()"
   ]
  },
  {
   "cell_type": "markdown",
   "metadata": {
    "application/vnd.databricks.v1+cell": {
     "cellMetadata": {},
     "inputWidgets": {},
     "nuid": "9a67f0e5-d2f5-42f1-9cef-2ba5699f0896",
     "showTitle": false,
     "title": ""
    }
   },
   "source": [
    "# Complex Multi-linear Methods\n",
    "## UMAP (Uniform Manifold Approximation and Projection)"
   ]
  },
  {
   "cell_type": "code",
   "execution_count": 0,
   "metadata": {
    "application/vnd.databricks.v1+cell": {
     "cellMetadata": {
      "byteLimit": 2048000,
      "rowLimit": 10000
     },
     "inputWidgets": {},
     "nuid": "9983a2fa-1e80-4d28-8d93-1a002f5987d9",
     "showTitle": false,
     "title": ""
    }
   },
   "outputs": [
    {
     "output_type": "stream",
     "name": "stdout",
     "output_type": "stream",
     "text": [
      "\u001B[43mNote: you may need to restart the kernel using dbutils.library.restartPython() to use updated packages.\u001B[0m\nCollecting umap-learn\n  Downloading umap-learn-0.5.5.tar.gz (90 kB)\n     ━━━━━━━━━━━━━━━━━━━━━━━━━━━━━━━━━━━━━━━━ 90.9/90.9 kB 2.3 MB/s eta 0:00:00\n  Preparing metadata (setup.py): started\n  Preparing metadata (setup.py): finished with status 'done'\nRequirement already satisfied: numpy>=1.17 in /databricks/python3/lib/python3.10/site-packages (from umap-learn) (1.23.5)\nRequirement already satisfied: scipy>=1.3.1 in /databricks/python3/lib/python3.10/site-packages (from umap-learn) (1.10.0)\nRequirement already satisfied: scikit-learn>=0.22 in /databricks/python3/lib/python3.10/site-packages (from umap-learn) (1.1.1)\nRequirement already satisfied: numba>=0.51.2 in /databricks/python3/lib/python3.10/site-packages (from umap-learn) (0.56.4)\nCollecting pynndescent>=0.5\n  Downloading pynndescent-0.5.11-py3-none-any.whl (55 kB)\n     ━━━━━━━━━━━━━━━━━━━━━━━━━━━━━━━━━━━━━━━━ 55.8/55.8 kB 3.9 MB/s eta 0:00:00\nRequirement already satisfied: tqdm in /databricks/python3/lib/python3.10/site-packages (from umap-learn) (4.64.1)\nRequirement already satisfied: setuptools in /databricks/python3/lib/python3.10/site-packages (from numba>=0.51.2->umap-learn) (65.6.3)\nRequirement already satisfied: llvmlite<0.40,>=0.39.0dev0 in /databricks/python3/lib/python3.10/site-packages (from numba>=0.51.2->umap-learn) (0.39.1)\nRequirement already satisfied: joblib>=0.11 in /databricks/python3/lib/python3.10/site-packages (from pynndescent>=0.5->umap-learn) (1.2.0)\nRequirement already satisfied: threadpoolctl>=2.0.0 in /databricks/python3/lib/python3.10/site-packages (from scikit-learn>=0.22->umap-learn) (2.2.0)\nBuilding wheels for collected packages: umap-learn\n  Building wheel for umap-learn (setup.py): started\n  Building wheel for umap-learn (setup.py): finished with status 'done'\n  Created wheel for umap-learn: filename=umap_learn-0.5.5-py3-none-any.whl size=86837 sha256=d322549b5866f1c1f3783e00688e0a33e051ff861fe95dcd99a0eb02a0726f7d\n  Stored in directory: /root/.cache/pip/wheels/e5/c1/ee/d66f7fa7b04af4405e561e6836c203b5eea7e85c4a6fa29946\nSuccessfully built umap-learn\nInstalling collected packages: pynndescent, umap-learn\nSuccessfully installed pynndescent-0.5.11 umap-learn-0.5.5\n\u001B[43mNote: you may need to restart the kernel using dbutils.library.restartPython() to use updated packages.\u001B[0m\n"
     ]
    }
   ],
   "source": [
    "%pip install umap-learn"
   ]
  },
  {
   "cell_type": "code",
   "execution_count": 0,
   "metadata": {
    "application/vnd.databricks.v1+cell": {
     "cellMetadata": {
      "byteLimit": 2048000,
      "rowLimit": 10000
     },
     "inputWidgets": {},
     "nuid": "66a6da09-5668-4743-af9d-8021eb30b216",
     "showTitle": false,
     "title": ""
    }
   },
   "outputs": [
    {
     "output_type": "stream",
     "name": "stderr",
     "output_type": "stream",
     "text": [
      "2023-11-28 00:57:40.088530: I tensorflow/core/platform/cpu_feature_guard.cc:182] This TensorFlow binary is optimized to use available CPU instructions in performance-critical operations.\nTo enable the following instructions: AVX2 FMA, in other operations, rebuild TensorFlow with the appropriate compiler flags.\n"
     ]
    }
   ],
   "source": [
    "from umap import UMAP\n",
    "\n",
    "def apply_umap(scaled_df, n_components=2, n_neighbors=5):\n",
    "    umap = UMAP(n_components=n_components, n_neighbors=n_neighbors)\n",
    "    umap_df = umap.fit_transform(scaled_df)\n",
    "    umap_df = pd.DataFrame(umap_df, columns=[f'UMAP{i+1}' for i in range(n_components)])\n",
    "    return umap_df"
   ]
  },
  {
   "cell_type": "code",
   "execution_count": 0,
   "metadata": {
    "application/vnd.databricks.v1+cell": {
     "cellMetadata": {
      "byteLimit": 2048000,
      "rowLimit": 10000
     },
     "inputWidgets": {},
     "nuid": "ce85ca7e-59cb-4f8a-9233-66cc0961f4fc",
     "showTitle": false,
     "title": ""
    }
   },
   "outputs": [
    {
     "output_type": "execute_result",
     "data": {
      "text/html": [
       "<div>\n",
       "<style scoped>\n",
       "    .dataframe tbody tr th:only-of-type {\n",
       "        vertical-align: middle;\n",
       "    }\n",
       "\n",
       "    .dataframe tbody tr th {\n",
       "        vertical-align: top;\n",
       "    }\n",
       "\n",
       "    .dataframe thead th {\n",
       "        text-align: right;\n",
       "    }\n",
       "</style>\n",
       "<table border=\"1\" class=\"dataframe\">\n",
       "  <thead>\n",
       "    <tr style=\"text-align: right;\">\n",
       "      <th></th>\n",
       "      <th>UMAP1</th>\n",
       "      <th>UMAP2</th>\n",
       "    </tr>\n",
       "  </thead>\n",
       "  <tbody>\n",
       "    <tr>\n",
       "      <th>0</th>\n",
       "      <td>5.941579</td>\n",
       "      <td>-1.311825</td>\n",
       "    </tr>\n",
       "    <tr>\n",
       "      <th>1</th>\n",
       "      <td>15.317224</td>\n",
       "      <td>7.929322</td>\n",
       "    </tr>\n",
       "    <tr>\n",
       "      <th>2</th>\n",
       "      <td>0.894686</td>\n",
       "      <td>-3.161721</td>\n",
       "    </tr>\n",
       "    <tr>\n",
       "      <th>3</th>\n",
       "      <td>13.830988</td>\n",
       "      <td>2.049630</td>\n",
       "    </tr>\n",
       "    <tr>\n",
       "      <th>4</th>\n",
       "      <td>-2.782944</td>\n",
       "      <td>10.725903</td>\n",
       "    </tr>\n",
       "  </tbody>\n",
       "</table>\n",
       "</div>"
      ],
      "text/plain": [
       "       UMAP1      UMAP2\n",
       "0   5.941579  -1.311825\n",
       "1  15.317224   7.929322\n",
       "2   0.894686  -3.161721\n",
       "3  13.830988   2.049630\n",
       "4  -2.782944  10.725903"
      ]
     },
     "execution_count": 47,
     "metadata": {},
     "output_type": "execute_result"
    }
   ],
   "source": [
    "umap_cyber = apply_umap(selected_numerical_cybersecurity_sample)\n",
    "umap_cyber.head()"
   ]
  },
  {
   "cell_type": "code",
   "execution_count": 0,
   "metadata": {
    "application/vnd.databricks.v1+cell": {
     "cellMetadata": {
      "byteLimit": 2048000,
      "rowLimit": 10000
     },
     "inputWidgets": {},
     "nuid": "98386cd1-abda-40fb-9e0c-08f54fda431b",
     "showTitle": false,
     "title": ""
    }
   },
   "outputs": [],
   "source": [
    "# saving to the databricks s3 bucket\n",
    "umap_cyber.to_csv('/Volumes/dims_redux/default/csv_data/umap_cybersecurity.csv', index=False)"
   ]
  },
  {
   "cell_type": "markdown",
   "metadata": {
    "application/vnd.databricks.v1+cell": {
     "cellMetadata": {},
     "inputWidgets": {},
     "nuid": "02365bac-30ea-4bd4-b2fe-09d6d19f873d",
     "showTitle": false,
     "title": ""
    }
   },
   "source": [
    "## t-SNE (t-Distributed Stochastic Neighbor Embedding)"
   ]
  },
  {
   "cell_type": "code",
   "execution_count": 0,
   "metadata": {
    "application/vnd.databricks.v1+cell": {
     "cellMetadata": {
      "byteLimit": 2048000,
      "rowLimit": 10000
     },
     "inputWidgets": {},
     "nuid": "2ac96a3e-f285-4b35-9497-34f788c3ca3c",
     "showTitle": false,
     "title": ""
    }
   },
   "outputs": [],
   "source": [
    "from sklearn.manifold import TSNE\n",
    "\n",
    "def apply_tsne(scaled_df, n_components=2, perplexity=30, learning_rate=200):\n",
    "    tsne = TSNE(n_components=n_components, perplexity=perplexity, learning_rate=learning_rate)\n",
    "    tsne_df = tsne.fit_transform(scaled_df)\n",
    "    tsne_df = pd.DataFrame(tsne_df, columns=[f't-SNE{i+1}' for i in range(n_components)])\n",
    "    return tsne_df"
   ]
  },
  {
   "cell_type": "code",
   "execution_count": 0,
   "metadata": {
    "application/vnd.databricks.v1+cell": {
     "cellMetadata": {
      "byteLimit": 2048000,
      "rowLimit": 10000
     },
     "inputWidgets": {},
     "nuid": "07691a48-4c33-4e5e-9a91-9210cb6fbdaa",
     "showTitle": false,
     "title": ""
    }
   },
   "outputs": [
    {
     "output_type": "display_data",
     "data": {
      "application/vnd.jupyter.widget-view+json": {
       "model_id": "e5af4d02cd854032aa69935f56a4e375",
       "version_major": 2,
       "version_minor": 0
      },
      "text/plain": [
       "Uploading artifacts:   0%|          | 0/5 [00:00<?, ?it/s]"
      ]
     },
     "metadata": {},
     "output_type": "display_data"
    },
    {
     "output_type": "execute_result",
     "data": {
      "text/html": [
       "<div>\n",
       "<style scoped>\n",
       "    .dataframe tbody tr th:only-of-type {\n",
       "        vertical-align: middle;\n",
       "    }\n",
       "\n",
       "    .dataframe tbody tr th {\n",
       "        vertical-align: top;\n",
       "    }\n",
       "\n",
       "    .dataframe thead th {\n",
       "        text-align: right;\n",
       "    }\n",
       "</style>\n",
       "<table border=\"1\" class=\"dataframe\">\n",
       "  <thead>\n",
       "    <tr style=\"text-align: right;\">\n",
       "      <th></th>\n",
       "      <th>t-SNE1</th>\n",
       "      <th>t-SNE2</th>\n",
       "    </tr>\n",
       "  </thead>\n",
       "  <tbody>\n",
       "    <tr>\n",
       "      <th>0</th>\n",
       "      <td>6.881261</td>\n",
       "      <td>-39.364033</td>\n",
       "    </tr>\n",
       "    <tr>\n",
       "      <th>1</th>\n",
       "      <td>6.881261</td>\n",
       "      <td>-39.364033</td>\n",
       "    </tr>\n",
       "    <tr>\n",
       "      <th>2</th>\n",
       "      <td>-6.852994</td>\n",
       "      <td>-32.309406</td>\n",
       "    </tr>\n",
       "    <tr>\n",
       "      <th>3</th>\n",
       "      <td>-6.852994</td>\n",
       "      <td>-32.309406</td>\n",
       "    </tr>\n",
       "    <tr>\n",
       "      <th>4</th>\n",
       "      <td>3.986995</td>\n",
       "      <td>1.049295</td>\n",
       "    </tr>\n",
       "  </tbody>\n",
       "</table>\n",
       "</div>"
      ],
      "text/plain": [
       "     t-SNE1     t-SNE2\n",
       "0  6.881261 -39.364033\n",
       "1  6.881261 -39.364033\n",
       "2 -6.852994 -32.309406\n",
       "3 -6.852994 -32.309406\n",
       "4  3.986995   1.049295"
      ]
     },
     "execution_count": 50,
     "metadata": {},
     "output_type": "execute_result"
    }
   ],
   "source": [
    "tsne_art = apply_tsne(scaled_numerical_art_sample)\n",
    "tsne_art.head()"
   ]
  },
  {
   "cell_type": "code",
   "execution_count": 0,
   "metadata": {
    "application/vnd.databricks.v1+cell": {
     "cellMetadata": {
      "byteLimit": 2048000,
      "rowLimit": 10000
     },
     "inputWidgets": {},
     "nuid": "8e29fd57-87d7-4288-ba55-70d3fde8889f",
     "showTitle": false,
     "title": ""
    }
   },
   "outputs": [],
   "source": [
    "# uploading to the databricks s3 bucket\n",
    "tsne_art.to_csv('/Volumes/dims_redux/default/csv_data/tsne_art.csv', index=False)"
   ]
  },
  {
   "cell_type": "code",
   "execution_count": 0,
   "metadata": {
    "application/vnd.databricks.v1+cell": {
     "cellMetadata": {},
     "inputWidgets": {},
     "nuid": "daf266f4-0b93-45af-9c3f-924f45f34b36",
     "showTitle": false,
     "title": ""
    }
   },
   "outputs": [],
   "source": []
  }
 ],
 "metadata": {
  "application/vnd.databricks.v1+notebook": {
   "dashboards": [],
   "language": "python",
   "notebookMetadata": {
    "pythonIndentUnit": 4
   },
   "notebookName": "DataBricks_DimensionalityReduction",
   "widgets": {}
  }
 },
 "nbformat": 4,
 "nbformat_minor": 0
}
