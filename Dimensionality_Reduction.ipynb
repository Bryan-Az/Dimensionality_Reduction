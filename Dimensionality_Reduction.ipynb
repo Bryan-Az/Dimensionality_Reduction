{
  "cells": [
    {
      "cell_type": "markdown",
      "metadata": {
        "colab_type": "text",
        "id": "view-in-github"
      },
      "source": [
        "<a href=\"https://colab.research.google.com/github/Bryan-Az/Dimensionality_Reduction/blob/main/Dimensionality_Reduction.ipynb\" target=\"_parent\"><img src=\"https://colab.research.google.com/assets/colab-badge.svg\" alt=\"Open In Colab\"/></a>"
      ]
    },
    {
      "cell_type": "code",
      "execution_count": 1,
      "metadata": {},
      "outputs": [],
      "source": [
        "%load_ext autoreload\n",
        "%autoreload 2\n",
        "import pandas as pd\n",
        "import os\n",
        "import shutil\n",
        "import sys\n",
        "import zipfile\n",
        "import gensim\n",
        "import re"
      ]
    },
    {
      "cell_type": "markdown",
      "metadata": {},
      "source": [
        "# Dimensionality Reduction\n",
        "In this notebook assignment I will be using the following techniques:\n",
        "1. PCA (Principal Component Analysis) - multivariate on distinct features\n",
        "2. SVD (Singular Value Decomposition) - univariate on distinct feature\n",
        "3. MDS (Multidimensional Scaling) - multivariate on distinct feature\n",
        "4. ISOMap (Isometric Mapping)  - multivariate on distinct feature\n",
        "5. LLE (Locally Linear Embedding) - multivariate on distinct feature\n",
        "\n",
        "and seperately,\n",
        "\n",
        "1. UMAP (Uniform Manifold Approximation and Projection)\n",
        "2. t-SNE (t-Distributed Stochastic Neighbor Embedding)\n",
        "\n",
        "A key difference between UMAP and t-SNE as compared to the other 5 techniques above is that they are more advanced, and they can capture the most highly dimensional, complex, non-linear relationships within the data. UMAP and t-SNE can preserve the local structure within the data and can reveal important clusters that PCA, SVD, and other techniques may miss. "
      ]
    },
    {
      "cell_type": "markdown",
      "metadata": {},
      "source": [
        "## Data Loading"
      ]
    },
    {
      "cell_type": "code",
      "execution_count": 2,
      "metadata": {},
      "outputs": [
        {
          "name": "stderr",
          "output_type": "stream",
          "text": [
            "/var/folders/b8/b_prs9t152qc96jlgz5zhwt00000gn/T/ipykernel_32126/2071167283.py:18: DtypeWarning: Columns (2,10,11,14,15,16,17,24,25,32,33,34,35,37) have mixed types. Specify dtype option on import or set low_memory=False.\n",
            "  nga_art_sample = pd.concat([pd.read_csv('./data_samples/' + file, on_bad_lines='skip').sample(628), nga_art_sample])\n"
          ]
        },
        {
          "name": "stdout",
          "output_type": "stream",
          "text": [
            "(1256, 40)\n"
          ]
        },
        {
          "data": {
            "text/html": [
              "<div>\n",
              "<style scoped>\n",
              "    .dataframe tbody tr th:only-of-type {\n",
              "        vertical-align: middle;\n",
              "    }\n",
              "\n",
              "    .dataframe tbody tr th {\n",
              "        vertical-align: top;\n",
              "    }\n",
              "\n",
              "    .dataframe thead th {\n",
              "        text-align: right;\n",
              "    }\n",
              "</style>\n",
              "<table border=\"1\" class=\"dataframe\">\n",
              "  <thead>\n",
              "    <tr style=\"text-align: right;\">\n",
              "      <th></th>\n",
              "      <th>iiifurl</th>\n",
              "      <th>iiifthumburl</th>\n",
              "      <th>accessioned</th>\n",
              "      <th>title</th>\n",
              "      <th>displayDate_created</th>\n",
              "      <th>roletype</th>\n",
              "      <th>role</th>\n",
              "      <th>forwarddisplayname</th>\n",
              "      <th>birthyear</th>\n",
              "      <th>deathyear</th>\n",
              "      <th>...</th>\n",
              "      <th>uuid</th>\n",
              "      <th>viewtype</th>\n",
              "      <th>sequence</th>\n",
              "      <th>width</th>\n",
              "      <th>height</th>\n",
              "      <th>maxpixels</th>\n",
              "      <th>assistivetext</th>\n",
              "      <th>depictstmsobjectid</th>\n",
              "      <th>objectid</th>\n",
              "      <th>constituentid</th>\n",
              "    </tr>\n",
              "  </thead>\n",
              "  <tbody>\n",
              "    <tr>\n",
              "      <th>119131</th>\n",
              "      <td>https://api.nga.gov/iiif/975889bd-7fe1-4570-b1...</td>\n",
              "      <td>https://api.nga.gov/iiif/975889bd-7fe1-4570-b1...</td>\n",
              "      <td>1</td>\n",
              "      <td>St. Johns, New Brunswick, Canada</td>\n",
              "      <td>American, 1870 - 1953</td>\n",
              "      <td>artist</td>\n",
              "      <td>artist</td>\n",
              "      <td>John Marin</td>\n",
              "      <td>1870</td>\n",
              "      <td>1953</td>\n",
              "      <td>...</td>\n",
              "      <td>975889bd-7fe1-4570-b1ea-d0af590580dc</td>\n",
              "      <td>primary</td>\n",
              "      <td>0</td>\n",
              "      <td>7075</td>\n",
              "      <td>5498</td>\n",
              "      <td>640</td>\n",
              "      <td>NaN</td>\n",
              "      <td>72202</td>\n",
              "      <td>72202.0</td>\n",
              "      <td>2643.0</td>\n",
              "    </tr>\n",
              "    <tr>\n",
              "      <th>55223</th>\n",
              "      <td>https://api.nga.gov/iiif/463bd791-ef15-4f48-85...</td>\n",
              "      <td>https://api.nga.gov/iiif/463bd791-ef15-4f48-85...</td>\n",
              "      <td>1</td>\n",
              "      <td>Lamp, Lower Portion</td>\n",
              "      <td>NaN</td>\n",
              "      <td>artist</td>\n",
              "      <td>artist</td>\n",
              "      <td>Anonymous Artist</td>\n",
              "      <td>NaN</td>\n",
              "      <td>NaN</td>\n",
              "      <td>...</td>\n",
              "      <td>463bd791-ef15-4f48-85cf-7aaac4354eb8</td>\n",
              "      <td>alternate</td>\n",
              "      <td>4.0</td>\n",
              "      <td>7118.0</td>\n",
              "      <td>5694.0</td>\n",
              "      <td>NaN</td>\n",
              "      <td>NaN</td>\n",
              "      <td>130749.0</td>\n",
              "      <td>130749.0</td>\n",
              "      <td>13.0</td>\n",
              "    </tr>\n",
              "    <tr>\n",
              "      <th>31483</th>\n",
              "      <td>https://api.nga.gov/iiif/27f84928-9cf5-44fd-8c...</td>\n",
              "      <td>https://api.nga.gov/iiif/27f84928-9cf5-44fd-8c...</td>\n",
              "      <td>1</td>\n",
              "      <td>Tobias Frightened by the Fish</td>\n",
              "      <td>Dutch, c. 1600 - 1655</td>\n",
              "      <td>artist</td>\n",
              "      <td>artist</td>\n",
              "      <td>Herman van Swanevelt</td>\n",
              "      <td>1600</td>\n",
              "      <td>1655</td>\n",
              "      <td>...</td>\n",
              "      <td>27f84928-9cf5-44fd-8c30-13834a959c29</td>\n",
              "      <td>primary</td>\n",
              "      <td>0.0</td>\n",
              "      <td>4000.0</td>\n",
              "      <td>2978.0</td>\n",
              "      <td>NaN</td>\n",
              "      <td>NaN</td>\n",
              "      <td>53932.0</td>\n",
              "      <td>53932.0</td>\n",
              "      <td>2769.0</td>\n",
              "    </tr>\n",
              "    <tr>\n",
              "      <th>121781</th>\n",
              "      <td>https://api.nga.gov/iiif/9af9c70c-661c-4a6c-93...</td>\n",
              "      <td>https://api.nga.gov/iiif/9af9c70c-661c-4a6c-93...</td>\n",
              "      <td>1</td>\n",
              "      <td>La morgue, Paris (The Mortuary)</td>\n",
              "      <td>French, 1821 - 1868</td>\n",
              "      <td>artist</td>\n",
              "      <td>artist</td>\n",
              "      <td>Charles Meryon</td>\n",
              "      <td>1821</td>\n",
              "      <td>1868</td>\n",
              "      <td>...</td>\n",
              "      <td>9af9c70c-661c-4a6c-93e8-4e5ecb0b04ce</td>\n",
              "      <td>primary</td>\n",
              "      <td>0</td>\n",
              "      <td>3521</td>\n",
              "      <td>3956</td>\n",
              "      <td>NaN</td>\n",
              "      <td>NaN</td>\n",
              "      <td>35113</td>\n",
              "      <td>35113.0</td>\n",
              "      <td>2421.0</td>\n",
              "    </tr>\n",
              "    <tr>\n",
              "      <th>82932</th>\n",
              "      <td>https://api.nga.gov/iiif/69888422-2aa3-4e73-b1...</td>\n",
              "      <td>https://api.nga.gov/iiif/69888422-2aa3-4e73-b1...</td>\n",
              "      <td>1</td>\n",
              "      <td>Rocken End in a Storm, Isle of Wight</td>\n",
              "      <td>British, 1819 - 1869</td>\n",
              "      <td>artist</td>\n",
              "      <td>artist</td>\n",
              "      <td>Roger Fenton</td>\n",
              "      <td>1819</td>\n",
              "      <td>1869</td>\n",
              "      <td>...</td>\n",
              "      <td>69888422-2aa3-4e73-b1d2-606a75b8e0e1</td>\n",
              "      <td>primary</td>\n",
              "      <td>0.0</td>\n",
              "      <td>5456.0</td>\n",
              "      <td>4445.0</td>\n",
              "      <td>NaN</td>\n",
              "      <td>NaN</td>\n",
              "      <td>212109.0</td>\n",
              "      <td>212109.0</td>\n",
              "      <td>13369.0</td>\n",
              "    </tr>\n",
              "  </tbody>\n",
              "</table>\n",
              "<p>5 rows × 40 columns</p>\n",
              "</div>"
            ],
            "text/plain": [
              "                                                  iiifurl  \\\n",
              "119131  https://api.nga.gov/iiif/975889bd-7fe1-4570-b1...   \n",
              "55223   https://api.nga.gov/iiif/463bd791-ef15-4f48-85...   \n",
              "31483   https://api.nga.gov/iiif/27f84928-9cf5-44fd-8c...   \n",
              "121781  https://api.nga.gov/iiif/9af9c70c-661c-4a6c-93...   \n",
              "82932   https://api.nga.gov/iiif/69888422-2aa3-4e73-b1...   \n",
              "\n",
              "                                             iiifthumburl accessioned  \\\n",
              "119131  https://api.nga.gov/iiif/975889bd-7fe1-4570-b1...           1   \n",
              "55223   https://api.nga.gov/iiif/463bd791-ef15-4f48-85...           1   \n",
              "31483   https://api.nga.gov/iiif/27f84928-9cf5-44fd-8c...           1   \n",
              "121781  https://api.nga.gov/iiif/9af9c70c-661c-4a6c-93...           1   \n",
              "82932   https://api.nga.gov/iiif/69888422-2aa3-4e73-b1...           1   \n",
              "\n",
              "                                       title    displayDate_created roletype  \\\n",
              "119131      St. Johns, New Brunswick, Canada  American, 1870 - 1953   artist   \n",
              "55223                    Lamp, Lower Portion                    NaN   artist   \n",
              "31483          Tobias Frightened by the Fish  Dutch, c. 1600 - 1655   artist   \n",
              "121781       La morgue, Paris (The Mortuary)    French, 1821 - 1868   artist   \n",
              "82932   Rocken End in a Storm, Isle of Wight   British, 1819 - 1869   artist   \n",
              "\n",
              "          role    forwarddisplayname birthyear deathyear  ...  \\\n",
              "119131  artist            John Marin      1870      1953  ...   \n",
              "55223   artist      Anonymous Artist       NaN       NaN  ...   \n",
              "31483   artist  Herman van Swanevelt      1600      1655  ...   \n",
              "121781  artist        Charles Meryon      1821      1868  ...   \n",
              "82932   artist          Roger Fenton      1819      1869  ...   \n",
              "\n",
              "                                        uuid   viewtype sequence   width  \\\n",
              "119131  975889bd-7fe1-4570-b1ea-d0af590580dc    primary        0    7075   \n",
              "55223   463bd791-ef15-4f48-85cf-7aaac4354eb8  alternate      4.0  7118.0   \n",
              "31483   27f84928-9cf5-44fd-8c30-13834a959c29    primary      0.0  4000.0   \n",
              "121781  9af9c70c-661c-4a6c-93e8-4e5ecb0b04ce    primary        0    3521   \n",
              "82932   69888422-2aa3-4e73-b1d2-606a75b8e0e1    primary      0.0  5456.0   \n",
              "\n",
              "        height maxpixels assistivetext depictstmsobjectid  objectid  \\\n",
              "119131    5498       640           NaN              72202   72202.0   \n",
              "55223   5694.0       NaN           NaN           130749.0  130749.0   \n",
              "31483   2978.0       NaN           NaN            53932.0   53932.0   \n",
              "121781    3956       NaN           NaN              35113   35113.0   \n",
              "82932   4445.0       NaN           NaN           212109.0  212109.0   \n",
              "\n",
              "       constituentid  \n",
              "119131        2643.0  \n",
              "55223           13.0  \n",
              "31483         2769.0  \n",
              "121781        2421.0  \n",
              "82932        13369.0  \n",
              "\n",
              "[5 rows x 40 columns]"
            ]
          },
          "execution_count": 2,
          "metadata": {},
          "output_type": "execute_result"
        }
      ],
      "source": [
        "# unpacking art_tables.zip using zipfile library and then load the two csv's (latinamerican_art.csv & non_latinamerican_art.csv)\n",
        "# into a single dataframe\n",
        "nga_art_sample = None\n",
        "with zipfile.ZipFile('./data_samples/art_tables.zip', 'r') as zip_ref:\n",
        "    zip_ref.extractall('./data_samples/')\n",
        "    for file in zip_ref.namelist():\n",
        "        if file.endswith('.csv'):\n",
        "            # only sampling 628 rows from non_latinamerican.csv file & all from latinamerican, and selecting only title and nationality\n",
        "            # latinamerican has very few rows so we are sampling all of them\n",
        "            to_sample = True if 'non_latinamerican' in file else False\n",
        "            if nga_art_sample is None:\n",
        "                if to_sample:\n",
        "                    nga_art_sample = pd.read_csv('./data_samples/' + file, on_bad_lines='skip').sample(628)\n",
        "                else:\n",
        "                    nga_art_sample = pd.read_csv('./data_samples/' + file, on_bad_lines='skip')\n",
        "            else:\n",
        "                if to_sample:\n",
        "                    nga_art_sample = pd.concat([pd.read_csv('./data_samples/' + file, on_bad_lines='skip').sample(628), nga_art_sample])\n",
        "                else:\n",
        "                    nga_art_sample = pd.concat([pd.read_csv('./data_samples/' + file, on_bad_lines='skip'), nga_art_sample])\n",
        "# delete the unzipped data directory\n",
        "shutil.rmtree('./data_samples/art_tables')\n",
        "\n",
        "print(nga_art_sample.shape)\n",
        "nga_art_sample.head()"
      ]
    },
    {
      "cell_type": "markdown",
      "metadata": {},
      "source": [
        "## Data Pre-Processing"
      ]
    },
    {
      "cell_type": "code",
      "execution_count": 3,
      "metadata": {},
      "outputs": [
        {
          "data": {
            "text/plain": [
              "Index(['iiifurl', 'iiifthumburl', 'accessioned', 'title',\n",
              "       'displayDate_created', 'roletype', 'role', 'forwarddisplayname',\n",
              "       'birthyear', 'deathyear', 'ulanid', 'artistofngaobject', 'nationality',\n",
              "       'constituenttype', 'beginyear_artistAssigned', 'endyear_artistAssigned',\n",
              "       'country_artistAssigned', 'zipcode_artistAssigned', 'medium',\n",
              "       'dimensions', 'inscription', 'markings', 'attribution',\n",
              "       'visualBrowserClassification', 'parentID', 'isVirtual', 'portfolio',\n",
              "       'series', 'volume', 'watermarks', 'uuid', 'viewtype', 'sequence',\n",
              "       'width', 'height', 'maxpixels', 'assistivetext', 'depictstmsobjectid',\n",
              "       'objectid', 'constituentid'],\n",
              "      dtype='object')"
            ]
          },
          "execution_count": 3,
          "metadata": {},
          "output_type": "execute_result"
        }
      ],
      "source": [
        "nga_art_sample.columns"
      ]
    },
    {
      "cell_type": "code",
      "execution_count": 4,
      "metadata": {},
      "outputs": [],
      "source": [
        "# selecting numerical columns from the dataset\n",
        "selected_art_sample = nga_art_sample.loc[:, ['accessioned', 'birthyear', 'deathyear', 'width', 'height', 'medium', 'viewtype']]"
      ]
    },
    {
      "cell_type": "code",
      "execution_count": 5,
      "metadata": {},
      "outputs": [
        {
          "data": {
            "text/plain": [
              "accessioned      1\n",
              "birthyear        6\n",
              "deathyear      199\n",
              "width            2\n",
              "height           4\n",
              "medium           2\n",
              "viewtype         2\n",
              "dtype: int64"
            ]
          },
          "execution_count": 5,
          "metadata": {},
          "output_type": "execute_result"
        }
      ],
      "source": [
        "# checking for null values\n",
        "selected_art_sample.isna().sum()"
      ]
    },
    {
      "cell_type": "code",
      "execution_count": 6,
      "metadata": {},
      "outputs": [],
      "source": [
        "selected_art_sample.reset_index(drop=False, inplace=True)"
      ]
    },
    {
      "cell_type": "code",
      "execution_count": 7,
      "metadata": {},
      "outputs": [],
      "source": [
        "# imputing null values with mean and also converting the columns to int\n",
        "selected_art_sample['birthyear'] = pd.to_numeric(selected_art_sample['birthyear'], errors='coerce')\n",
        "selected_art_sample['birthyear'].fillna(selected_art_sample['birthyear'].mean(), inplace=True)\n",
        "\n",
        "selected_art_sample['deathyear'] = pd.to_numeric(selected_art_sample['deathyear'], errors='coerce')\n",
        "selected_art_sample['deathyear'].fillna(selected_art_sample['deathyear'].mean(), inplace=True)\n",
        "\n",
        "selected_art_sample['width'] = pd.to_numeric(selected_art_sample['width'], errors='coerce')\n",
        "selected_art_sample['width'].fillna(selected_art_sample['width'].mean(), inplace=True)\n",
        "\n",
        "selected_art_sample['height'] = pd.to_numeric(selected_art_sample['height'], errors='coerce')\n",
        "selected_art_sample['height'].fillna(selected_art_sample['height'].mean(), inplace=True)\n",
        "\n",
        "# imputing the categorical string column 'medium' with the most frequent value\n",
        "selected_art_sample['medium'].fillna(selected_art_sample['medium'].value_counts().index[0], inplace=True)\n",
        "# imputing the categorical string column 'viewtype' with the most frequent value\n",
        "selected_art_sample['viewtype'].fillna(selected_art_sample['viewtype'].value_counts().index[0], inplace=True)\n"
      ]
    },
    {
      "cell_type": "code",
      "execution_count": 8,
      "metadata": {},
      "outputs": [
        {
          "data": {
            "text/html": [
              "<div>\n",
              "<style scoped>\n",
              "    .dataframe tbody tr th:only-of-type {\n",
              "        vertical-align: middle;\n",
              "    }\n",
              "\n",
              "    .dataframe tbody tr th {\n",
              "        vertical-align: top;\n",
              "    }\n",
              "\n",
              "    .dataframe thead th {\n",
              "        text-align: right;\n",
              "    }\n",
              "</style>\n",
              "<table border=\"1\" class=\"dataframe\">\n",
              "  <thead>\n",
              "    <tr style=\"text-align: right;\">\n",
              "      <th></th>\n",
              "      <th>medium</th>\n",
              "      <th>viewtype</th>\n",
              "    </tr>\n",
              "  </thead>\n",
              "  <tbody>\n",
              "    <tr>\n",
              "      <th>count</th>\n",
              "      <td>1256</td>\n",
              "      <td>1256</td>\n",
              "    </tr>\n",
              "    <tr>\n",
              "      <th>unique</th>\n",
              "      <td>387</td>\n",
              "      <td>3</td>\n",
              "    </tr>\n",
              "    <tr>\n",
              "      <th>top</th>\n",
              "      <td>gelatin silver print</td>\n",
              "      <td>primary</td>\n",
              "    </tr>\n",
              "    <tr>\n",
              "      <th>freq</th>\n",
              "      <td>158</td>\n",
              "      <td>1234</td>\n",
              "    </tr>\n",
              "  </tbody>\n",
              "</table>\n",
              "</div>"
            ],
            "text/plain": [
              "                      medium viewtype\n",
              "count                   1256     1256\n",
              "unique                   387        3\n",
              "top     gelatin silver print  primary\n",
              "freq                     158     1234"
            ]
          },
          "execution_count": 8,
          "metadata": {},
          "output_type": "execute_result"
        }
      ],
      "source": [
        "selected_art_sample.loc[:, ['medium', 'viewtype']].describe()"
      ]
    },
    {
      "cell_type": "code",
      "execution_count": 9,
      "metadata": {},
      "outputs": [
        {
          "data": {
            "text/html": [
              "<div>\n",
              "<style scoped>\n",
              "    .dataframe tbody tr th:only-of-type {\n",
              "        vertical-align: middle;\n",
              "    }\n",
              "\n",
              "    .dataframe tbody tr th {\n",
              "        vertical-align: top;\n",
              "    }\n",
              "\n",
              "    .dataframe thead th {\n",
              "        text-align: right;\n",
              "    }\n",
              "</style>\n",
              "<table border=\"1\" class=\"dataframe\">\n",
              "  <thead>\n",
              "    <tr style=\"text-align: right;\">\n",
              "      <th></th>\n",
              "      <th>index</th>\n",
              "      <th>birthyear</th>\n",
              "      <th>deathyear</th>\n",
              "      <th>width</th>\n",
              "      <th>height</th>\n",
              "    </tr>\n",
              "  </thead>\n",
              "  <tbody>\n",
              "    <tr>\n",
              "      <th>count</th>\n",
              "      <td>1256.000000</td>\n",
              "      <td>1256.000000</td>\n",
              "      <td>1256.000000</td>\n",
              "      <td>1256.000000</td>\n",
              "      <td>1256.000000</td>\n",
              "    </tr>\n",
              "    <tr>\n",
              "      <th>mean</th>\n",
              "      <td>50386.377389</td>\n",
              "      <td>1864.704800</td>\n",
              "      <td>1933.715232</td>\n",
              "      <td>4101.064593</td>\n",
              "      <td>4325.584665</td>\n",
              "    </tr>\n",
              "    <tr>\n",
              "      <th>std</th>\n",
              "      <td>64483.981553</td>\n",
              "      <td>113.909302</td>\n",
              "      <td>112.144398</td>\n",
              "      <td>2119.122010</td>\n",
              "      <td>2326.304438</td>\n",
              "    </tr>\n",
              "    <tr>\n",
              "      <th>min</th>\n",
              "      <td>0.000000</td>\n",
              "      <td>1200.000000</td>\n",
              "      <td>1299.000000</td>\n",
              "      <td>640.000000</td>\n",
              "      <td>1042.000000</td>\n",
              "    </tr>\n",
              "    <tr>\n",
              "      <th>25%</th>\n",
              "      <td>313.750000</td>\n",
              "      <td>1855.000000</td>\n",
              "      <td>1933.715232</td>\n",
              "      <td>3055.750000</td>\n",
              "      <td>3233.750000</td>\n",
              "    </tr>\n",
              "    <tr>\n",
              "      <th>50%</th>\n",
              "      <td>626.500000</td>\n",
              "      <td>1902.000000</td>\n",
              "      <td>1969.000000</td>\n",
              "      <td>3561.500000</td>\n",
              "      <td>4000.000000</td>\n",
              "    </tr>\n",
              "    <tr>\n",
              "      <th>75%</th>\n",
              "      <td>99194.250000</td>\n",
              "      <td>1922.000000</td>\n",
              "      <td>2000.000000</td>\n",
              "      <td>4000.000000</td>\n",
              "      <td>4000.000000</td>\n",
              "    </tr>\n",
              "    <tr>\n",
              "      <th>max</th>\n",
              "      <td>200025.000000</td>\n",
              "      <td>1985.000000</td>\n",
              "      <td>2021.000000</td>\n",
              "      <td>23610.000000</td>\n",
              "      <td>40461.000000</td>\n",
              "    </tr>\n",
              "  </tbody>\n",
              "</table>\n",
              "</div>"
            ],
            "text/plain": [
              "               index    birthyear    deathyear         width        height\n",
              "count    1256.000000  1256.000000  1256.000000   1256.000000   1256.000000\n",
              "mean    50386.377389  1864.704800  1933.715232   4101.064593   4325.584665\n",
              "std     64483.981553   113.909302   112.144398   2119.122010   2326.304438\n",
              "min         0.000000  1200.000000  1299.000000    640.000000   1042.000000\n",
              "25%       313.750000  1855.000000  1933.715232   3055.750000   3233.750000\n",
              "50%       626.500000  1902.000000  1969.000000   3561.500000   4000.000000\n",
              "75%     99194.250000  1922.000000  2000.000000   4000.000000   4000.000000\n",
              "max    200025.000000  1985.000000  2021.000000  23610.000000  40461.000000"
            ]
          },
          "execution_count": 9,
          "metadata": {},
          "output_type": "execute_result"
        }
      ],
      "source": [
        "selected_art_sample.describe()"
      ]
    },
    {
      "cell_type": "markdown",
      "metadata": {},
      "source": [
        "## Scaling the selected art sample for use in Dimensionality Reduction"
      ]
    },
    {
      "cell_type": "code",
      "execution_count": 10,
      "metadata": {},
      "outputs": [],
      "source": [
        "from sklearn.preprocessing import StandardScaler\n",
        "# applying the standard scaler to the numerical data\n",
        "scaler = StandardScaler()\n",
        "selected_numerical_art_sample = selected_art_sample.loc[:, ['birthyear', 'deathyear', 'width', 'height']]\n",
        "scaler.fit(selected_numerical_art_sample)\n",
        "scaled_numerical_art_sample = scaler.transform(selected_numerical_art_sample)\n",
        "scaled_numerical_art_sample = pd.DataFrame(scaler.transform(selected_numerical_art_sample), columns=selected_numerical_art_sample.columns)"
      ]
    },
    {
      "cell_type": "code",
      "execution_count": 11,
      "metadata": {},
      "outputs": [
        {
          "data": {
            "text/html": [
              "<div>\n",
              "<style scoped>\n",
              "    .dataframe tbody tr th:only-of-type {\n",
              "        vertical-align: middle;\n",
              "    }\n",
              "\n",
              "    .dataframe tbody tr th {\n",
              "        vertical-align: top;\n",
              "    }\n",
              "\n",
              "    .dataframe thead th {\n",
              "        text-align: right;\n",
              "    }\n",
              "</style>\n",
              "<table border=\"1\" class=\"dataframe\">\n",
              "  <thead>\n",
              "    <tr style=\"text-align: right;\">\n",
              "      <th></th>\n",
              "      <th>birthyear</th>\n",
              "      <th>deathyear</th>\n",
              "      <th>width</th>\n",
              "      <th>height</th>\n",
              "    </tr>\n",
              "  </thead>\n",
              "  <tbody>\n",
              "    <tr>\n",
              "      <th>count</th>\n",
              "      <td>1.256000e+03</td>\n",
              "      <td>1.256000e+03</td>\n",
              "      <td>1.256000e+03</td>\n",
              "      <td>1.256000e+03</td>\n",
              "    </tr>\n",
              "    <tr>\n",
              "      <th>mean</th>\n",
              "      <td>-1.765042e-15</td>\n",
              "      <td>1.335096e-15</td>\n",
              "      <td>2.772022e-16</td>\n",
              "      <td>7.354344e-17</td>\n",
              "    </tr>\n",
              "    <tr>\n",
              "      <th>std</th>\n",
              "      <td>1.000398e+00</td>\n",
              "      <td>1.000398e+00</td>\n",
              "      <td>1.000398e+00</td>\n",
              "      <td>1.000398e+00</td>\n",
              "    </tr>\n",
              "    <tr>\n",
              "      <th>min</th>\n",
              "      <td>-5.837711e+00</td>\n",
              "      <td>-5.662058e+00</td>\n",
              "      <td>-1.633905e+00</td>\n",
              "      <td>-1.412065e+00</td>\n",
              "    </tr>\n",
              "    <tr>\n",
              "      <th>25%</th>\n",
              "      <td>-8.523154e-02</td>\n",
              "      <td>2.028316e-15</td>\n",
              "      <td>-4.934737e-01</td>\n",
              "      <td>-4.695299e-01</td>\n",
              "    </tr>\n",
              "    <tr>\n",
              "      <th>50%</th>\n",
              "      <td>3.275418e-01</td>\n",
              "      <td>3.147623e-01</td>\n",
              "      <td>-2.547185e-01</td>\n",
              "      <td>-1.400136e-01</td>\n",
              "    </tr>\n",
              "    <tr>\n",
              "      <th>75%</th>\n",
              "      <td>5.031900e-01</td>\n",
              "      <td>5.913017e-01</td>\n",
              "      <td>-4.771073e-02</td>\n",
              "      <td>-1.400136e-01</td>\n",
              "    </tr>\n",
              "    <tr>\n",
              "      <th>max</th>\n",
              "      <td>1.056482e+00</td>\n",
              "      <td>7.786348e-01</td>\n",
              "      <td>9.209808e+00</td>\n",
              "      <td>1.553959e+01</td>\n",
              "    </tr>\n",
              "  </tbody>\n",
              "</table>\n",
              "</div>"
            ],
            "text/plain": [
              "          birthyear     deathyear         width        height\n",
              "count  1.256000e+03  1.256000e+03  1.256000e+03  1.256000e+03\n",
              "mean  -1.765042e-15  1.335096e-15  2.772022e-16  7.354344e-17\n",
              "std    1.000398e+00  1.000398e+00  1.000398e+00  1.000398e+00\n",
              "min   -5.837711e+00 -5.662058e+00 -1.633905e+00 -1.412065e+00\n",
              "25%   -8.523154e-02  2.028316e-15 -4.934737e-01 -4.695299e-01\n",
              "50%    3.275418e-01  3.147623e-01 -2.547185e-01 -1.400136e-01\n",
              "75%    5.031900e-01  5.913017e-01 -4.771073e-02 -1.400136e-01\n",
              "max    1.056482e+00  7.786348e-01  9.209808e+00  1.553959e+01"
            ]
          },
          "execution_count": 11,
          "metadata": {},
          "output_type": "execute_result"
        }
      ],
      "source": [
        "scaled_numerical_art_sample.describe()"
      ]
    },
    {
      "cell_type": "code",
      "execution_count": 12,
      "metadata": {},
      "outputs": [],
      "source": [
        "scaled_numerical_art_sample.to_csv('./data_samples/scaled_numerical_art_sample.csv', index=False)"
      ]
    },
    {
      "cell_type": "markdown",
      "metadata": {},
      "source": [
        "# Simpler Linear Methods"
      ]
    },
    {
      "cell_type": "markdown",
      "metadata": {},
      "source": [
        "## PCA (Principal Component Analysis)"
      ]
    },
    {
      "cell_type": "code",
      "execution_count": 13,
      "metadata": {},
      "outputs": [],
      "source": [
        "# applying PCA to the scaled data\n",
        "from sklearn.decomposition import PCA\n",
        "def apply_pca(scaled_df, n_components=2):\n",
        "    pca = PCA(n_components=n_components)\n",
        "    pca.fit(scaled_df)\n",
        "    pca_df = pca.transform(scaled_df)\n",
        "    pca_df = pd.DataFrame(pca_df, columns=['PC1', 'PC2'])\n",
        "    return pca_df"
      ]
    },
    {
      "cell_type": "code",
      "execution_count": 14,
      "metadata": {},
      "outputs": [],
      "source": [
        "pca_art = apply_pca(scaled_numerical_art_sample)"
      ]
    },
    {
      "cell_type": "code",
      "execution_count": 15,
      "metadata": {},
      "outputs": [
        {
          "data": {
            "text/html": [
              "<div>\n",
              "<style scoped>\n",
              "    .dataframe tbody tr th:only-of-type {\n",
              "        vertical-align: middle;\n",
              "    }\n",
              "\n",
              "    .dataframe tbody tr th {\n",
              "        vertical-align: top;\n",
              "    }\n",
              "\n",
              "    .dataframe thead th {\n",
              "        text-align: right;\n",
              "    }\n",
              "</style>\n",
              "<table border=\"1\" class=\"dataframe\">\n",
              "  <thead>\n",
              "    <tr style=\"text-align: right;\">\n",
              "      <th></th>\n",
              "      <th>PC1</th>\n",
              "      <th>PC2</th>\n",
              "    </tr>\n",
              "  </thead>\n",
              "  <tbody>\n",
              "    <tr>\n",
              "      <th>0</th>\n",
              "      <td>0.067045</td>\n",
              "      <td>1.354249</td>\n",
              "    </tr>\n",
              "    <tr>\n",
              "      <th>1</th>\n",
              "      <td>0.233993</td>\n",
              "      <td>1.403144</td>\n",
              "    </tr>\n",
              "    <tr>\n",
              "      <th>2</th>\n",
              "      <td>3.259070</td>\n",
              "      <td>-1.028884</td>\n",
              "    </tr>\n",
              "    <tr>\n",
              "      <th>3</th>\n",
              "      <td>0.624216</td>\n",
              "      <td>-0.416424</td>\n",
              "    </tr>\n",
              "    <tr>\n",
              "      <th>4</th>\n",
              "      <td>0.755988</td>\n",
              "      <td>0.366136</td>\n",
              "    </tr>\n",
              "  </tbody>\n",
              "</table>\n",
              "</div>"
            ],
            "text/plain": [
              "        PC1       PC2\n",
              "0  0.067045  1.354249\n",
              "1  0.233993  1.403144\n",
              "2  3.259070 -1.028884\n",
              "3  0.624216 -0.416424\n",
              "4  0.755988  0.366136"
            ]
          },
          "execution_count": 15,
          "metadata": {},
          "output_type": "execute_result"
        }
      ],
      "source": [
        "pca_art.head()"
      ]
    },
    {
      "cell_type": "markdown",
      "metadata": {},
      "source": [
        "## SVD (Singular Value Decomposition)"
      ]
    },
    {
      "cell_type": "code",
      "execution_count": 16,
      "metadata": {},
      "outputs": [],
      "source": [
        "from sklearn.decomposition import TruncatedSVD\n",
        "\n",
        "def apply_svd(scaled_df, n_components=2):\n",
        "    svd = TruncatedSVD(n_components=n_components)\n",
        "    svd.fit(scaled_df)\n",
        "    svd_df = svd.transform(scaled_df)\n",
        "    svd_df = pd.DataFrame(svd_df, columns=[f'SVD{i+1}' for i in range(n_components)])\n",
        "    return svd_df\n"
      ]
    },
    {
      "cell_type": "code",
      "execution_count": 17,
      "metadata": {},
      "outputs": [
        {
          "data": {
            "text/html": [
              "<div>\n",
              "<style scoped>\n",
              "    .dataframe tbody tr th:only-of-type {\n",
              "        vertical-align: middle;\n",
              "    }\n",
              "\n",
              "    .dataframe tbody tr th {\n",
              "        vertical-align: top;\n",
              "    }\n",
              "\n",
              "    .dataframe thead th {\n",
              "        text-align: right;\n",
              "    }\n",
              "</style>\n",
              "<table border=\"1\" class=\"dataframe\">\n",
              "  <thead>\n",
              "    <tr style=\"text-align: right;\">\n",
              "      <th></th>\n",
              "      <th>SVD1</th>\n",
              "      <th>SVD2</th>\n",
              "    </tr>\n",
              "  </thead>\n",
              "  <tbody>\n",
              "    <tr>\n",
              "      <th>0</th>\n",
              "      <td>0.067045</td>\n",
              "      <td>1.354249</td>\n",
              "    </tr>\n",
              "    <tr>\n",
              "      <th>1</th>\n",
              "      <td>0.233993</td>\n",
              "      <td>1.403144</td>\n",
              "    </tr>\n",
              "    <tr>\n",
              "      <th>2</th>\n",
              "      <td>3.259070</td>\n",
              "      <td>-1.028884</td>\n",
              "    </tr>\n",
              "    <tr>\n",
              "      <th>3</th>\n",
              "      <td>0.624216</td>\n",
              "      <td>-0.416424</td>\n",
              "    </tr>\n",
              "    <tr>\n",
              "      <th>4</th>\n",
              "      <td>0.755988</td>\n",
              "      <td>0.366136</td>\n",
              "    </tr>\n",
              "  </tbody>\n",
              "</table>\n",
              "</div>"
            ],
            "text/plain": [
              "       SVD1      SVD2\n",
              "0  0.067045  1.354249\n",
              "1  0.233993  1.403144\n",
              "2  3.259070 -1.028884\n",
              "3  0.624216 -0.416424\n",
              "4  0.755988  0.366136"
            ]
          },
          "execution_count": 17,
          "metadata": {},
          "output_type": "execute_result"
        }
      ],
      "source": [
        "svd_art = apply_svd(scaled_numerical_art_sample)\n",
        "svd_art.head()"
      ]
    },
    {
      "cell_type": "markdown",
      "metadata": {},
      "source": [
        "## MDS (Multidimensional Scaling)"
      ]
    },
    {
      "cell_type": "code",
      "execution_count": 18,
      "metadata": {},
      "outputs": [],
      "source": [
        "from sklearn.manifold import MDS\n",
        "\n",
        "def apply_mds(scaled_df, n_components=2):\n",
        "    mds = MDS(n_components=n_components)\n",
        "    mds_df = mds.fit_transform(scaled_df)\n",
        "    mds_df = pd.DataFrame(mds_df, columns=[f'MDS{i+1}' for i in range(n_components)])\n",
        "    return mds_df"
      ]
    },
    {
      "cell_type": "code",
      "execution_count": 19,
      "metadata": {},
      "outputs": [
        {
          "name": "stderr",
          "output_type": "stream",
          "text": [
            "/Users/mocha/miniconda3/envs/mamba/envs/ts-torch/lib/python3.8/site-packages/sklearn/manifold/_mds.py:299: FutureWarning: The default value of `normalized_stress` will change to `'auto'` in version 1.4. To suppress this warning, manually set the value of `normalized_stress`.\n",
            "  warnings.warn(\n"
          ]
        },
        {
          "data": {
            "text/html": [
              "<div>\n",
              "<style scoped>\n",
              "    .dataframe tbody tr th:only-of-type {\n",
              "        vertical-align: middle;\n",
              "    }\n",
              "\n",
              "    .dataframe tbody tr th {\n",
              "        vertical-align: top;\n",
              "    }\n",
              "\n",
              "    .dataframe thead th {\n",
              "        text-align: right;\n",
              "    }\n",
              "</style>\n",
              "<table border=\"1\" class=\"dataframe\">\n",
              "  <thead>\n",
              "    <tr style=\"text-align: right;\">\n",
              "      <th></th>\n",
              "      <th>MDS1</th>\n",
              "      <th>MDS2</th>\n",
              "    </tr>\n",
              "  </thead>\n",
              "  <tbody>\n",
              "    <tr>\n",
              "      <th>0</th>\n",
              "      <td>0.079985</td>\n",
              "      <td>-1.431451</td>\n",
              "    </tr>\n",
              "    <tr>\n",
              "      <th>1</th>\n",
              "      <td>0.233935</td>\n",
              "      <td>-1.472768</td>\n",
              "    </tr>\n",
              "    <tr>\n",
              "      <th>2</th>\n",
              "      <td>3.393564</td>\n",
              "      <td>0.654666</td>\n",
              "    </tr>\n",
              "    <tr>\n",
              "      <th>3</th>\n",
              "      <td>0.696003</td>\n",
              "      <td>0.355472</td>\n",
              "    </tr>\n",
              "    <tr>\n",
              "      <th>4</th>\n",
              "      <td>0.788980</td>\n",
              "      <td>-0.478149</td>\n",
              "    </tr>\n",
              "  </tbody>\n",
              "</table>\n",
              "</div>"
            ],
            "text/plain": [
              "       MDS1      MDS2\n",
              "0  0.079985 -1.431451\n",
              "1  0.233935 -1.472768\n",
              "2  3.393564  0.654666\n",
              "3  0.696003  0.355472\n",
              "4  0.788980 -0.478149"
            ]
          },
          "execution_count": 19,
          "metadata": {},
          "output_type": "execute_result"
        }
      ],
      "source": [
        "mds_art = apply_mds(scaled_numerical_art_sample)\n",
        "mds_art.head()"
      ]
    },
    {
      "cell_type": "markdown",
      "metadata": {},
      "source": [
        "## ISOMap (Isometric Mapping) "
      ]
    },
    {
      "cell_type": "code",
      "execution_count": 20,
      "metadata": {},
      "outputs": [],
      "source": [
        "from sklearn.manifold import Isomap\n",
        "\n",
        "def apply_isomap(scaled_df, n_components=2, n_neighbors=5):\n",
        "    isomap = Isomap(n_components=n_components, n_neighbors=n_neighbors)\n",
        "    isomap_df = isomap.fit_transform(scaled_df)\n",
        "    isomap_df = pd.DataFrame(isomap_df, columns=[f'ISOMap{i+1}' for i in range(n_components)])\n",
        "    return isomap_df"
      ]
    },
    {
      "cell_type": "code",
      "execution_count": 21,
      "metadata": {},
      "outputs": [
        {
          "name": "stderr",
          "output_type": "stream",
          "text": [
            "/Users/mocha/miniconda3/envs/mamba/envs/ts-torch/lib/python3.8/site-packages/sklearn/manifold/_isomap.py:373: UserWarning: The number of connected components of the neighbors graph is 10 > 1. Completing the graph to fit Isomap might be slow. Increase the number of neighbors to avoid this issue.\n",
            "  self._fit_transform(X)\n",
            "/Users/mocha/miniconda3/envs/mamba/envs/ts-torch/lib/python3.8/site-packages/scipy/sparse/_index.py:103: SparseEfficiencyWarning: Changing the sparsity structure of a csr_matrix is expensive. lil_matrix is more efficient.\n",
            "  self._set_intXint(row, col, x.flat[0])\n",
            "/Users/mocha/miniconda3/envs/mamba/envs/ts-torch/lib/python3.8/site-packages/scipy/sparse/_index.py:103: SparseEfficiencyWarning: Changing the sparsity structure of a csr_matrix is expensive. lil_matrix is more efficient.\n",
            "  self._set_intXint(row, col, x.flat[0])\n",
            "/Users/mocha/miniconda3/envs/mamba/envs/ts-torch/lib/python3.8/site-packages/scipy/sparse/_index.py:103: SparseEfficiencyWarning: Changing the sparsity structure of a csr_matrix is expensive. lil_matrix is more efficient.\n",
            "  self._set_intXint(row, col, x.flat[0])\n",
            "/Users/mocha/miniconda3/envs/mamba/envs/ts-torch/lib/python3.8/site-packages/scipy/sparse/_index.py:103: SparseEfficiencyWarning: Changing the sparsity structure of a csr_matrix is expensive. lil_matrix is more efficient.\n",
            "  self._set_intXint(row, col, x.flat[0])\n",
            "/Users/mocha/miniconda3/envs/mamba/envs/ts-torch/lib/python3.8/site-packages/scipy/sparse/_index.py:103: SparseEfficiencyWarning: Changing the sparsity structure of a csr_matrix is expensive. lil_matrix is more efficient.\n",
            "  self._set_intXint(row, col, x.flat[0])\n",
            "/Users/mocha/miniconda3/envs/mamba/envs/ts-torch/lib/python3.8/site-packages/scipy/sparse/_index.py:103: SparseEfficiencyWarning: Changing the sparsity structure of a csr_matrix is expensive. lil_matrix is more efficient.\n",
            "  self._set_intXint(row, col, x.flat[0])\n",
            "/Users/mocha/miniconda3/envs/mamba/envs/ts-torch/lib/python3.8/site-packages/scipy/sparse/_index.py:103: SparseEfficiencyWarning: Changing the sparsity structure of a csr_matrix is expensive. lil_matrix is more efficient.\n",
            "  self._set_intXint(row, col, x.flat[0])\n",
            "/Users/mocha/miniconda3/envs/mamba/envs/ts-torch/lib/python3.8/site-packages/scipy/sparse/_index.py:103: SparseEfficiencyWarning: Changing the sparsity structure of a csr_matrix is expensive. lil_matrix is more efficient.\n",
            "  self._set_intXint(row, col, x.flat[0])\n",
            "/Users/mocha/miniconda3/envs/mamba/envs/ts-torch/lib/python3.8/site-packages/scipy/sparse/_index.py:103: SparseEfficiencyWarning: Changing the sparsity structure of a csr_matrix is expensive. lil_matrix is more efficient.\n",
            "  self._set_intXint(row, col, x.flat[0])\n",
            "/Users/mocha/miniconda3/envs/mamba/envs/ts-torch/lib/python3.8/site-packages/scipy/sparse/_index.py:103: SparseEfficiencyWarning: Changing the sparsity structure of a csr_matrix is expensive. lil_matrix is more efficient.\n",
            "  self._set_intXint(row, col, x.flat[0])\n",
            "/Users/mocha/miniconda3/envs/mamba/envs/ts-torch/lib/python3.8/site-packages/scipy/sparse/_index.py:103: SparseEfficiencyWarning: Changing the sparsity structure of a csr_matrix is expensive. lil_matrix is more efficient.\n",
            "  self._set_intXint(row, col, x.flat[0])\n",
            "/Users/mocha/miniconda3/envs/mamba/envs/ts-torch/lib/python3.8/site-packages/scipy/sparse/_index.py:103: SparseEfficiencyWarning: Changing the sparsity structure of a csr_matrix is expensive. lil_matrix is more efficient.\n",
            "  self._set_intXint(row, col, x.flat[0])\n",
            "/Users/mocha/miniconda3/envs/mamba/envs/ts-torch/lib/python3.8/site-packages/scipy/sparse/_index.py:103: SparseEfficiencyWarning: Changing the sparsity structure of a csr_matrix is expensive. lil_matrix is more efficient.\n",
            "  self._set_intXint(row, col, x.flat[0])\n",
            "/Users/mocha/miniconda3/envs/mamba/envs/ts-torch/lib/python3.8/site-packages/scipy/sparse/_index.py:103: SparseEfficiencyWarning: Changing the sparsity structure of a csr_matrix is expensive. lil_matrix is more efficient.\n",
            "  self._set_intXint(row, col, x.flat[0])\n",
            "/Users/mocha/miniconda3/envs/mamba/envs/ts-torch/lib/python3.8/site-packages/scipy/sparse/_index.py:103: SparseEfficiencyWarning: Changing the sparsity structure of a csr_matrix is expensive. lil_matrix is more efficient.\n",
            "  self._set_intXint(row, col, x.flat[0])\n",
            "/Users/mocha/miniconda3/envs/mamba/envs/ts-torch/lib/python3.8/site-packages/scipy/sparse/_index.py:103: SparseEfficiencyWarning: Changing the sparsity structure of a csr_matrix is expensive. lil_matrix is more efficient.\n",
            "  self._set_intXint(row, col, x.flat[0])\n",
            "/Users/mocha/miniconda3/envs/mamba/envs/ts-torch/lib/python3.8/site-packages/scipy/sparse/_index.py:103: SparseEfficiencyWarning: Changing the sparsity structure of a csr_matrix is expensive. lil_matrix is more efficient.\n",
            "  self._set_intXint(row, col, x.flat[0])\n",
            "/Users/mocha/miniconda3/envs/mamba/envs/ts-torch/lib/python3.8/site-packages/scipy/sparse/_index.py:103: SparseEfficiencyWarning: Changing the sparsity structure of a csr_matrix is expensive. lil_matrix is more efficient.\n",
            "  self._set_intXint(row, col, x.flat[0])\n",
            "/Users/mocha/miniconda3/envs/mamba/envs/ts-torch/lib/python3.8/site-packages/scipy/sparse/_index.py:103: SparseEfficiencyWarning: Changing the sparsity structure of a csr_matrix is expensive. lil_matrix is more efficient.\n",
            "  self._set_intXint(row, col, x.flat[0])\n",
            "/Users/mocha/miniconda3/envs/mamba/envs/ts-torch/lib/python3.8/site-packages/scipy/sparse/_index.py:103: SparseEfficiencyWarning: Changing the sparsity structure of a csr_matrix is expensive. lil_matrix is more efficient.\n",
            "  self._set_intXint(row, col, x.flat[0])\n",
            "/Users/mocha/miniconda3/envs/mamba/envs/ts-torch/lib/python3.8/site-packages/scipy/sparse/_index.py:103: SparseEfficiencyWarning: Changing the sparsity structure of a csr_matrix is expensive. lil_matrix is more efficient.\n",
            "  self._set_intXint(row, col, x.flat[0])\n",
            "/Users/mocha/miniconda3/envs/mamba/envs/ts-torch/lib/python3.8/site-packages/scipy/sparse/_index.py:103: SparseEfficiencyWarning: Changing the sparsity structure of a csr_matrix is expensive. lil_matrix is more efficient.\n",
            "  self._set_intXint(row, col, x.flat[0])\n",
            "/Users/mocha/miniconda3/envs/mamba/envs/ts-torch/lib/python3.8/site-packages/scipy/sparse/_index.py:103: SparseEfficiencyWarning: Changing the sparsity structure of a csr_matrix is expensive. lil_matrix is more efficient.\n",
            "  self._set_intXint(row, col, x.flat[0])\n",
            "/Users/mocha/miniconda3/envs/mamba/envs/ts-torch/lib/python3.8/site-packages/scipy/sparse/_index.py:103: SparseEfficiencyWarning: Changing the sparsity structure of a csr_matrix is expensive. lil_matrix is more efficient.\n",
            "  self._set_intXint(row, col, x.flat[0])\n",
            "/Users/mocha/miniconda3/envs/mamba/envs/ts-torch/lib/python3.8/site-packages/scipy/sparse/_index.py:103: SparseEfficiencyWarning: Changing the sparsity structure of a csr_matrix is expensive. lil_matrix is more efficient.\n",
            "  self._set_intXint(row, col, x.flat[0])\n",
            "/Users/mocha/miniconda3/envs/mamba/envs/ts-torch/lib/python3.8/site-packages/scipy/sparse/_index.py:103: SparseEfficiencyWarning: Changing the sparsity structure of a csr_matrix is expensive. lil_matrix is more efficient.\n",
            "  self._set_intXint(row, col, x.flat[0])\n",
            "/Users/mocha/miniconda3/envs/mamba/envs/ts-torch/lib/python3.8/site-packages/scipy/sparse/_index.py:103: SparseEfficiencyWarning: Changing the sparsity structure of a csr_matrix is expensive. lil_matrix is more efficient.\n",
            "  self._set_intXint(row, col, x.flat[0])\n",
            "/Users/mocha/miniconda3/envs/mamba/envs/ts-torch/lib/python3.8/site-packages/scipy/sparse/_index.py:103: SparseEfficiencyWarning: Changing the sparsity structure of a csr_matrix is expensive. lil_matrix is more efficient.\n",
            "  self._set_intXint(row, col, x.flat[0])\n",
            "/Users/mocha/miniconda3/envs/mamba/envs/ts-torch/lib/python3.8/site-packages/scipy/sparse/_index.py:103: SparseEfficiencyWarning: Changing the sparsity structure of a csr_matrix is expensive. lil_matrix is more efficient.\n",
            "  self._set_intXint(row, col, x.flat[0])\n",
            "/Users/mocha/miniconda3/envs/mamba/envs/ts-torch/lib/python3.8/site-packages/scipy/sparse/_index.py:103: SparseEfficiencyWarning: Changing the sparsity structure of a csr_matrix is expensive. lil_matrix is more efficient.\n",
            "  self._set_intXint(row, col, x.flat[0])\n",
            "/Users/mocha/miniconda3/envs/mamba/envs/ts-torch/lib/python3.8/site-packages/scipy/sparse/_index.py:103: SparseEfficiencyWarning: Changing the sparsity structure of a csr_matrix is expensive. lil_matrix is more efficient.\n",
            "  self._set_intXint(row, col, x.flat[0])\n",
            "/Users/mocha/miniconda3/envs/mamba/envs/ts-torch/lib/python3.8/site-packages/scipy/sparse/_index.py:103: SparseEfficiencyWarning: Changing the sparsity structure of a csr_matrix is expensive. lil_matrix is more efficient.\n",
            "  self._set_intXint(row, col, x.flat[0])\n",
            "/Users/mocha/miniconda3/envs/mamba/envs/ts-torch/lib/python3.8/site-packages/scipy/sparse/_index.py:103: SparseEfficiencyWarning: Changing the sparsity structure of a csr_matrix is expensive. lil_matrix is more efficient.\n",
            "  self._set_intXint(row, col, x.flat[0])\n",
            "/Users/mocha/miniconda3/envs/mamba/envs/ts-torch/lib/python3.8/site-packages/scipy/sparse/_index.py:103: SparseEfficiencyWarning: Changing the sparsity structure of a csr_matrix is expensive. lil_matrix is more efficient.\n",
            "  self._set_intXint(row, col, x.flat[0])\n",
            "/Users/mocha/miniconda3/envs/mamba/envs/ts-torch/lib/python3.8/site-packages/scipy/sparse/_index.py:103: SparseEfficiencyWarning: Changing the sparsity structure of a csr_matrix is expensive. lil_matrix is more efficient.\n",
            "  self._set_intXint(row, col, x.flat[0])\n",
            "/Users/mocha/miniconda3/envs/mamba/envs/ts-torch/lib/python3.8/site-packages/scipy/sparse/_index.py:103: SparseEfficiencyWarning: Changing the sparsity structure of a csr_matrix is expensive. lil_matrix is more efficient.\n",
            "  self._set_intXint(row, col, x.flat[0])\n",
            "/Users/mocha/miniconda3/envs/mamba/envs/ts-torch/lib/python3.8/site-packages/scipy/sparse/_index.py:103: SparseEfficiencyWarning: Changing the sparsity structure of a csr_matrix is expensive. lil_matrix is more efficient.\n",
            "  self._set_intXint(row, col, x.flat[0])\n",
            "/Users/mocha/miniconda3/envs/mamba/envs/ts-torch/lib/python3.8/site-packages/scipy/sparse/_index.py:103: SparseEfficiencyWarning: Changing the sparsity structure of a csr_matrix is expensive. lil_matrix is more efficient.\n",
            "  self._set_intXint(row, col, x.flat[0])\n",
            "/Users/mocha/miniconda3/envs/mamba/envs/ts-torch/lib/python3.8/site-packages/scipy/sparse/_index.py:103: SparseEfficiencyWarning: Changing the sparsity structure of a csr_matrix is expensive. lil_matrix is more efficient.\n",
            "  self._set_intXint(row, col, x.flat[0])\n",
            "/Users/mocha/miniconda3/envs/mamba/envs/ts-torch/lib/python3.8/site-packages/scipy/sparse/_index.py:103: SparseEfficiencyWarning: Changing the sparsity structure of a csr_matrix is expensive. lil_matrix is more efficient.\n",
            "  self._set_intXint(row, col, x.flat[0])\n",
            "/Users/mocha/miniconda3/envs/mamba/envs/ts-torch/lib/python3.8/site-packages/scipy/sparse/_index.py:103: SparseEfficiencyWarning: Changing the sparsity structure of a csr_matrix is expensive. lil_matrix is more efficient.\n",
            "  self._set_intXint(row, col, x.flat[0])\n",
            "/Users/mocha/miniconda3/envs/mamba/envs/ts-torch/lib/python3.8/site-packages/scipy/sparse/_index.py:103: SparseEfficiencyWarning: Changing the sparsity structure of a csr_matrix is expensive. lil_matrix is more efficient.\n",
            "  self._set_intXint(row, col, x.flat[0])\n",
            "/Users/mocha/miniconda3/envs/mamba/envs/ts-torch/lib/python3.8/site-packages/scipy/sparse/_index.py:103: SparseEfficiencyWarning: Changing the sparsity structure of a csr_matrix is expensive. lil_matrix is more efficient.\n",
            "  self._set_intXint(row, col, x.flat[0])\n",
            "/Users/mocha/miniconda3/envs/mamba/envs/ts-torch/lib/python3.8/site-packages/scipy/sparse/_index.py:103: SparseEfficiencyWarning: Changing the sparsity structure of a csr_matrix is expensive. lil_matrix is more efficient.\n",
            "  self._set_intXint(row, col, x.flat[0])\n",
            "/Users/mocha/miniconda3/envs/mamba/envs/ts-torch/lib/python3.8/site-packages/scipy/sparse/_index.py:103: SparseEfficiencyWarning: Changing the sparsity structure of a csr_matrix is expensive. lil_matrix is more efficient.\n",
            "  self._set_intXint(row, col, x.flat[0])\n"
          ]
        },
        {
          "data": {
            "text/html": [
              "<div>\n",
              "<style scoped>\n",
              "    .dataframe tbody tr th:only-of-type {\n",
              "        vertical-align: middle;\n",
              "    }\n",
              "\n",
              "    .dataframe tbody tr th {\n",
              "        vertical-align: top;\n",
              "    }\n",
              "\n",
              "    .dataframe thead th {\n",
              "        text-align: right;\n",
              "    }\n",
              "</style>\n",
              "<table border=\"1\" class=\"dataframe\">\n",
              "  <thead>\n",
              "    <tr style=\"text-align: right;\">\n",
              "      <th></th>\n",
              "      <th>ISOMap1</th>\n",
              "      <th>ISOMap2</th>\n",
              "    </tr>\n",
              "  </thead>\n",
              "  <tbody>\n",
              "    <tr>\n",
              "      <th>0</th>\n",
              "      <td>-0.077824</td>\n",
              "      <td>1.948536</td>\n",
              "    </tr>\n",
              "    <tr>\n",
              "      <th>1</th>\n",
              "      <td>-0.050592</td>\n",
              "      <td>1.936797</td>\n",
              "    </tr>\n",
              "    <tr>\n",
              "      <th>2</th>\n",
              "      <td>5.110158</td>\n",
              "      <td>-2.146284</td>\n",
              "    </tr>\n",
              "    <tr>\n",
              "      <th>3</th>\n",
              "      <td>1.061674</td>\n",
              "      <td>-0.553206</td>\n",
              "    </tr>\n",
              "    <tr>\n",
              "      <th>4</th>\n",
              "      <td>0.593286</td>\n",
              "      <td>0.665037</td>\n",
              "    </tr>\n",
              "  </tbody>\n",
              "</table>\n",
              "</div>"
            ],
            "text/plain": [
              "    ISOMap1   ISOMap2\n",
              "0 -0.077824  1.948536\n",
              "1 -0.050592  1.936797\n",
              "2  5.110158 -2.146284\n",
              "3  1.061674 -0.553206\n",
              "4  0.593286  0.665037"
            ]
          },
          "execution_count": 21,
          "metadata": {},
          "output_type": "execute_result"
        }
      ],
      "source": [
        "isomap_art = apply_isomap(scaled_numerical_art_sample)\n",
        "isomap_art.head()"
      ]
    },
    {
      "cell_type": "markdown",
      "metadata": {},
      "source": [
        "## LLE (Locally Linear Embedding)"
      ]
    },
    {
      "cell_type": "code",
      "execution_count": 22,
      "metadata": {},
      "outputs": [],
      "source": [
        "from sklearn.manifold import LocallyLinearEmbedding\n",
        "\n",
        "def apply_lle(scaled_df, n_components=2, n_neighbors=5):\n",
        "    lle = LocallyLinearEmbedding(n_components=n_components, n_neighbors=n_neighbors)\n",
        "    lle_df = lle.fit_transform(scaled_df)\n",
        "    lle_df = pd.DataFrame(lle_df, columns=[f'LLE{i+1}' for i in range(n_components)])\n",
        "    return lle_df\n"
      ]
    },
    {
      "cell_type": "code",
      "execution_count": 23,
      "metadata": {},
      "outputs": [
        {
          "data": {
            "text/html": [
              "<div>\n",
              "<style scoped>\n",
              "    .dataframe tbody tr th:only-of-type {\n",
              "        vertical-align: middle;\n",
              "    }\n",
              "\n",
              "    .dataframe tbody tr th {\n",
              "        vertical-align: top;\n",
              "    }\n",
              "\n",
              "    .dataframe thead th {\n",
              "        text-align: right;\n",
              "    }\n",
              "</style>\n",
              "<table border=\"1\" class=\"dataframe\">\n",
              "  <thead>\n",
              "    <tr style=\"text-align: right;\">\n",
              "      <th></th>\n",
              "      <th>LLE1</th>\n",
              "      <th>LLE2</th>\n",
              "    </tr>\n",
              "  </thead>\n",
              "  <tbody>\n",
              "    <tr>\n",
              "      <th>0</th>\n",
              "      <td>0.000864</td>\n",
              "      <td>0.000604</td>\n",
              "    </tr>\n",
              "    <tr>\n",
              "      <th>1</th>\n",
              "      <td>0.000860</td>\n",
              "      <td>0.001058</td>\n",
              "    </tr>\n",
              "    <tr>\n",
              "      <th>2</th>\n",
              "      <td>0.000047</td>\n",
              "      <td>0.000290</td>\n",
              "    </tr>\n",
              "    <tr>\n",
              "      <th>3</th>\n",
              "      <td>0.000513</td>\n",
              "      <td>-0.000301</td>\n",
              "    </tr>\n",
              "    <tr>\n",
              "      <th>4</th>\n",
              "      <td>-0.002656</td>\n",
              "      <td>0.001543</td>\n",
              "    </tr>\n",
              "  </tbody>\n",
              "</table>\n",
              "</div>"
            ],
            "text/plain": [
              "       LLE1      LLE2\n",
              "0  0.000864  0.000604\n",
              "1  0.000860  0.001058\n",
              "2  0.000047  0.000290\n",
              "3  0.000513 -0.000301\n",
              "4 -0.002656  0.001543"
            ]
          },
          "execution_count": 23,
          "metadata": {},
          "output_type": "execute_result"
        }
      ],
      "source": [
        "lle_art = apply_lle(scaled_numerical_art_sample)\n",
        "lle_art.head()"
      ]
    },
    {
      "cell_type": "markdown",
      "metadata": {},
      "source": [
        "# Complex Multi-linear Methods"
      ]
    },
    {
      "cell_type": "markdown",
      "metadata": {},
      "source": [
        "## UMAP (Uniform Manifold Approximation and Projection)"
      ]
    },
    {
      "cell_type": "code",
      "execution_count": 24,
      "metadata": {},
      "outputs": [
        {
          "name": "stderr",
          "output_type": "stream",
          "text": [
            "/Users/mocha/miniconda3/envs/mamba/envs/ts-torch/lib/python3.8/site-packages/tqdm/auto.py:21: TqdmWarning: IProgress not found. Please update jupyter and ipywidgets. See https://ipywidgets.readthedocs.io/en/stable/user_install.html\n",
            "  from .autonotebook import tqdm as notebook_tqdm\n"
          ]
        }
      ],
      "source": [
        "from umap import UMAP\n",
        "\n",
        "def apply_umap(scaled_df, n_components=2, n_neighbors=5):\n",
        "    umap = UMAP(n_components=n_components, n_neighbors=n_neighbors)\n",
        "    umap_df = umap.fit_transform(scaled_df)\n",
        "    umap_df = pd.DataFrame(umap_df, columns=[f'UMAP{i+1}' for i in range(n_components)])\n",
        "    return umap_df\n"
      ]
    },
    {
      "cell_type": "code",
      "execution_count": 25,
      "metadata": {},
      "outputs": [
        {
          "data": {
            "text/html": [
              "<div>\n",
              "<style scoped>\n",
              "    .dataframe tbody tr th:only-of-type {\n",
              "        vertical-align: middle;\n",
              "    }\n",
              "\n",
              "    .dataframe tbody tr th {\n",
              "        vertical-align: top;\n",
              "    }\n",
              "\n",
              "    .dataframe thead th {\n",
              "        text-align: right;\n",
              "    }\n",
              "</style>\n",
              "<table border=\"1\" class=\"dataframe\">\n",
              "  <thead>\n",
              "    <tr style=\"text-align: right;\">\n",
              "      <th></th>\n",
              "      <th>UMAP1</th>\n",
              "      <th>UMAP2</th>\n",
              "    </tr>\n",
              "  </thead>\n",
              "  <tbody>\n",
              "    <tr>\n",
              "      <th>0</th>\n",
              "      <td>7.819643</td>\n",
              "      <td>13.887558</td>\n",
              "    </tr>\n",
              "    <tr>\n",
              "      <th>1</th>\n",
              "      <td>7.742863</td>\n",
              "      <td>13.606033</td>\n",
              "    </tr>\n",
              "    <tr>\n",
              "      <th>2</th>\n",
              "      <td>-2.367343</td>\n",
              "      <td>-2.281517</td>\n",
              "    </tr>\n",
              "    <tr>\n",
              "      <th>3</th>\n",
              "      <td>-3.254508</td>\n",
              "      <td>8.821990</td>\n",
              "    </tr>\n",
              "    <tr>\n",
              "      <th>4</th>\n",
              "      <td>7.543347</td>\n",
              "      <td>13.265536</td>\n",
              "    </tr>\n",
              "  </tbody>\n",
              "</table>\n",
              "</div>"
            ],
            "text/plain": [
              "      UMAP1      UMAP2\n",
              "0  7.819643  13.887558\n",
              "1  7.742863  13.606033\n",
              "2 -2.367343  -2.281517\n",
              "3 -3.254508   8.821990\n",
              "4  7.543347  13.265536"
            ]
          },
          "execution_count": 25,
          "metadata": {},
          "output_type": "execute_result"
        }
      ],
      "source": [
        "umap_art = apply_umap(scaled_numerical_art_sample)\n",
        "umap_art.head()"
      ]
    },
    {
      "cell_type": "markdown",
      "metadata": {},
      "source": [
        "## t-SNE (t-Distributed Stochastic Neighbor Embedding)"
      ]
    },
    {
      "cell_type": "code",
      "execution_count": 27,
      "metadata": {},
      "outputs": [],
      "source": [
        "from sklearn.manifold import TSNE\n",
        "\n",
        "def apply_tsne(scaled_df, n_components=2, perplexity=15, learning_rate=200):\n",
        "    tsne = TSNE(n_components=n_components, perplexity=perplexity, learning_rate=learning_rate)\n",
        "    tsne_df = tsne.fit_transform(scaled_df)\n",
        "    tsne_df = pd.DataFrame(tsne_df, columns=[f't-SNE{i+1}' for i in range(n_components)])\n",
        "    return tsne_df\n"
      ]
    },
    {
      "cell_type": "code",
      "execution_count": 28,
      "metadata": {},
      "outputs": [
        {
          "ename": "",
          "evalue": "",
          "output_type": "error",
          "traceback": [
            "\u001b[1;31mThe Kernel crashed while executing code in the the current cell or a previous cell. Please review the code in the cell(s) to identify a possible cause of the failure. Click <a href='https://aka.ms/vscodeJupyterKernelCrash'>here</a> for more info. View Jupyter <a href='command:jupyter.viewOutput'>log</a> for further details."
          ]
        }
      ],
      "source": [
        "tsne_art = apply_tsne(scaled_numerical_art_sample)\n",
        "tsne_art.head()"
      ]
    }
  ],
  "metadata": {
    "colab": {
      "authorship_tag": "ABX9TyPQ7NQTOxDw5ncy/zwHG3LC",
      "include_colab_link": true,
      "provenance": []
    },
    "kernelspec": {
      "display_name": "Python 3",
      "name": "python3"
    },
    "language_info": {
      "codemirror_mode": {
        "name": "ipython",
        "version": 3
      },
      "file_extension": ".py",
      "mimetype": "text/x-python",
      "name": "python",
      "nbconvert_exporter": "python",
      "pygments_lexer": "ipython3",
      "version": "3.8.18"
    }
  },
  "nbformat": 4,
  "nbformat_minor": 0
}
