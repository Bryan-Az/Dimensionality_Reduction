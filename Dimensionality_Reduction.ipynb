{
  "cells": [
    {
      "cell_type": "markdown",
      "metadata": {
        "colab_type": "text",
        "id": "view-in-github"
      },
      "source": [
        "<a href=\"https://colab.research.google.com/github/Bryan-Az/Dimensionality_Reduction/blob/main/Dimensionality_Reduction.ipynb\" target=\"_parent\"><img src=\"https://colab.research.google.com/assets/colab-badge.svg\" alt=\"Open In Colab\"/></a>"
      ]
    },
    {
      "cell_type": "code",
      "execution_count": 1,
      "metadata": {},
      "outputs": [],
      "source": [
        "%load_ext autoreload\n",
        "%autoreload 2\n",
        "import pandas as pd\n",
        "import os\n",
        "import shutil\n",
        "import sys\n",
        "import zipfile\n",
        "import gensim\n",
        "import re"
      ]
    },
    {
      "cell_type": "markdown",
      "metadata": {},
      "source": [
        "# Dimensionality Reduction\n",
        "In this notebook assignment I will be using the following techniques:\n",
        "1. PCA (Principal Component Analysis) - multivariate on distinct features\n",
        "2. SVD (Singular Value Decomposition) - univariate on distinct feature\n",
        "3. MDS (Multidimensional Scaling) - multivariate on distinct feature\n",
        "4. ISOMap (Isometric Mapping)  - multivariate on distinct feature\n",
        "5. LLE (Locally Linear Embedding) - multivariate on distinct feature\n",
        "\n",
        "and seperately,\n",
        "\n",
        "1. UMAP (Uniform Manifold Approximation and Projection)\n",
        "2. t-SNE (t-Distributed Stochastic Neighbor Embedding)\n",
        "\n",
        "A key difference between UMAP and t-SNE as compared to the other 5 techniques above is that they are more advanced, and they can capture the most highly dimensional, complex, non-linear relationships within the data. UMAP and t-SNE can preserve the local structure within the data and can reveal important clusters that PCA, SVD, and other techniques may miss. "
      ]
    },
    {
      "cell_type": "markdown",
      "metadata": {},
      "source": [
        "## Data Loading"
      ]
    },
    {
      "cell_type": "code",
      "execution_count": 2,
      "metadata": {},
      "outputs": [
        {
          "name": "stdout",
          "output_type": "stream",
          "text": [
            "(1256, 40)\n"
          ]
        },
        {
          "name": "stderr",
          "output_type": "stream",
          "text": [
            "/var/folders/b8/b_prs9t152qc96jlgz5zhwt00000gn/T/ipykernel_27618/2071167283.py:18: DtypeWarning: Columns (2,10,11,14,15,16,17,24,25,32,33,34,35,37) have mixed types. Specify dtype option on import or set low_memory=False.\n",
            "  nga_art_sample = pd.concat([pd.read_csv('./data_samples/' + file, on_bad_lines='skip').sample(628), nga_art_sample])\n"
          ]
        },
        {
          "data": {
            "text/html": [
              "<div>\n",
              "<style scoped>\n",
              "    .dataframe tbody tr th:only-of-type {\n",
              "        vertical-align: middle;\n",
              "    }\n",
              "\n",
              "    .dataframe tbody tr th {\n",
              "        vertical-align: top;\n",
              "    }\n",
              "\n",
              "    .dataframe thead th {\n",
              "        text-align: right;\n",
              "    }\n",
              "</style>\n",
              "<table border=\"1\" class=\"dataframe\">\n",
              "  <thead>\n",
              "    <tr style=\"text-align: right;\">\n",
              "      <th></th>\n",
              "      <th>iiifurl</th>\n",
              "      <th>iiifthumburl</th>\n",
              "      <th>accessioned</th>\n",
              "      <th>title</th>\n",
              "      <th>displayDate_created</th>\n",
              "      <th>roletype</th>\n",
              "      <th>role</th>\n",
              "      <th>forwarddisplayname</th>\n",
              "      <th>birthyear</th>\n",
              "      <th>deathyear</th>\n",
              "      <th>...</th>\n",
              "      <th>uuid</th>\n",
              "      <th>viewtype</th>\n",
              "      <th>sequence</th>\n",
              "      <th>width</th>\n",
              "      <th>height</th>\n",
              "      <th>maxpixels</th>\n",
              "      <th>assistivetext</th>\n",
              "      <th>depictstmsobjectid</th>\n",
              "      <th>objectid</th>\n",
              "      <th>constituentid</th>\n",
              "    </tr>\n",
              "  </thead>\n",
              "  <tbody>\n",
              "    <tr>\n",
              "      <th>174</th>\n",
              "      <td>https://api.nga.gov/iiif/0037f7c4-699f-4ac3-b2...</td>\n",
              "      <td>https://api.nga.gov/iiif/0037f7c4-699f-4ac3-b2...</td>\n",
              "      <td>1</td>\n",
              "      <td>Plate 77: Dotted Bee Fly with a White Flower, ...</td>\n",
              "      <td>Flemish, 1542 - 1600</td>\n",
              "      <td>artist</td>\n",
              "      <td>artist</td>\n",
              "      <td>Joris Hoefnagel</td>\n",
              "      <td>1542</td>\n",
              "      <td>1600</td>\n",
              "      <td>...</td>\n",
              "      <td>0037f7c4-699f-4ac3-b25e-f12306ecb735</td>\n",
              "      <td>primary</td>\n",
              "      <td>0.0</td>\n",
              "      <td>4000.0</td>\n",
              "      <td>2825.0</td>\n",
              "      <td>NaN</td>\n",
              "      <td>NaN</td>\n",
              "      <td>69744.0</td>\n",
              "      <td>69744.0</td>\n",
              "      <td>2569.0</td>\n",
              "    </tr>\n",
              "    <tr>\n",
              "      <th>2237</th>\n",
              "      <td>https://api.nga.gov/iiif/02fac72f-5170-4f5f-a2...</td>\n",
              "      <td>https://api.nga.gov/iiif/02fac72f-5170-4f5f-a2...</td>\n",
              "      <td>1</td>\n",
              "      <td>Doll's Dress and Shift</td>\n",
              "      <td>American, active c. 1935</td>\n",
              "      <td>artist</td>\n",
              "      <td>artist</td>\n",
              "      <td>Rosalia Lane</td>\n",
              "      <td>1855</td>\n",
              "      <td>1995</td>\n",
              "      <td>...</td>\n",
              "      <td>02fac72f-5170-4f5f-a250-ab231522699f</td>\n",
              "      <td>primary</td>\n",
              "      <td>0.0</td>\n",
              "      <td>3405.0</td>\n",
              "      <td>4368.0</td>\n",
              "      <td>NaN</td>\n",
              "      <td>NaN</td>\n",
              "      <td>27385.0</td>\n",
              "      <td>27385.0</td>\n",
              "      <td>7746.0</td>\n",
              "    </tr>\n",
              "    <tr>\n",
              "      <th>20439</th>\n",
              "      <td>https://api.nga.gov/iiif/19eb6be1-4f8f-4098-bd...</td>\n",
              "      <td>https://api.nga.gov/iiif/19eb6be1-4f8f-4098-bd...</td>\n",
              "      <td>1</td>\n",
              "      <td>Ship Builder's Axe Head</td>\n",
              "      <td>American, active c. 1935</td>\n",
              "      <td>artist</td>\n",
              "      <td>artist</td>\n",
              "      <td>Harvey Beck</td>\n",
              "      <td>1855</td>\n",
              "      <td>1995</td>\n",
              "      <td>...</td>\n",
              "      <td>19eb6be1-4f8f-4098-bddf-bbcc94861aa9</td>\n",
              "      <td>primary</td>\n",
              "      <td>0.0</td>\n",
              "      <td>3119.0</td>\n",
              "      <td>3978.0</td>\n",
              "      <td>NaN</td>\n",
              "      <td>NaN</td>\n",
              "      <td>20536.0</td>\n",
              "      <td>20536.0</td>\n",
              "      <td>7247.0</td>\n",
              "    </tr>\n",
              "    <tr>\n",
              "      <th>186642</th>\n",
              "      <td>https://api.nga.gov/iiif/ee32f9fa-fbff-4e28-be...</td>\n",
              "      <td>https://api.nga.gov/iiif/ee32f9fa-fbff-4e28-be...</td>\n",
              "      <td>1</td>\n",
              "      <td>Cicada</td>\n",
              "      <td>American, born 1930</td>\n",
              "      <td>artist</td>\n",
              "      <td>artist</td>\n",
              "      <td>Jasper Johns</td>\n",
              "      <td>1930</td>\n",
              "      <td>NaN</td>\n",
              "      <td>...</td>\n",
              "      <td>ee32f9fa-fbff-4e28-be4c-e93b801b2986</td>\n",
              "      <td>primary</td>\n",
              "      <td>0</td>\n",
              "      <td>3002</td>\n",
              "      <td>4000</td>\n",
              "      <td>640</td>\n",
              "      <td>NaN</td>\n",
              "      <td>152020</td>\n",
              "      <td>152020.0</td>\n",
              "      <td>2136.0</td>\n",
              "    </tr>\n",
              "    <tr>\n",
              "      <th>24792</th>\n",
              "      <td>https://api.nga.gov/iiif/1f72426e-4b94-4a2d-b1...</td>\n",
              "      <td>https://api.nga.gov/iiif/1f72426e-4b94-4a2d-b1...</td>\n",
              "      <td>1</td>\n",
              "      <td>Angola, Louisiana</td>\n",
              "      <td>American, born 1951</td>\n",
              "      <td>artist</td>\n",
              "      <td>artist</td>\n",
              "      <td>Deborah Luster</td>\n",
              "      <td>1951</td>\n",
              "      <td>NaN</td>\n",
              "      <td>...</td>\n",
              "      <td>1f72426e-4b94-4a2d-b153-f400574031c2</td>\n",
              "      <td>primary</td>\n",
              "      <td>0.0</td>\n",
              "      <td>3821.0</td>\n",
              "      <td>4735.0</td>\n",
              "      <td>640.0</td>\n",
              "      <td>NaN</td>\n",
              "      <td>168403.0</td>\n",
              "      <td>168403.0</td>\n",
              "      <td>38644.0</td>\n",
              "    </tr>\n",
              "  </tbody>\n",
              "</table>\n",
              "<p>5 rows × 40 columns</p>\n",
              "</div>"
            ],
            "text/plain": [
              "                                                  iiifurl  \\\n",
              "174     https://api.nga.gov/iiif/0037f7c4-699f-4ac3-b2...   \n",
              "2237    https://api.nga.gov/iiif/02fac72f-5170-4f5f-a2...   \n",
              "20439   https://api.nga.gov/iiif/19eb6be1-4f8f-4098-bd...   \n",
              "186642  https://api.nga.gov/iiif/ee32f9fa-fbff-4e28-be...   \n",
              "24792   https://api.nga.gov/iiif/1f72426e-4b94-4a2d-b1...   \n",
              "\n",
              "                                             iiifthumburl accessioned  \\\n",
              "174     https://api.nga.gov/iiif/0037f7c4-699f-4ac3-b2...           1   \n",
              "2237    https://api.nga.gov/iiif/02fac72f-5170-4f5f-a2...           1   \n",
              "20439   https://api.nga.gov/iiif/19eb6be1-4f8f-4098-bd...           1   \n",
              "186642  https://api.nga.gov/iiif/ee32f9fa-fbff-4e28-be...           1   \n",
              "24792   https://api.nga.gov/iiif/1f72426e-4b94-4a2d-b1...           1   \n",
              "\n",
              "                                                    title  \\\n",
              "174     Plate 77: Dotted Bee Fly with a White Flower, ...   \n",
              "2237                               Doll's Dress and Shift   \n",
              "20439                             Ship Builder's Axe Head   \n",
              "186642                                             Cicada   \n",
              "24792                                   Angola, Louisiana   \n",
              "\n",
              "             displayDate_created roletype    role forwarddisplayname  \\\n",
              "174         Flemish, 1542 - 1600   artist  artist    Joris Hoefnagel   \n",
              "2237    American, active c. 1935   artist  artist       Rosalia Lane   \n",
              "20439   American, active c. 1935   artist  artist        Harvey Beck   \n",
              "186642       American, born 1930   artist  artist       Jasper Johns   \n",
              "24792        American, born 1951   artist  artist     Deborah Luster   \n",
              "\n",
              "       birthyear deathyear  ...                                  uuid  \\\n",
              "174         1542      1600  ...  0037f7c4-699f-4ac3-b25e-f12306ecb735   \n",
              "2237        1855      1995  ...  02fac72f-5170-4f5f-a250-ab231522699f   \n",
              "20439       1855      1995  ...  19eb6be1-4f8f-4098-bddf-bbcc94861aa9   \n",
              "186642      1930       NaN  ...  ee32f9fa-fbff-4e28-be4c-e93b801b2986   \n",
              "24792       1951       NaN  ...  1f72426e-4b94-4a2d-b153-f400574031c2   \n",
              "\n",
              "       viewtype sequence   width  height maxpixels assistivetext  \\\n",
              "174     primary      0.0  4000.0  2825.0       NaN           NaN   \n",
              "2237    primary      0.0  3405.0  4368.0       NaN           NaN   \n",
              "20439   primary      0.0  3119.0  3978.0       NaN           NaN   \n",
              "186642  primary        0    3002    4000       640           NaN   \n",
              "24792   primary      0.0  3821.0  4735.0     640.0           NaN   \n",
              "\n",
              "       depictstmsobjectid  objectid constituentid  \n",
              "174               69744.0   69744.0        2569.0  \n",
              "2237              27385.0   27385.0        7746.0  \n",
              "20439             20536.0   20536.0        7247.0  \n",
              "186642             152020  152020.0        2136.0  \n",
              "24792            168403.0  168403.0       38644.0  \n",
              "\n",
              "[5 rows x 40 columns]"
            ]
          },
          "execution_count": 2,
          "metadata": {},
          "output_type": "execute_result"
        }
      ],
      "source": [
        "# unpacking art_tables.zip using zipfile library and then load the two csv's (latinamerican_art.csv & non_latinamerican_art.csv)\n",
        "# into a single dataframe\n",
        "nga_art_sample = None\n",
        "with zipfile.ZipFile('./data_samples/art_tables.zip', 'r') as zip_ref:\n",
        "    zip_ref.extractall('./data_samples/')\n",
        "    for file in zip_ref.namelist():\n",
        "        if file.endswith('.csv'):\n",
        "            # only sampling 628 rows from non_latinamerican.csv file & all from latinamerican, and selecting only title and nationality\n",
        "            # latinamerican has very few rows so we are sampling all of them\n",
        "            to_sample = True if 'non_latinamerican' in file else False\n",
        "            if nga_art_sample is None:\n",
        "                if to_sample:\n",
        "                    nga_art_sample = pd.read_csv('./data_samples/' + file, on_bad_lines='skip').sample(628)\n",
        "                else:\n",
        "                    nga_art_sample = pd.read_csv('./data_samples/' + file, on_bad_lines='skip')\n",
        "            else:\n",
        "                if to_sample:\n",
        "                    nga_art_sample = pd.concat([pd.read_csv('./data_samples/' + file, on_bad_lines='skip').sample(628), nga_art_sample])\n",
        "                else:\n",
        "                    nga_art_sample = pd.concat([pd.read_csv('./data_samples/' + file, on_bad_lines='skip'), nga_art_sample])\n",
        "# delete the unzipped data directory\n",
        "shutil.rmtree('./data_samples/art_tables')\n",
        "\n",
        "print(nga_art_sample.shape)\n",
        "nga_art_sample.head()"
      ]
    },
    {
      "cell_type": "markdown",
      "metadata": {},
      "source": [
        "## Data Pre-Processing"
      ]
    },
    {
      "cell_type": "code",
      "execution_count": 3,
      "metadata": {},
      "outputs": [
        {
          "data": {
            "text/plain": [
              "Index(['iiifurl', 'iiifthumburl', 'accessioned', 'title',\n",
              "       'displayDate_created', 'roletype', 'role', 'forwarddisplayname',\n",
              "       'birthyear', 'deathyear', 'ulanid', 'artistofngaobject', 'nationality',\n",
              "       'constituenttype', 'beginyear_artistAssigned', 'endyear_artistAssigned',\n",
              "       'country_artistAssigned', 'zipcode_artistAssigned', 'medium',\n",
              "       'dimensions', 'inscription', 'markings', 'attribution',\n",
              "       'visualBrowserClassification', 'parentID', 'isVirtual', 'portfolio',\n",
              "       'series', 'volume', 'watermarks', 'uuid', 'viewtype', 'sequence',\n",
              "       'width', 'height', 'maxpixels', 'assistivetext', 'depictstmsobjectid',\n",
              "       'objectid', 'constituentid'],\n",
              "      dtype='object')"
            ]
          },
          "execution_count": 3,
          "metadata": {},
          "output_type": "execute_result"
        }
      ],
      "source": [
        "nga_art_sample.columns"
      ]
    },
    {
      "cell_type": "code",
      "execution_count": 4,
      "metadata": {},
      "outputs": [],
      "source": [
        "# selecting numerical columns from the dataset\n",
        "selected_art_sample = nga_art_sample.loc[:, ['accessioned', 'birthyear', 'deathyear', 'width', 'height', 'medium', 'viewtype']]"
      ]
    },
    {
      "cell_type": "code",
      "execution_count": 6,
      "metadata": {},
      "outputs": [
        {
          "data": {
            "text/plain": [
              "accessioned      0\n",
              "birthyear        8\n",
              "deathyear      214\n",
              "width            2\n",
              "height           4\n",
              "medium           0\n",
              "viewtype         2\n",
              "dtype: int64"
            ]
          },
          "execution_count": 6,
          "metadata": {},
          "output_type": "execute_result"
        }
      ],
      "source": [
        "# checking for null values\n",
        "selected_art_sample.isna().sum()"
      ]
    },
    {
      "cell_type": "code",
      "execution_count": 7,
      "metadata": {},
      "outputs": [],
      "source": [
        "selected_art_sample.reset_index(drop=False, inplace=True)"
      ]
    },
    {
      "cell_type": "code",
      "execution_count": 8,
      "metadata": {},
      "outputs": [],
      "source": [
        "# imputing null values with mean and also converting the columns to int\n",
        "selected_art_sample['birthyear'] = pd.to_numeric(selected_art_sample['birthyear'], errors='coerce')\n",
        "selected_art_sample['birthyear'].fillna(selected_art_sample['birthyear'].mean(), inplace=True)\n",
        "\n",
        "selected_art_sample['deathyear'] = pd.to_numeric(selected_art_sample['deathyear'], errors='coerce')\n",
        "selected_art_sample['deathyear'].fillna(selected_art_sample['deathyear'].mean(), inplace=True)\n",
        "\n",
        "selected_art_sample['width'] = pd.to_numeric(selected_art_sample['width'], errors='coerce')\n",
        "selected_art_sample['width'].fillna(selected_art_sample['width'].mean(), inplace=True)\n",
        "\n",
        "selected_art_sample['height'] = pd.to_numeric(selected_art_sample['height'], errors='coerce')\n",
        "selected_art_sample['height'].fillna(selected_art_sample['height'].mean(), inplace=True)\n",
        "\n",
        "# imputing the categorical string column 'medium' with the most frequent value\n",
        "selected_art_sample['medium'].fillna(selected_art_sample['medium'].value_counts().index[0], inplace=True)\n",
        "# imputing the categorical string column 'viewtype' with the most frequent value\n",
        "selected_art_sample['viewtype'].fillna(selected_art_sample['viewtype'].value_counts().index[0], inplace=True)\n"
      ]
    },
    {
      "cell_type": "code",
      "execution_count": 15,
      "metadata": {},
      "outputs": [
        {
          "data": {
            "text/html": [
              "<div>\n",
              "<style scoped>\n",
              "    .dataframe tbody tr th:only-of-type {\n",
              "        vertical-align: middle;\n",
              "    }\n",
              "\n",
              "    .dataframe tbody tr th {\n",
              "        vertical-align: top;\n",
              "    }\n",
              "\n",
              "    .dataframe thead th {\n",
              "        text-align: right;\n",
              "    }\n",
              "</style>\n",
              "<table border=\"1\" class=\"dataframe\">\n",
              "  <thead>\n",
              "    <tr style=\"text-align: right;\">\n",
              "      <th></th>\n",
              "      <th>medium</th>\n",
              "      <th>viewtype</th>\n",
              "    </tr>\n",
              "  </thead>\n",
              "  <tbody>\n",
              "    <tr>\n",
              "      <th>count</th>\n",
              "      <td>1256</td>\n",
              "      <td>1256</td>\n",
              "    </tr>\n",
              "    <tr>\n",
              "      <th>unique</th>\n",
              "      <td>372</td>\n",
              "      <td>3</td>\n",
              "    </tr>\n",
              "    <tr>\n",
              "      <th>top</th>\n",
              "      <td>gelatin silver print</td>\n",
              "      <td>primary</td>\n",
              "    </tr>\n",
              "    <tr>\n",
              "      <th>freq</th>\n",
              "      <td>168</td>\n",
              "      <td>1233</td>\n",
              "    </tr>\n",
              "  </tbody>\n",
              "</table>\n",
              "</div>"
            ],
            "text/plain": [
              "                      medium viewtype\n",
              "count                   1256     1256\n",
              "unique                   372        3\n",
              "top     gelatin silver print  primary\n",
              "freq                     168     1233"
            ]
          },
          "execution_count": 15,
          "metadata": {},
          "output_type": "execute_result"
        }
      ],
      "source": [
        "selected_art_sample.loc[:, ['medium', 'viewtype']].describe()"
      ]
    },
    {
      "cell_type": "code",
      "execution_count": 10,
      "metadata": {},
      "outputs": [
        {
          "data": {
            "text/html": [
              "<div>\n",
              "<style scoped>\n",
              "    .dataframe tbody tr th:only-of-type {\n",
              "        vertical-align: middle;\n",
              "    }\n",
              "\n",
              "    .dataframe tbody tr th {\n",
              "        vertical-align: top;\n",
              "    }\n",
              "\n",
              "    .dataframe thead th {\n",
              "        text-align: right;\n",
              "    }\n",
              "</style>\n",
              "<table border=\"1\" class=\"dataframe\">\n",
              "  <thead>\n",
              "    <tr style=\"text-align: right;\">\n",
              "      <th></th>\n",
              "      <th>index</th>\n",
              "      <th>birthyear</th>\n",
              "      <th>deathyear</th>\n",
              "      <th>width</th>\n",
              "      <th>height</th>\n",
              "    </tr>\n",
              "  </thead>\n",
              "  <tbody>\n",
              "    <tr>\n",
              "      <th>count</th>\n",
              "      <td>1256.000000</td>\n",
              "      <td>1256.000000</td>\n",
              "      <td>1256.000000</td>\n",
              "      <td>1256.000000</td>\n",
              "      <td>1256.000000</td>\n",
              "    </tr>\n",
              "    <tr>\n",
              "      <th>mean</th>\n",
              "      <td>50797.108280</td>\n",
              "      <td>1864.290064</td>\n",
              "      <td>1932.184438</td>\n",
              "      <td>4107.078150</td>\n",
              "      <td>4301.347444</td>\n",
              "    </tr>\n",
              "    <tr>\n",
              "      <th>std</th>\n",
              "      <td>64993.086106</td>\n",
              "      <td>115.772634</td>\n",
              "      <td>113.051420</td>\n",
              "      <td>2261.003196</td>\n",
              "      <td>2133.871492</td>\n",
              "    </tr>\n",
              "    <tr>\n",
              "      <th>min</th>\n",
              "      <td>0.000000</td>\n",
              "      <td>1100.000000</td>\n",
              "      <td>1199.000000</td>\n",
              "      <td>578.000000</td>\n",
              "      <td>976.000000</td>\n",
              "    </tr>\n",
              "    <tr>\n",
              "      <th>25%</th>\n",
              "      <td>311.750000</td>\n",
              "      <td>1855.000000</td>\n",
              "      <td>1932.184438</td>\n",
              "      <td>3075.000000</td>\n",
              "      <td>3228.500000</td>\n",
              "    </tr>\n",
              "    <tr>\n",
              "      <th>50%</th>\n",
              "      <td>625.500000</td>\n",
              "      <td>1902.000000</td>\n",
              "      <td>1969.000000</td>\n",
              "      <td>3560.500000</td>\n",
              "      <td>4000.000000</td>\n",
              "    </tr>\n",
              "    <tr>\n",
              "      <th>75%</th>\n",
              "      <td>102048.000000</td>\n",
              "      <td>1922.000000</td>\n",
              "      <td>1998.000000</td>\n",
              "      <td>4000.000000</td>\n",
              "      <td>4000.000000</td>\n",
              "    </tr>\n",
              "    <tr>\n",
              "      <th>max</th>\n",
              "      <td>199929.000000</td>\n",
              "      <td>1980.000000</td>\n",
              "      <td>2022.000000</td>\n",
              "      <td>35432.000000</td>\n",
              "      <td>20615.000000</td>\n",
              "    </tr>\n",
              "  </tbody>\n",
              "</table>\n",
              "</div>"
            ],
            "text/plain": [
              "               index    birthyear    deathyear         width        height\n",
              "count    1256.000000  1256.000000  1256.000000   1256.000000   1256.000000\n",
              "mean    50797.108280  1864.290064  1932.184438   4107.078150   4301.347444\n",
              "std     64993.086106   115.772634   113.051420   2261.003196   2133.871492\n",
              "min         0.000000  1100.000000  1199.000000    578.000000    976.000000\n",
              "25%       311.750000  1855.000000  1932.184438   3075.000000   3228.500000\n",
              "50%       625.500000  1902.000000  1969.000000   3560.500000   4000.000000\n",
              "75%    102048.000000  1922.000000  1998.000000   4000.000000   4000.000000\n",
              "max    199929.000000  1980.000000  2022.000000  35432.000000  20615.000000"
            ]
          },
          "execution_count": 10,
          "metadata": {},
          "output_type": "execute_result"
        }
      ],
      "source": [
        "selected_art_sample.describe()"
      ]
    },
    {
      "cell_type": "markdown",
      "metadata": {},
      "source": [
        "## Scaling the selected art sample for use in Dimensionality Reduction"
      ]
    },
    {
      "cell_type": "code",
      "execution_count": 16,
      "metadata": {},
      "outputs": [
        {
          "ename": "ValueError",
          "evalue": "could not convert string to float: 'François Hutin'",
          "output_type": "error",
          "traceback": [
            "\u001b[0;31m---------------------------------------------------------------------------\u001b[0m",
            "\u001b[0;31mValueError\u001b[0m                                Traceback (most recent call last)",
            "\u001b[0;32m/var/folders/b8/b_prs9t152qc96jlgz5zhwt00000gn/T/ipykernel_27618/257849165.py\u001b[0m in \u001b[0;36m?\u001b[0;34m()\u001b[0m\n\u001b[0;32m----> 5\u001b[0;31m \u001b[0;32mfrom\u001b[0m \u001b[0msklearn\u001b[0m\u001b[0;34m.\u001b[0m\u001b[0mpreprocessing\u001b[0m \u001b[0;32mimport\u001b[0m \u001b[0mStandardScaler\u001b[0m\u001b[0;34m\u001b[0m\u001b[0;34m\u001b[0m\u001b[0m\n\u001b[0m\u001b[1;32m      6\u001b[0m \u001b[0;31m# applying the standard scaler to the numerical data\u001b[0m\u001b[0;34m\u001b[0m\u001b[0;34m\u001b[0m\u001b[0;34m\u001b[0m\u001b[0m\n\u001b[1;32m      7\u001b[0m \u001b[0mscaler\u001b[0m \u001b[0;34m=\u001b[0m \u001b[0mStandardScaler\u001b[0m\u001b[0;34m(\u001b[0m\u001b[0;34m)\u001b[0m\u001b[0;34m\u001b[0m\u001b[0;34m\u001b[0m\u001b[0m\n\u001b[1;32m      8\u001b[0m \u001b[0mselected_numerical_art_sample\u001b[0m \u001b[0;34m=\u001b[0m \u001b[0mselected_art_sample\u001b[0m\u001b[0;34m.\u001b[0m\u001b[0mloc\u001b[0m\u001b[0;34m[\u001b[0m\u001b[0;34m:\u001b[0m\u001b[0;34m,\u001b[0m \u001b[0;34m[\u001b[0m\u001b[0;34m'birthyear'\u001b[0m\u001b[0;34m,\u001b[0m \u001b[0;34m'deathyear'\u001b[0m\u001b[0;34m,\u001b[0m \u001b[0;34m'width'\u001b[0m\u001b[0;34m,\u001b[0m \u001b[0;34m'height'\u001b[0m\u001b[0;34m]\u001b[0m\u001b[0;34m]\u001b[0m\u001b[0;34m\u001b[0m\u001b[0;34m\u001b[0m\u001b[0m\n",
            "\u001b[0;32m~/miniconda3/envs/mamba/envs/ts-torch/lib/python3.8/site-packages/sklearn/preprocessing/_data.py\u001b[0m in \u001b[0;36m?\u001b[0;34m(self, X, y, sample_weight)\u001b[0m\n\u001b[1;32m    820\u001b[0m             \u001b[0mFitted\u001b[0m \u001b[0mscaler\u001b[0m\u001b[0;34m.\u001b[0m\u001b[0;34m\u001b[0m\u001b[0;34m\u001b[0m\u001b[0m\n\u001b[1;32m    821\u001b[0m         \"\"\"\n\u001b[1;32m    822\u001b[0m         \u001b[0;31m# Reset internal state before fitting\u001b[0m\u001b[0;34m\u001b[0m\u001b[0;34m\u001b[0m\u001b[0;34m\u001b[0m\u001b[0m\n\u001b[1;32m    823\u001b[0m         \u001b[0mself\u001b[0m\u001b[0;34m.\u001b[0m\u001b[0m_reset\u001b[0m\u001b[0;34m(\u001b[0m\u001b[0;34m)\u001b[0m\u001b[0;34m\u001b[0m\u001b[0;34m\u001b[0m\u001b[0m\n\u001b[0;32m--> 824\u001b[0;31m         \u001b[0;32mreturn\u001b[0m \u001b[0mself\u001b[0m\u001b[0;34m.\u001b[0m\u001b[0mpartial_fit\u001b[0m\u001b[0;34m(\u001b[0m\u001b[0mX\u001b[0m\u001b[0;34m,\u001b[0m \u001b[0my\u001b[0m\u001b[0;34m,\u001b[0m \u001b[0msample_weight\u001b[0m\u001b[0;34m)\u001b[0m\u001b[0;34m\u001b[0m\u001b[0;34m\u001b[0m\u001b[0m\n\u001b[0m",
            "\u001b[0;32m~/miniconda3/envs/mamba/envs/ts-torch/lib/python3.8/site-packages/sklearn/preprocessing/_data.py\u001b[0m in \u001b[0;36m?\u001b[0;34m(self, X, y, sample_weight)\u001b[0m\n\u001b[1;32m    857\u001b[0m         \"\"\"\n\u001b[1;32m    858\u001b[0m         \u001b[0mself\u001b[0m\u001b[0;34m.\u001b[0m\u001b[0m_validate_params\u001b[0m\u001b[0;34m(\u001b[0m\u001b[0;34m)\u001b[0m\u001b[0;34m\u001b[0m\u001b[0;34m\u001b[0m\u001b[0m\n\u001b[1;32m    859\u001b[0m \u001b[0;34m\u001b[0m\u001b[0m\n\u001b[1;32m    860\u001b[0m         \u001b[0mfirst_call\u001b[0m \u001b[0;34m=\u001b[0m \u001b[0;32mnot\u001b[0m \u001b[0mhasattr\u001b[0m\u001b[0;34m(\u001b[0m\u001b[0mself\u001b[0m\u001b[0;34m,\u001b[0m \u001b[0;34m\"n_samples_seen_\"\u001b[0m\u001b[0;34m)\u001b[0m\u001b[0;34m\u001b[0m\u001b[0;34m\u001b[0m\u001b[0m\n\u001b[0;32m--> 861\u001b[0;31m         X = self._validate_data(\n\u001b[0m\u001b[1;32m    862\u001b[0m             \u001b[0mX\u001b[0m\u001b[0;34m,\u001b[0m\u001b[0;34m\u001b[0m\u001b[0;34m\u001b[0m\u001b[0m\n\u001b[1;32m    863\u001b[0m             \u001b[0maccept_sparse\u001b[0m\u001b[0;34m=\u001b[0m\u001b[0;34m(\u001b[0m\u001b[0;34m\"csr\"\u001b[0m\u001b[0;34m,\u001b[0m \u001b[0;34m\"csc\"\u001b[0m\u001b[0;34m)\u001b[0m\u001b[0;34m,\u001b[0m\u001b[0;34m\u001b[0m\u001b[0;34m\u001b[0m\u001b[0m\n\u001b[1;32m    864\u001b[0m             \u001b[0mdtype\u001b[0m\u001b[0;34m=\u001b[0m\u001b[0mFLOAT_DTYPES\u001b[0m\u001b[0;34m,\u001b[0m\u001b[0;34m\u001b[0m\u001b[0;34m\u001b[0m\u001b[0m\n",
            "\u001b[0;32m~/miniconda3/envs/mamba/envs/ts-torch/lib/python3.8/site-packages/sklearn/base.py\u001b[0m in \u001b[0;36m?\u001b[0;34m(self, X, y, reset, validate_separately, **check_params)\u001b[0m\n\u001b[1;32m    561\u001b[0m \u001b[0;34m\u001b[0m\u001b[0m\n\u001b[1;32m    562\u001b[0m         \u001b[0;32mif\u001b[0m \u001b[0mno_val_X\u001b[0m \u001b[0;32mand\u001b[0m \u001b[0mno_val_y\u001b[0m\u001b[0;34m:\u001b[0m\u001b[0;34m\u001b[0m\u001b[0;34m\u001b[0m\u001b[0m\n\u001b[1;32m    563\u001b[0m             \u001b[0;32mraise\u001b[0m \u001b[0mValueError\u001b[0m\u001b[0;34m(\u001b[0m\u001b[0;34m\"Validation should be done on X, y or both.\"\u001b[0m\u001b[0;34m)\u001b[0m\u001b[0;34m\u001b[0m\u001b[0;34m\u001b[0m\u001b[0m\n\u001b[1;32m    564\u001b[0m         \u001b[0;32melif\u001b[0m \u001b[0;32mnot\u001b[0m \u001b[0mno_val_X\u001b[0m \u001b[0;32mand\u001b[0m \u001b[0mno_val_y\u001b[0m\u001b[0;34m:\u001b[0m\u001b[0;34m\u001b[0m\u001b[0;34m\u001b[0m\u001b[0m\n\u001b[0;32m--> 565\u001b[0;31m             \u001b[0mX\u001b[0m \u001b[0;34m=\u001b[0m \u001b[0mcheck_array\u001b[0m\u001b[0;34m(\u001b[0m\u001b[0mX\u001b[0m\u001b[0;34m,\u001b[0m \u001b[0minput_name\u001b[0m\u001b[0;34m=\u001b[0m\u001b[0;34m\"X\"\u001b[0m\u001b[0;34m,\u001b[0m \u001b[0;34m**\u001b[0m\u001b[0mcheck_params\u001b[0m\u001b[0;34m)\u001b[0m\u001b[0;34m\u001b[0m\u001b[0;34m\u001b[0m\u001b[0m\n\u001b[0m\u001b[1;32m    566\u001b[0m             \u001b[0mout\u001b[0m \u001b[0;34m=\u001b[0m \u001b[0mX\u001b[0m\u001b[0;34m\u001b[0m\u001b[0;34m\u001b[0m\u001b[0m\n\u001b[1;32m    567\u001b[0m         \u001b[0;32melif\u001b[0m \u001b[0mno_val_X\u001b[0m \u001b[0;32mand\u001b[0m \u001b[0;32mnot\u001b[0m \u001b[0mno_val_y\u001b[0m\u001b[0;34m:\u001b[0m\u001b[0;34m\u001b[0m\u001b[0;34m\u001b[0m\u001b[0m\n\u001b[1;32m    568\u001b[0m             \u001b[0my\u001b[0m \u001b[0;34m=\u001b[0m \u001b[0m_check_y\u001b[0m\u001b[0;34m(\u001b[0m\u001b[0my\u001b[0m\u001b[0;34m,\u001b[0m \u001b[0;34m**\u001b[0m\u001b[0mcheck_params\u001b[0m\u001b[0;34m)\u001b[0m\u001b[0;34m\u001b[0m\u001b[0;34m\u001b[0m\u001b[0m\n",
            "\u001b[0;32m~/miniconda3/envs/mamba/envs/ts-torch/lib/python3.8/site-packages/sklearn/utils/validation.py\u001b[0m in \u001b[0;36m?\u001b[0;34m(array, accept_sparse, accept_large_sparse, dtype, order, copy, force_all_finite, ensure_2d, allow_nd, ensure_min_samples, ensure_min_features, estimator, input_name)\u001b[0m\n\u001b[1;32m    877\u001b[0m                     \u001b[0marray\u001b[0m \u001b[0;34m=\u001b[0m \u001b[0mxp\u001b[0m\u001b[0;34m.\u001b[0m\u001b[0mastype\u001b[0m\u001b[0;34m(\u001b[0m\u001b[0marray\u001b[0m\u001b[0;34m,\u001b[0m \u001b[0mdtype\u001b[0m\u001b[0;34m,\u001b[0m \u001b[0mcopy\u001b[0m\u001b[0;34m=\u001b[0m\u001b[0;32mFalse\u001b[0m\u001b[0;34m)\u001b[0m\u001b[0;34m\u001b[0m\u001b[0;34m\u001b[0m\u001b[0m\n\u001b[1;32m    878\u001b[0m                 \u001b[0;32melse\u001b[0m\u001b[0;34m:\u001b[0m\u001b[0;34m\u001b[0m\u001b[0;34m\u001b[0m\u001b[0m\n\u001b[1;32m    879\u001b[0m                     \u001b[0marray\u001b[0m \u001b[0;34m=\u001b[0m \u001b[0m_asarray_with_order\u001b[0m\u001b[0;34m(\u001b[0m\u001b[0marray\u001b[0m\u001b[0;34m,\u001b[0m \u001b[0morder\u001b[0m\u001b[0;34m=\u001b[0m\u001b[0morder\u001b[0m\u001b[0;34m,\u001b[0m \u001b[0mdtype\u001b[0m\u001b[0;34m=\u001b[0m\u001b[0mdtype\u001b[0m\u001b[0;34m,\u001b[0m \u001b[0mxp\u001b[0m\u001b[0;34m=\u001b[0m\u001b[0mxp\u001b[0m\u001b[0;34m)\u001b[0m\u001b[0;34m\u001b[0m\u001b[0;34m\u001b[0m\u001b[0m\n\u001b[1;32m    880\u001b[0m             \u001b[0;32mexcept\u001b[0m \u001b[0mComplexWarning\u001b[0m \u001b[0;32mas\u001b[0m \u001b[0mcomplex_warning\u001b[0m\u001b[0;34m:\u001b[0m\u001b[0;34m\u001b[0m\u001b[0;34m\u001b[0m\u001b[0m\n\u001b[0;32m--> 881\u001b[0;31m                 raise ValueError(\n\u001b[0m\u001b[1;32m    882\u001b[0m                     \u001b[0;34m\"Complex data not supported\\n{}\\n\"\u001b[0m\u001b[0;34m.\u001b[0m\u001b[0mformat\u001b[0m\u001b[0;34m(\u001b[0m\u001b[0marray\u001b[0m\u001b[0;34m)\u001b[0m\u001b[0;34m\u001b[0m\u001b[0;34m\u001b[0m\u001b[0m\n\u001b[1;32m    883\u001b[0m                 ) from complex_warning\n\u001b[1;32m    884\u001b[0m \u001b[0;34m\u001b[0m\u001b[0m\n",
            "\u001b[0;32m~/miniconda3/envs/mamba/envs/ts-torch/lib/python3.8/site-packages/sklearn/utils/_array_api.py\u001b[0m in \u001b[0;36m?\u001b[0;34m(array, dtype, order, copy, xp)\u001b[0m\n\u001b[1;32m    181\u001b[0m     \u001b[0;32mif\u001b[0m \u001b[0mxp\u001b[0m \u001b[0;32mis\u001b[0m \u001b[0;32mNone\u001b[0m\u001b[0;34m:\u001b[0m\u001b[0;34m\u001b[0m\u001b[0;34m\u001b[0m\u001b[0m\n\u001b[1;32m    182\u001b[0m         \u001b[0mxp\u001b[0m\u001b[0;34m,\u001b[0m \u001b[0m_\u001b[0m \u001b[0;34m=\u001b[0m \u001b[0mget_namespace\u001b[0m\u001b[0;34m(\u001b[0m\u001b[0marray\u001b[0m\u001b[0;34m)\u001b[0m\u001b[0;34m\u001b[0m\u001b[0;34m\u001b[0m\u001b[0m\n\u001b[1;32m    183\u001b[0m     \u001b[0;32mif\u001b[0m \u001b[0mxp\u001b[0m\u001b[0;34m.\u001b[0m\u001b[0m__name__\u001b[0m \u001b[0;32min\u001b[0m \u001b[0;34m{\u001b[0m\u001b[0;34m\"numpy\"\u001b[0m\u001b[0;34m,\u001b[0m \u001b[0;34m\"numpy.array_api\"\u001b[0m\u001b[0;34m}\u001b[0m\u001b[0;34m:\u001b[0m\u001b[0;34m\u001b[0m\u001b[0;34m\u001b[0m\u001b[0m\n\u001b[1;32m    184\u001b[0m         \u001b[0;31m# Use NumPy API to support order\u001b[0m\u001b[0;34m\u001b[0m\u001b[0;34m\u001b[0m\u001b[0;34m\u001b[0m\u001b[0m\n\u001b[0;32m--> 185\u001b[0;31m         \u001b[0marray\u001b[0m \u001b[0;34m=\u001b[0m \u001b[0mnumpy\u001b[0m\u001b[0;34m.\u001b[0m\u001b[0masarray\u001b[0m\u001b[0;34m(\u001b[0m\u001b[0marray\u001b[0m\u001b[0;34m,\u001b[0m \u001b[0morder\u001b[0m\u001b[0;34m=\u001b[0m\u001b[0morder\u001b[0m\u001b[0;34m,\u001b[0m \u001b[0mdtype\u001b[0m\u001b[0;34m=\u001b[0m\u001b[0mdtype\u001b[0m\u001b[0;34m)\u001b[0m\u001b[0;34m\u001b[0m\u001b[0;34m\u001b[0m\u001b[0m\n\u001b[0m\u001b[1;32m    186\u001b[0m         \u001b[0;32mreturn\u001b[0m \u001b[0mxp\u001b[0m\u001b[0;34m.\u001b[0m\u001b[0masarray\u001b[0m\u001b[0;34m(\u001b[0m\u001b[0marray\u001b[0m\u001b[0;34m,\u001b[0m \u001b[0mcopy\u001b[0m\u001b[0;34m=\u001b[0m\u001b[0mcopy\u001b[0m\u001b[0;34m)\u001b[0m\u001b[0;34m\u001b[0m\u001b[0;34m\u001b[0m\u001b[0m\n\u001b[1;32m    187\u001b[0m     \u001b[0;32melse\u001b[0m\u001b[0;34m:\u001b[0m\u001b[0;34m\u001b[0m\u001b[0;34m\u001b[0m\u001b[0m\n\u001b[1;32m    188\u001b[0m         \u001b[0;32mreturn\u001b[0m \u001b[0mxp\u001b[0m\u001b[0;34m.\u001b[0m\u001b[0masarray\u001b[0m\u001b[0;34m(\u001b[0m\u001b[0marray\u001b[0m\u001b[0;34m,\u001b[0m \u001b[0mdtype\u001b[0m\u001b[0;34m=\u001b[0m\u001b[0mdtype\u001b[0m\u001b[0;34m,\u001b[0m \u001b[0mcopy\u001b[0m\u001b[0;34m=\u001b[0m\u001b[0mcopy\u001b[0m\u001b[0;34m)\u001b[0m\u001b[0;34m\u001b[0m\u001b[0;34m\u001b[0m\u001b[0m\n",
            "\u001b[0;32m~/miniconda3/envs/mamba/envs/ts-torch/lib/python3.8/site-packages/pandas/core/generic.py\u001b[0m in \u001b[0;36m?\u001b[0;34m(self, dtype)\u001b[0m\n\u001b[1;32m   1996\u001b[0m     \u001b[0;32mdef\u001b[0m \u001b[0m__array__\u001b[0m\u001b[0;34m(\u001b[0m\u001b[0mself\u001b[0m\u001b[0;34m,\u001b[0m \u001b[0mdtype\u001b[0m\u001b[0;34m:\u001b[0m \u001b[0mnpt\u001b[0m\u001b[0;34m.\u001b[0m\u001b[0mDTypeLike\u001b[0m \u001b[0;34m|\u001b[0m \u001b[0;32mNone\u001b[0m \u001b[0;34m=\u001b[0m \u001b[0;32mNone\u001b[0m\u001b[0;34m)\u001b[0m \u001b[0;34m->\u001b[0m \u001b[0mnp\u001b[0m\u001b[0;34m.\u001b[0m\u001b[0mndarray\u001b[0m\u001b[0;34m:\u001b[0m\u001b[0;34m\u001b[0m\u001b[0;34m\u001b[0m\u001b[0m\n\u001b[1;32m   1997\u001b[0m         \u001b[0mvalues\u001b[0m \u001b[0;34m=\u001b[0m \u001b[0mself\u001b[0m\u001b[0;34m.\u001b[0m\u001b[0m_values\u001b[0m\u001b[0;34m\u001b[0m\u001b[0;34m\u001b[0m\u001b[0m\n\u001b[0;32m-> 1998\u001b[0;31m         \u001b[0marr\u001b[0m \u001b[0;34m=\u001b[0m \u001b[0mnp\u001b[0m\u001b[0;34m.\u001b[0m\u001b[0masarray\u001b[0m\u001b[0;34m(\u001b[0m\u001b[0mvalues\u001b[0m\u001b[0;34m,\u001b[0m \u001b[0mdtype\u001b[0m\u001b[0;34m=\u001b[0m\u001b[0mdtype\u001b[0m\u001b[0;34m)\u001b[0m\u001b[0;34m\u001b[0m\u001b[0;34m\u001b[0m\u001b[0m\n\u001b[0m\u001b[1;32m   1999\u001b[0m         if (\n\u001b[1;32m   2000\u001b[0m             \u001b[0mastype_is_view\u001b[0m\u001b[0;34m(\u001b[0m\u001b[0mvalues\u001b[0m\u001b[0;34m.\u001b[0m\u001b[0mdtype\u001b[0m\u001b[0;34m,\u001b[0m \u001b[0marr\u001b[0m\u001b[0;34m.\u001b[0m\u001b[0mdtype\u001b[0m\u001b[0;34m)\u001b[0m\u001b[0;34m\u001b[0m\u001b[0;34m\u001b[0m\u001b[0m\n\u001b[1;32m   2001\u001b[0m             \u001b[0;32mand\u001b[0m \u001b[0musing_copy_on_write\u001b[0m\u001b[0;34m(\u001b[0m\u001b[0;34m)\u001b[0m\u001b[0;34m\u001b[0m\u001b[0;34m\u001b[0m\u001b[0m\n",
            "\u001b[0;31mValueError\u001b[0m: could not convert string to float: 'François Hutin'"
          ]
        }
      ],
      "source": [
        "from sklearn.preprocessing import StandardScaler\n",
        "# applying the standard scaler to the numerical data\n",
        "scaler = StandardScaler()\n",
        "selected_numerical_art_sample = selected_art_sample.loc[:, ['birthyear', 'deathyear', 'width', 'height']]\n",
        "scaler.fit(selected_art_sample)\n",
        "scaled_numerical_art_sample = scaler.transform(selected_numerical_art_sample)\n",
        "scaled_numerical_art_sample = pd.DataFrame(scaler.transform(selected_numerical_art_sample), columns=selected_numerical_art_sample.columns)"
      ]
    },
    {
      "cell_type": "markdown",
      "metadata": {},
      "source": [
        "# Simpler Linear Methods"
      ]
    },
    {
      "cell_type": "markdown",
      "metadata": {},
      "source": [
        "## PCA (Principal Component Analysis)"
      ]
    },
    {
      "cell_type": "code",
      "execution_count": null,
      "metadata": {},
      "outputs": [],
      "source": [
        "# applying PCA to the scaled data\n",
        "pca = PCA(n_components=2)\n",
        "pca.fit(scaled_df_interpretable)\n",
        "pca_df = pca.transform(scaled_df_interpretable)\n",
        "pca_df = pd.DataFrame(pca_df, columns=['PC1', 'PC2'])\n",
        "pca_df.head()"
      ]
    },
    {
      "cell_type": "markdown",
      "metadata": {},
      "source": [
        "## SVD (Singular Value Decomposition)"
      ]
    },
    {
      "cell_type": "code",
      "execution_count": null,
      "metadata": {},
      "outputs": [],
      "source": []
    },
    {
      "cell_type": "markdown",
      "metadata": {},
      "source": [
        "## MDS (Multidimensional Scaling)"
      ]
    },
    {
      "cell_type": "code",
      "execution_count": null,
      "metadata": {},
      "outputs": [],
      "source": []
    },
    {
      "cell_type": "markdown",
      "metadata": {},
      "source": [
        "## ISOMap (Isometric Mapping) "
      ]
    },
    {
      "cell_type": "code",
      "execution_count": null,
      "metadata": {},
      "outputs": [],
      "source": []
    },
    {
      "cell_type": "markdown",
      "metadata": {},
      "source": [
        "## LLE (Locally Linear Embedding)"
      ]
    },
    {
      "cell_type": "code",
      "execution_count": null,
      "metadata": {},
      "outputs": [],
      "source": []
    },
    {
      "cell_type": "markdown",
      "metadata": {},
      "source": [
        "# Complex Multi-linear Methods"
      ]
    },
    {
      "cell_type": "markdown",
      "metadata": {},
      "source": [
        "## UMAP (Uniform Manifold Approximation and Projection)"
      ]
    },
    {
      "cell_type": "code",
      "execution_count": null,
      "metadata": {},
      "outputs": [],
      "source": []
    },
    {
      "cell_type": "markdown",
      "metadata": {},
      "source": [
        "## t-SNE (t-Distributed Stochastic Neighbor Embedding)"
      ]
    },
    {
      "cell_type": "code",
      "execution_count": null,
      "metadata": {},
      "outputs": [],
      "source": []
    }
  ],
  "metadata": {
    "colab": {
      "authorship_tag": "ABX9TyPQ7NQTOxDw5ncy/zwHG3LC",
      "include_colab_link": true,
      "provenance": []
    },
    "kernelspec": {
      "display_name": "Python 3",
      "name": "python3"
    },
    "language_info": {
      "codemirror_mode": {
        "name": "ipython",
        "version": 3
      },
      "file_extension": ".py",
      "mimetype": "text/x-python",
      "name": "python",
      "nbconvert_exporter": "python",
      "pygments_lexer": "ipython3",
      "version": "3.8.18"
    }
  },
  "nbformat": 4,
  "nbformat_minor": 0
}
